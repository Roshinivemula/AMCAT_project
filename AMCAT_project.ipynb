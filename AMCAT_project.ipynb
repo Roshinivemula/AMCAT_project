{
 "cells": [
  {
   "cell_type": "markdown",
   "id": "c3a15f79",
   "metadata": {},
   "source": [
    "## Exploratory Data Analysis\n",
    "\n",
    "In this we can perform\n",
    "\n",
    "#### a. Data cleaning\n",
    "#### b. Data Manipulation\n",
    "#### c. Univariate Analysis\n",
    "#### d. Bivariate Analysis\n",
    "\n",
    "#### About the Dataset:\n",
    "\n",
    "1. The dataset was released by Aspiring Minds from the Aspiring Mind Employment Outcome 2015 (AMEO).\n",
    "2. The study is primarily limited only to students with engineering disciplines.\n",
    "3. The dataset contains the employment outcomes of engineering graduates as dependent variables (Salary, Job Titles, and Job Locations) along with the standardized scores from three different areas – cognitive skills, technical skills and personality skills.\n",
    "4. The dataset also contains demographic features. The dataset contains around 40 independent variables and 4000 data points.\n",
    "5. The independent variables are both continuous and categorical in nature. The dataset contains a unique identifier for each candidate. "
   ]
  },
  {
   "cell_type": "markdown",
   "id": "81babb85",
   "metadata": {},
   "source": [
    "### Importing Libraries "
   ]
  },
  {
   "cell_type": "code",
   "execution_count": 285,
   "id": "ee0eabea",
   "metadata": {},
   "outputs": [],
   "source": [
    "import pandas as pd\n",
    "import numpy as np\n",
    "import seaborn as sns\n",
    "import matplotlib.pyplot as plt"
   ]
  },
  {
   "cell_type": "markdown",
   "id": "15023c81",
   "metadata": {},
   "source": [
    "### Loading the Dataset "
   ]
  },
  {
   "cell_type": "code",
   "execution_count": 219,
   "id": "68e8bcbe",
   "metadata": {},
   "outputs": [
    {
     "data": {
      "text/html": [
       "<div>\n",
       "<style scoped>\n",
       "    .dataframe tbody tr th:only-of-type {\n",
       "        vertical-align: middle;\n",
       "    }\n",
       "\n",
       "    .dataframe tbody tr th {\n",
       "        vertical-align: top;\n",
       "    }\n",
       "\n",
       "    .dataframe thead th {\n",
       "        text-align: right;\n",
       "    }\n",
       "</style>\n",
       "<table border=\"1\" class=\"dataframe\">\n",
       "  <thead>\n",
       "    <tr style=\"text-align: right;\">\n",
       "      <th></th>\n",
       "      <th>Unnamed: 0</th>\n",
       "      <th>ID</th>\n",
       "      <th>Salary</th>\n",
       "      <th>DOJ</th>\n",
       "      <th>DOL</th>\n",
       "      <th>Designation</th>\n",
       "      <th>JobCity</th>\n",
       "      <th>Gender</th>\n",
       "      <th>DOB</th>\n",
       "      <th>10percentage</th>\n",
       "      <th>...</th>\n",
       "      <th>ComputerScience</th>\n",
       "      <th>MechanicalEngg</th>\n",
       "      <th>ElectricalEngg</th>\n",
       "      <th>TelecomEngg</th>\n",
       "      <th>CivilEngg</th>\n",
       "      <th>conscientiousness</th>\n",
       "      <th>agreeableness</th>\n",
       "      <th>extraversion</th>\n",
       "      <th>nueroticism</th>\n",
       "      <th>openess_to_experience</th>\n",
       "    </tr>\n",
       "  </thead>\n",
       "  <tbody>\n",
       "    <tr>\n",
       "      <th>0</th>\n",
       "      <td>train</td>\n",
       "      <td>203097</td>\n",
       "      <td>420000</td>\n",
       "      <td>2012-06-01</td>\n",
       "      <td>present</td>\n",
       "      <td>senior quality engineer</td>\n",
       "      <td>Bangalore</td>\n",
       "      <td>f</td>\n",
       "      <td>1990-02-19</td>\n",
       "      <td>84.3</td>\n",
       "      <td>...</td>\n",
       "      <td>-1</td>\n",
       "      <td>-1</td>\n",
       "      <td>-1</td>\n",
       "      <td>-1</td>\n",
       "      <td>-1</td>\n",
       "      <td>0.9737</td>\n",
       "      <td>0.8128</td>\n",
       "      <td>0.5269</td>\n",
       "      <td>1.35490</td>\n",
       "      <td>-0.4455</td>\n",
       "    </tr>\n",
       "    <tr>\n",
       "      <th>1</th>\n",
       "      <td>train</td>\n",
       "      <td>579905</td>\n",
       "      <td>500000</td>\n",
       "      <td>2013-09-01</td>\n",
       "      <td>present</td>\n",
       "      <td>assistant manager</td>\n",
       "      <td>Indore</td>\n",
       "      <td>m</td>\n",
       "      <td>1989-10-04</td>\n",
       "      <td>85.4</td>\n",
       "      <td>...</td>\n",
       "      <td>-1</td>\n",
       "      <td>-1</td>\n",
       "      <td>-1</td>\n",
       "      <td>-1</td>\n",
       "      <td>-1</td>\n",
       "      <td>-0.7335</td>\n",
       "      <td>0.3789</td>\n",
       "      <td>1.2396</td>\n",
       "      <td>-0.10760</td>\n",
       "      <td>0.8637</td>\n",
       "    </tr>\n",
       "    <tr>\n",
       "      <th>2</th>\n",
       "      <td>train</td>\n",
       "      <td>810601</td>\n",
       "      <td>325000</td>\n",
       "      <td>2014-06-01</td>\n",
       "      <td>present</td>\n",
       "      <td>systems engineer</td>\n",
       "      <td>Chennai</td>\n",
       "      <td>f</td>\n",
       "      <td>1992-08-03</td>\n",
       "      <td>85.0</td>\n",
       "      <td>...</td>\n",
       "      <td>-1</td>\n",
       "      <td>-1</td>\n",
       "      <td>-1</td>\n",
       "      <td>-1</td>\n",
       "      <td>-1</td>\n",
       "      <td>0.2718</td>\n",
       "      <td>1.7109</td>\n",
       "      <td>0.1637</td>\n",
       "      <td>-0.86820</td>\n",
       "      <td>0.6721</td>\n",
       "    </tr>\n",
       "    <tr>\n",
       "      <th>3</th>\n",
       "      <td>train</td>\n",
       "      <td>267447</td>\n",
       "      <td>1100000</td>\n",
       "      <td>2011-07-01</td>\n",
       "      <td>present</td>\n",
       "      <td>senior software engineer</td>\n",
       "      <td>Gurgaon</td>\n",
       "      <td>m</td>\n",
       "      <td>1989-12-05</td>\n",
       "      <td>85.6</td>\n",
       "      <td>...</td>\n",
       "      <td>-1</td>\n",
       "      <td>-1</td>\n",
       "      <td>-1</td>\n",
       "      <td>-1</td>\n",
       "      <td>-1</td>\n",
       "      <td>0.0464</td>\n",
       "      <td>0.3448</td>\n",
       "      <td>-0.3440</td>\n",
       "      <td>-0.40780</td>\n",
       "      <td>-0.9194</td>\n",
       "    </tr>\n",
       "    <tr>\n",
       "      <th>4</th>\n",
       "      <td>train</td>\n",
       "      <td>343523</td>\n",
       "      <td>200000</td>\n",
       "      <td>2014-03-01</td>\n",
       "      <td>2015-03-01 00:00:00</td>\n",
       "      <td>get</td>\n",
       "      <td>Manesar</td>\n",
       "      <td>m</td>\n",
       "      <td>1991-02-27</td>\n",
       "      <td>78.0</td>\n",
       "      <td>...</td>\n",
       "      <td>-1</td>\n",
       "      <td>-1</td>\n",
       "      <td>-1</td>\n",
       "      <td>-1</td>\n",
       "      <td>-1</td>\n",
       "      <td>-0.8810</td>\n",
       "      <td>-0.2793</td>\n",
       "      <td>-1.0697</td>\n",
       "      <td>0.09163</td>\n",
       "      <td>-0.1295</td>\n",
       "    </tr>\n",
       "  </tbody>\n",
       "</table>\n",
       "<p>5 rows × 39 columns</p>\n",
       "</div>"
      ],
      "text/plain": [
       "  Unnamed: 0      ID   Salary        DOJ                  DOL  \\\n",
       "0      train  203097   420000 2012-06-01              present   \n",
       "1      train  579905   500000 2013-09-01              present   \n",
       "2      train  810601   325000 2014-06-01              present   \n",
       "3      train  267447  1100000 2011-07-01              present   \n",
       "4      train  343523   200000 2014-03-01  2015-03-01 00:00:00   \n",
       "\n",
       "                Designation    JobCity Gender        DOB  10percentage  ...  \\\n",
       "0   senior quality engineer  Bangalore      f 1990-02-19          84.3  ...   \n",
       "1         assistant manager     Indore      m 1989-10-04          85.4  ...   \n",
       "2          systems engineer    Chennai      f 1992-08-03          85.0  ...   \n",
       "3  senior software engineer    Gurgaon      m 1989-12-05          85.6  ...   \n",
       "4                       get    Manesar      m 1991-02-27          78.0  ...   \n",
       "\n",
       "  ComputerScience  MechanicalEngg  ElectricalEngg TelecomEngg  CivilEngg  \\\n",
       "0              -1              -1              -1          -1         -1   \n",
       "1              -1              -1              -1          -1         -1   \n",
       "2              -1              -1              -1          -1         -1   \n",
       "3              -1              -1              -1          -1         -1   \n",
       "4              -1              -1              -1          -1         -1   \n",
       "\n",
       "   conscientiousness agreeableness extraversion  nueroticism  \\\n",
       "0             0.9737        0.8128       0.5269      1.35490   \n",
       "1            -0.7335        0.3789       1.2396     -0.10760   \n",
       "2             0.2718        1.7109       0.1637     -0.86820   \n",
       "3             0.0464        0.3448      -0.3440     -0.40780   \n",
       "4            -0.8810       -0.2793      -1.0697      0.09163   \n",
       "\n",
       "   openess_to_experience  \n",
       "0                -0.4455  \n",
       "1                 0.8637  \n",
       "2                 0.6721  \n",
       "3                -0.9194  \n",
       "4                -0.1295  \n",
       "\n",
       "[5 rows x 39 columns]"
      ]
     },
     "execution_count": 219,
     "metadata": {},
     "output_type": "execute_result"
    }
   ],
   "source": [
    "df = pd.read_excel(\"data.xlsx\")\n",
    "df.head()"
   ]
  },
  {
   "cell_type": "code",
   "execution_count": 220,
   "id": "6908e6e7",
   "metadata": {},
   "outputs": [
    {
     "data": {
      "text/plain": [
       "(3998, 39)"
      ]
     },
     "execution_count": 220,
     "metadata": {},
     "output_type": "execute_result"
    }
   ],
   "source": [
    "df.shape"
   ]
  },
  {
   "cell_type": "code",
   "execution_count": 221,
   "id": "3e6f9f67",
   "metadata": {},
   "outputs": [
    {
     "data": {
      "text/html": [
       "<div>\n",
       "<style scoped>\n",
       "    .dataframe tbody tr th:only-of-type {\n",
       "        vertical-align: middle;\n",
       "    }\n",
       "\n",
       "    .dataframe tbody tr th {\n",
       "        vertical-align: top;\n",
       "    }\n",
       "\n",
       "    .dataframe thead th {\n",
       "        text-align: right;\n",
       "    }\n",
       "</style>\n",
       "<table border=\"1\" class=\"dataframe\">\n",
       "  <thead>\n",
       "    <tr style=\"text-align: right;\">\n",
       "      <th></th>\n",
       "      <th>ID</th>\n",
       "      <th>Salary</th>\n",
       "      <th>10percentage</th>\n",
       "      <th>12graduation</th>\n",
       "      <th>12percentage</th>\n",
       "      <th>CollegeID</th>\n",
       "      <th>CollegeTier</th>\n",
       "      <th>collegeGPA</th>\n",
       "      <th>CollegeCityID</th>\n",
       "      <th>CollegeCityTier</th>\n",
       "      <th>...</th>\n",
       "      <th>ComputerScience</th>\n",
       "      <th>MechanicalEngg</th>\n",
       "      <th>ElectricalEngg</th>\n",
       "      <th>TelecomEngg</th>\n",
       "      <th>CivilEngg</th>\n",
       "      <th>conscientiousness</th>\n",
       "      <th>agreeableness</th>\n",
       "      <th>extraversion</th>\n",
       "      <th>nueroticism</th>\n",
       "      <th>openess_to_experience</th>\n",
       "    </tr>\n",
       "  </thead>\n",
       "  <tbody>\n",
       "    <tr>\n",
       "      <th>count</th>\n",
       "      <td>3.998000e+03</td>\n",
       "      <td>3.998000e+03</td>\n",
       "      <td>3998.000000</td>\n",
       "      <td>3998.000000</td>\n",
       "      <td>3998.000000</td>\n",
       "      <td>3998.000000</td>\n",
       "      <td>3998.000000</td>\n",
       "      <td>3998.000000</td>\n",
       "      <td>3998.000000</td>\n",
       "      <td>3998.000000</td>\n",
       "      <td>...</td>\n",
       "      <td>3998.000000</td>\n",
       "      <td>3998.000000</td>\n",
       "      <td>3998.000000</td>\n",
       "      <td>3998.000000</td>\n",
       "      <td>3998.000000</td>\n",
       "      <td>3998.000000</td>\n",
       "      <td>3998.000000</td>\n",
       "      <td>3998.000000</td>\n",
       "      <td>3998.000000</td>\n",
       "      <td>3998.000000</td>\n",
       "    </tr>\n",
       "    <tr>\n",
       "      <th>mean</th>\n",
       "      <td>6.637945e+05</td>\n",
       "      <td>3.076998e+05</td>\n",
       "      <td>77.925443</td>\n",
       "      <td>2008.087544</td>\n",
       "      <td>74.466366</td>\n",
       "      <td>5156.851426</td>\n",
       "      <td>1.925713</td>\n",
       "      <td>71.486171</td>\n",
       "      <td>5156.851426</td>\n",
       "      <td>0.300400</td>\n",
       "      <td>...</td>\n",
       "      <td>90.742371</td>\n",
       "      <td>22.974737</td>\n",
       "      <td>16.478739</td>\n",
       "      <td>31.851176</td>\n",
       "      <td>2.683842</td>\n",
       "      <td>-0.037831</td>\n",
       "      <td>0.146496</td>\n",
       "      <td>0.002763</td>\n",
       "      <td>-0.169033</td>\n",
       "      <td>-0.138110</td>\n",
       "    </tr>\n",
       "    <tr>\n",
       "      <th>std</th>\n",
       "      <td>3.632182e+05</td>\n",
       "      <td>2.127375e+05</td>\n",
       "      <td>9.850162</td>\n",
       "      <td>1.653599</td>\n",
       "      <td>10.999933</td>\n",
       "      <td>4802.261482</td>\n",
       "      <td>0.262270</td>\n",
       "      <td>8.167338</td>\n",
       "      <td>4802.261482</td>\n",
       "      <td>0.458489</td>\n",
       "      <td>...</td>\n",
       "      <td>175.273083</td>\n",
       "      <td>98.123311</td>\n",
       "      <td>87.585634</td>\n",
       "      <td>104.852845</td>\n",
       "      <td>36.658505</td>\n",
       "      <td>1.028666</td>\n",
       "      <td>0.941782</td>\n",
       "      <td>0.951471</td>\n",
       "      <td>1.007580</td>\n",
       "      <td>1.008075</td>\n",
       "    </tr>\n",
       "    <tr>\n",
       "      <th>min</th>\n",
       "      <td>1.124400e+04</td>\n",
       "      <td>3.500000e+04</td>\n",
       "      <td>43.000000</td>\n",
       "      <td>1995.000000</td>\n",
       "      <td>40.000000</td>\n",
       "      <td>2.000000</td>\n",
       "      <td>1.000000</td>\n",
       "      <td>6.450000</td>\n",
       "      <td>2.000000</td>\n",
       "      <td>0.000000</td>\n",
       "      <td>...</td>\n",
       "      <td>-1.000000</td>\n",
       "      <td>-1.000000</td>\n",
       "      <td>-1.000000</td>\n",
       "      <td>-1.000000</td>\n",
       "      <td>-1.000000</td>\n",
       "      <td>-4.126700</td>\n",
       "      <td>-5.781600</td>\n",
       "      <td>-4.600900</td>\n",
       "      <td>-2.643000</td>\n",
       "      <td>-7.375700</td>\n",
       "    </tr>\n",
       "    <tr>\n",
       "      <th>25%</th>\n",
       "      <td>3.342842e+05</td>\n",
       "      <td>1.800000e+05</td>\n",
       "      <td>71.680000</td>\n",
       "      <td>2007.000000</td>\n",
       "      <td>66.000000</td>\n",
       "      <td>494.000000</td>\n",
       "      <td>2.000000</td>\n",
       "      <td>66.407500</td>\n",
       "      <td>494.000000</td>\n",
       "      <td>0.000000</td>\n",
       "      <td>...</td>\n",
       "      <td>-1.000000</td>\n",
       "      <td>-1.000000</td>\n",
       "      <td>-1.000000</td>\n",
       "      <td>-1.000000</td>\n",
       "      <td>-1.000000</td>\n",
       "      <td>-0.713525</td>\n",
       "      <td>-0.287100</td>\n",
       "      <td>-0.604800</td>\n",
       "      <td>-0.868200</td>\n",
       "      <td>-0.669200</td>\n",
       "    </tr>\n",
       "    <tr>\n",
       "      <th>50%</th>\n",
       "      <td>6.396000e+05</td>\n",
       "      <td>3.000000e+05</td>\n",
       "      <td>79.150000</td>\n",
       "      <td>2008.000000</td>\n",
       "      <td>74.400000</td>\n",
       "      <td>3879.000000</td>\n",
       "      <td>2.000000</td>\n",
       "      <td>71.720000</td>\n",
       "      <td>3879.000000</td>\n",
       "      <td>0.000000</td>\n",
       "      <td>...</td>\n",
       "      <td>-1.000000</td>\n",
       "      <td>-1.000000</td>\n",
       "      <td>-1.000000</td>\n",
       "      <td>-1.000000</td>\n",
       "      <td>-1.000000</td>\n",
       "      <td>0.046400</td>\n",
       "      <td>0.212400</td>\n",
       "      <td>0.091400</td>\n",
       "      <td>-0.234400</td>\n",
       "      <td>-0.094300</td>\n",
       "    </tr>\n",
       "    <tr>\n",
       "      <th>75%</th>\n",
       "      <td>9.904800e+05</td>\n",
       "      <td>3.700000e+05</td>\n",
       "      <td>85.670000</td>\n",
       "      <td>2009.000000</td>\n",
       "      <td>82.600000</td>\n",
       "      <td>8818.000000</td>\n",
       "      <td>2.000000</td>\n",
       "      <td>76.327500</td>\n",
       "      <td>8818.000000</td>\n",
       "      <td>1.000000</td>\n",
       "      <td>...</td>\n",
       "      <td>-1.000000</td>\n",
       "      <td>-1.000000</td>\n",
       "      <td>-1.000000</td>\n",
       "      <td>-1.000000</td>\n",
       "      <td>-1.000000</td>\n",
       "      <td>0.702700</td>\n",
       "      <td>0.812800</td>\n",
       "      <td>0.672000</td>\n",
       "      <td>0.526200</td>\n",
       "      <td>0.502400</td>\n",
       "    </tr>\n",
       "    <tr>\n",
       "      <th>max</th>\n",
       "      <td>1.298275e+06</td>\n",
       "      <td>4.000000e+06</td>\n",
       "      <td>97.760000</td>\n",
       "      <td>2013.000000</td>\n",
       "      <td>98.700000</td>\n",
       "      <td>18409.000000</td>\n",
       "      <td>2.000000</td>\n",
       "      <td>99.930000</td>\n",
       "      <td>18409.000000</td>\n",
       "      <td>1.000000</td>\n",
       "      <td>...</td>\n",
       "      <td>715.000000</td>\n",
       "      <td>623.000000</td>\n",
       "      <td>676.000000</td>\n",
       "      <td>548.000000</td>\n",
       "      <td>516.000000</td>\n",
       "      <td>1.995300</td>\n",
       "      <td>1.904800</td>\n",
       "      <td>2.535400</td>\n",
       "      <td>3.352500</td>\n",
       "      <td>1.822400</td>\n",
       "    </tr>\n",
       "  </tbody>\n",
       "</table>\n",
       "<p>8 rows × 27 columns</p>\n",
       "</div>"
      ],
      "text/plain": [
       "                 ID        Salary  10percentage  12graduation  12percentage  \\\n",
       "count  3.998000e+03  3.998000e+03   3998.000000   3998.000000   3998.000000   \n",
       "mean   6.637945e+05  3.076998e+05     77.925443   2008.087544     74.466366   \n",
       "std    3.632182e+05  2.127375e+05      9.850162      1.653599     10.999933   \n",
       "min    1.124400e+04  3.500000e+04     43.000000   1995.000000     40.000000   \n",
       "25%    3.342842e+05  1.800000e+05     71.680000   2007.000000     66.000000   \n",
       "50%    6.396000e+05  3.000000e+05     79.150000   2008.000000     74.400000   \n",
       "75%    9.904800e+05  3.700000e+05     85.670000   2009.000000     82.600000   \n",
       "max    1.298275e+06  4.000000e+06     97.760000   2013.000000     98.700000   \n",
       "\n",
       "          CollegeID  CollegeTier   collegeGPA  CollegeCityID  CollegeCityTier  \\\n",
       "count   3998.000000  3998.000000  3998.000000    3998.000000      3998.000000   \n",
       "mean    5156.851426     1.925713    71.486171    5156.851426         0.300400   \n",
       "std     4802.261482     0.262270     8.167338    4802.261482         0.458489   \n",
       "min        2.000000     1.000000     6.450000       2.000000         0.000000   \n",
       "25%      494.000000     2.000000    66.407500     494.000000         0.000000   \n",
       "50%     3879.000000     2.000000    71.720000    3879.000000         0.000000   \n",
       "75%     8818.000000     2.000000    76.327500    8818.000000         1.000000   \n",
       "max    18409.000000     2.000000    99.930000   18409.000000         1.000000   \n",
       "\n",
       "       ...  ComputerScience  MechanicalEngg  ElectricalEngg  TelecomEngg  \\\n",
       "count  ...      3998.000000     3998.000000     3998.000000  3998.000000   \n",
       "mean   ...        90.742371       22.974737       16.478739    31.851176   \n",
       "std    ...       175.273083       98.123311       87.585634   104.852845   \n",
       "min    ...        -1.000000       -1.000000       -1.000000    -1.000000   \n",
       "25%    ...        -1.000000       -1.000000       -1.000000    -1.000000   \n",
       "50%    ...        -1.000000       -1.000000       -1.000000    -1.000000   \n",
       "75%    ...        -1.000000       -1.000000       -1.000000    -1.000000   \n",
       "max    ...       715.000000      623.000000      676.000000   548.000000   \n",
       "\n",
       "         CivilEngg  conscientiousness  agreeableness  extraversion  \\\n",
       "count  3998.000000        3998.000000    3998.000000   3998.000000   \n",
       "mean      2.683842          -0.037831       0.146496      0.002763   \n",
       "std      36.658505           1.028666       0.941782      0.951471   \n",
       "min      -1.000000          -4.126700      -5.781600     -4.600900   \n",
       "25%      -1.000000          -0.713525      -0.287100     -0.604800   \n",
       "50%      -1.000000           0.046400       0.212400      0.091400   \n",
       "75%      -1.000000           0.702700       0.812800      0.672000   \n",
       "max     516.000000           1.995300       1.904800      2.535400   \n",
       "\n",
       "       nueroticism  openess_to_experience  \n",
       "count  3998.000000            3998.000000  \n",
       "mean     -0.169033              -0.138110  \n",
       "std       1.007580               1.008075  \n",
       "min      -2.643000              -7.375700  \n",
       "25%      -0.868200              -0.669200  \n",
       "50%      -0.234400              -0.094300  \n",
       "75%       0.526200               0.502400  \n",
       "max       3.352500               1.822400  \n",
       "\n",
       "[8 rows x 27 columns]"
      ]
     },
     "execution_count": 221,
     "metadata": {},
     "output_type": "execute_result"
    }
   ],
   "source": [
    "df.describe()"
   ]
  },
  {
   "cell_type": "code",
   "execution_count": 222,
   "id": "23c61971",
   "metadata": {},
   "outputs": [
    {
     "name": "stdout",
     "output_type": "stream",
     "text": [
      "<class 'pandas.core.frame.DataFrame'>\n",
      "RangeIndex: 3998 entries, 0 to 3997\n",
      "Data columns (total 39 columns):\n",
      " #   Column                 Non-Null Count  Dtype         \n",
      "---  ------                 --------------  -----         \n",
      " 0   Unnamed: 0             3998 non-null   object        \n",
      " 1   ID                     3998 non-null   int64         \n",
      " 2   Salary                 3998 non-null   int64         \n",
      " 3   DOJ                    3998 non-null   datetime64[ns]\n",
      " 4   DOL                    3998 non-null   object        \n",
      " 5   Designation            3998 non-null   object        \n",
      " 6   JobCity                3998 non-null   object        \n",
      " 7   Gender                 3998 non-null   object        \n",
      " 8   DOB                    3998 non-null   datetime64[ns]\n",
      " 9   10percentage           3998 non-null   float64       \n",
      " 10  10board                3998 non-null   object        \n",
      " 11  12graduation           3998 non-null   int64         \n",
      " 12  12percentage           3998 non-null   float64       \n",
      " 13  12board                3998 non-null   object        \n",
      " 14  CollegeID              3998 non-null   int64         \n",
      " 15  CollegeTier            3998 non-null   int64         \n",
      " 16  Degree                 3998 non-null   object        \n",
      " 17  Specialization         3998 non-null   object        \n",
      " 18  collegeGPA             3998 non-null   float64       \n",
      " 19  CollegeCityID          3998 non-null   int64         \n",
      " 20  CollegeCityTier        3998 non-null   int64         \n",
      " 21  CollegeState           3998 non-null   object        \n",
      " 22  GraduationYear         3998 non-null   int64         \n",
      " 23  English                3998 non-null   int64         \n",
      " 24  Logical                3998 non-null   int64         \n",
      " 25  Quant                  3998 non-null   int64         \n",
      " 26  Domain                 3998 non-null   float64       \n",
      " 27  ComputerProgramming    3998 non-null   int64         \n",
      " 28  ElectronicsAndSemicon  3998 non-null   int64         \n",
      " 29  ComputerScience        3998 non-null   int64         \n",
      " 30  MechanicalEngg         3998 non-null   int64         \n",
      " 31  ElectricalEngg         3998 non-null   int64         \n",
      " 32  TelecomEngg            3998 non-null   int64         \n",
      " 33  CivilEngg              3998 non-null   int64         \n",
      " 34  conscientiousness      3998 non-null   float64       \n",
      " 35  agreeableness          3998 non-null   float64       \n",
      " 36  extraversion           3998 non-null   float64       \n",
      " 37  nueroticism            3998 non-null   float64       \n",
      " 38  openess_to_experience  3998 non-null   float64       \n",
      "dtypes: datetime64[ns](2), float64(9), int64(18), object(10)\n",
      "memory usage: 1.2+ MB\n"
     ]
    }
   ],
   "source": [
    "df.info()"
   ]
  },
  {
   "cell_type": "code",
   "execution_count": 223,
   "id": "2c48a3fe",
   "metadata": {},
   "outputs": [
    {
     "data": {
      "text/plain": [
       "Unnamed: 0               0\n",
       "ID                       0\n",
       "Salary                   0\n",
       "DOJ                      0\n",
       "DOL                      0\n",
       "Designation              0\n",
       "JobCity                  0\n",
       "Gender                   0\n",
       "DOB                      0\n",
       "10percentage             0\n",
       "10board                  0\n",
       "12graduation             0\n",
       "12percentage             0\n",
       "12board                  0\n",
       "CollegeID                0\n",
       "CollegeTier              0\n",
       "Degree                   0\n",
       "Specialization           0\n",
       "collegeGPA               0\n",
       "CollegeCityID            0\n",
       "CollegeCityTier          0\n",
       "CollegeState             0\n",
       "GraduationYear           0\n",
       "English                  0\n",
       "Logical                  0\n",
       "Quant                    0\n",
       "Domain                   0\n",
       "ComputerProgramming      0\n",
       "ElectronicsAndSemicon    0\n",
       "ComputerScience          0\n",
       "MechanicalEngg           0\n",
       "ElectricalEngg           0\n",
       "TelecomEngg              0\n",
       "CivilEngg                0\n",
       "conscientiousness        0\n",
       "agreeableness            0\n",
       "extraversion             0\n",
       "nueroticism              0\n",
       "openess_to_experience    0\n",
       "dtype: int64"
      ]
     },
     "execution_count": 223,
     "metadata": {},
     "output_type": "execute_result"
    }
   ],
   "source": [
    "df.isnull().sum()"
   ]
  },
  {
   "cell_type": "code",
   "execution_count": 224,
   "id": "34ee34ae",
   "metadata": {},
   "outputs": [
    {
     "data": {
      "text/plain": [
       "Unnamed: 0                       object\n",
       "ID                                int64\n",
       "Salary                            int64\n",
       "DOJ                      datetime64[ns]\n",
       "DOL                              object\n",
       "Designation                      object\n",
       "JobCity                          object\n",
       "Gender                           object\n",
       "DOB                      datetime64[ns]\n",
       "10percentage                    float64\n",
       "10board                          object\n",
       "12graduation                      int64\n",
       "12percentage                    float64\n",
       "12board                          object\n",
       "CollegeID                         int64\n",
       "CollegeTier                       int64\n",
       "Degree                           object\n",
       "Specialization                   object\n",
       "collegeGPA                      float64\n",
       "CollegeCityID                     int64\n",
       "CollegeCityTier                   int64\n",
       "CollegeState                     object\n",
       "GraduationYear                    int64\n",
       "English                           int64\n",
       "Logical                           int64\n",
       "Quant                             int64\n",
       "Domain                          float64\n",
       "ComputerProgramming               int64\n",
       "ElectronicsAndSemicon             int64\n",
       "ComputerScience                   int64\n",
       "MechanicalEngg                    int64\n",
       "ElectricalEngg                    int64\n",
       "TelecomEngg                       int64\n",
       "CivilEngg                         int64\n",
       "conscientiousness               float64\n",
       "agreeableness                   float64\n",
       "extraversion                    float64\n",
       "nueroticism                     float64\n",
       "openess_to_experience           float64\n",
       "dtype: object"
      ]
     },
     "execution_count": 224,
     "metadata": {},
     "output_type": "execute_result"
    }
   ],
   "source": [
    "df.dtypes"
   ]
  },
  {
   "cell_type": "code",
   "execution_count": 225,
   "id": "ec0160cd",
   "metadata": {},
   "outputs": [
    {
     "data": {
      "text/plain": [
       "Index(['Unnamed: 0', 'ID', 'Salary', 'DOJ', 'DOL', 'Designation', 'JobCity',\n",
       "       'Gender', 'DOB', '10percentage', '10board', '12graduation',\n",
       "       '12percentage', '12board', 'CollegeID', 'CollegeTier', 'Degree',\n",
       "       'Specialization', 'collegeGPA', 'CollegeCityID', 'CollegeCityTier',\n",
       "       'CollegeState', 'GraduationYear', 'English', 'Logical', 'Quant',\n",
       "       'Domain', 'ComputerProgramming', 'ElectronicsAndSemicon',\n",
       "       'ComputerScience', 'MechanicalEngg', 'ElectricalEngg', 'TelecomEngg',\n",
       "       'CivilEngg', 'conscientiousness', 'agreeableness', 'extraversion',\n",
       "       'nueroticism', 'openess_to_experience'],\n",
       "      dtype='object')"
      ]
     },
     "execution_count": 225,
     "metadata": {},
     "output_type": "execute_result"
    }
   ],
   "source": [
    "df.columns"
   ]
  },
  {
   "cell_type": "code",
   "execution_count": 226,
   "id": "c5ba8d60",
   "metadata": {},
   "outputs": [
    {
     "name": "stdout",
     "output_type": "stream",
     "text": [
      "******************** Unnamed: 0 ********************\n",
      "['train']\n",
      "******************** ID ********************\n",
      "[203097 579905 810601 ... 355888 947111 324966]\n",
      "******************** Salary ********************\n",
      "[ 420000  500000  325000 1100000  200000  300000  400000  600000  230000\n",
      "  450000  270000  350000  250000  120000  320000  190000  180000  335000\n",
      "  435000  345000  145000  220000  530000  340000  360000  215000   80000\n",
      "  330000  380000  110000  205000   95000  390000   60000  240000  525000\n",
      "  305000  150000  310000  455000  800000  100000  280000  445000  315000\n",
      "  370000  275000 1500000  425000  470000  460000  510000  480000  170000\n",
      "  640000  225000  440000 1200000  675000  105000  195000  385000  235000\n",
      "  615000  290000  140000  405000 1860000  375000  430000  660000   70000\n",
      "  410000  550000   35000  115000  415000  265000  285000  245000  395000\n",
      "  560000  700000  185000  160000  625000   85000  135000  785000  210000\n",
      "  155000  355000  535000  690000  260000 1110000 1000000  505000  475000\n",
      "  715000  820000   90000  720000 2600000  515000   55000  495000   65000\n",
      "  655000  545000  520000  645000 1025000  775000  490000 1300000 3500000\n",
      "  910000  570000  255000  130000  175000  730000  555000  465000  680000\n",
      "  165000  630000  365000 1050000 2000000  860000  125000   50000  580000\n",
      "  485000 4000000 2020000  650000   45000  610000  760000  585000  620000\n",
      "  870000 2050000  540000  144000  605000 1320000  755000  880000 3000000\n",
      "   75000  295000   40000  575000  565000 2500000 2300000  590000  950000\n",
      " 1800000  725000  930000  750000  705000 1745000  850000  845000  670000\n",
      " 1030000  770000  900000 1210000  810000  925000]\n",
      "******************** DOJ ********************\n",
      "['2012-06-01T00:00:00.000000000' '2013-09-01T00:00:00.000000000'\n",
      " '2014-06-01T00:00:00.000000000' '2011-07-01T00:00:00.000000000'\n",
      " '2014-03-01T00:00:00.000000000' '2014-08-01T00:00:00.000000000'\n",
      " '2014-07-01T00:00:00.000000000' '2013-07-01T00:00:00.000000000'\n",
      " '2011-04-01T00:00:00.000000000' '2011-08-01T00:00:00.000000000'\n",
      " '2013-12-01T00:00:00.000000000' '2014-01-01T00:00:00.000000000'\n",
      " '2013-08-01T00:00:00.000000000' '2014-09-01T00:00:00.000000000'\n",
      " '2010-11-01T00:00:00.000000000' '2012-08-01T00:00:00.000000000'\n",
      " '2013-10-01T00:00:00.000000000' '2012-09-01T00:00:00.000000000'\n",
      " '2011-01-01T00:00:00.000000000' '2015-02-01T00:00:00.000000000'\n",
      " '2014-11-01T00:00:00.000000000' '2011-12-01T00:00:00.000000000'\n",
      " '2014-10-01T00:00:00.000000000' '2015-01-01T00:00:00.000000000'\n",
      " '2013-03-01T00:00:00.000000000' '2010-10-01T00:00:00.000000000'\n",
      " '2013-01-01T00:00:00.000000000' '2011-06-01T00:00:00.000000000'\n",
      " '2014-04-01T00:00:00.000000000' '2012-05-01T00:00:00.000000000'\n",
      " '2012-10-01T00:00:00.000000000' '2015-04-01T00:00:00.000000000'\n",
      " '2012-03-01T00:00:00.000000000' '2013-06-01T00:00:00.000000000'\n",
      " '2009-09-01T00:00:00.000000000' '2013-11-01T00:00:00.000000000'\n",
      " '2010-07-01T00:00:00.000000000' '2014-02-01T00:00:00.000000000'\n",
      " '2015-06-01T00:00:00.000000000' '2014-05-01T00:00:00.000000000'\n",
      " '2014-12-01T00:00:00.000000000' '2011-11-01T00:00:00.000000000'\n",
      " '2015-07-01T00:00:00.000000000' '2013-05-01T00:00:00.000000000'\n",
      " '2011-03-01T00:00:00.000000000' '2015-03-01T00:00:00.000000000'\n",
      " '2012-07-01T00:00:00.000000000' '2011-10-01T00:00:00.000000000'\n",
      " '2010-04-01T00:00:00.000000000' '2013-04-01T00:00:00.000000000'\n",
      " '2010-12-01T00:00:00.000000000' '2013-02-01T00:00:00.000000000'\n",
      " '2011-09-01T00:00:00.000000000' '2012-02-01T00:00:00.000000000'\n",
      " '2012-01-01T00:00:00.000000000' '2012-12-01T00:00:00.000000000'\n",
      " '2010-09-01T00:00:00.000000000' '2012-04-01T00:00:00.000000000'\n",
      " '2012-11-01T00:00:00.000000000' '2015-05-01T00:00:00.000000000'\n",
      " '2010-06-01T00:00:00.000000000' '2011-02-01T00:00:00.000000000'\n",
      " '2010-08-01T00:00:00.000000000' '2010-05-01T00:00:00.000000000'\n",
      " '2011-05-01T00:00:00.000000000' '2004-08-01T00:00:00.000000000'\n",
      " '2008-11-01T00:00:00.000000000' '2009-06-01T00:00:00.000000000'\n",
      " '2010-02-01T00:00:00.000000000' '2009-11-01T00:00:00.000000000'\n",
      " '2010-03-01T00:00:00.000000000' '2015-11-01T00:00:00.000000000'\n",
      " '2006-01-01T00:00:00.000000000' '2015-08-01T00:00:00.000000000'\n",
      " '2010-01-01T00:00:00.000000000' '2015-12-01T00:00:00.000000000'\n",
      " '2007-09-01T00:00:00.000000000' '1991-06-01T00:00:00.000000000'\n",
      " '2007-07-01T00:00:00.000000000' '2007-06-01T00:00:00.000000000'\n",
      " '2007-02-01T00:00:00.000000000']\n",
      "******************** DOL ********************\n",
      "['present' datetime.datetime(2015, 3, 1, 0, 0)\n",
      " datetime.datetime(2015, 5, 1, 0, 0) datetime.datetime(2015, 7, 1, 0, 0)\n",
      " datetime.datetime(2015, 4, 1, 0, 0) datetime.datetime(2014, 10, 1, 0, 0)\n",
      " datetime.datetime(2014, 9, 1, 0, 0) datetime.datetime(2014, 6, 1, 0, 0)\n",
      " datetime.datetime(2012, 9, 1, 0, 0) datetime.datetime(2013, 12, 1, 0, 0)\n",
      " datetime.datetime(2015, 6, 1, 0, 0) datetime.datetime(2013, 10, 1, 0, 0)\n",
      " datetime.datetime(2015, 1, 1, 0, 0) datetime.datetime(2014, 4, 1, 0, 0)\n",
      " datetime.datetime(2013, 6, 1, 0, 0) datetime.datetime(2012, 3, 1, 0, 0)\n",
      " datetime.datetime(2014, 7, 1, 0, 0) datetime.datetime(2013, 2, 1, 0, 0)\n",
      " datetime.datetime(2014, 1, 1, 0, 0) datetime.datetime(2013, 4, 1, 0, 0)\n",
      " datetime.datetime(2012, 7, 1, 0, 0) datetime.datetime(2014, 5, 1, 0, 0)\n",
      " datetime.datetime(2013, 9, 1, 0, 0) datetime.datetime(2015, 2, 1, 0, 0)\n",
      " datetime.datetime(2012, 1, 1, 0, 0) datetime.datetime(2015, 8, 1, 0, 0)\n",
      " datetime.datetime(2014, 8, 1, 0, 0) datetime.datetime(2015, 12, 1, 0, 0)\n",
      " datetime.datetime(2014, 12, 1, 0, 0) datetime.datetime(2012, 5, 1, 0, 0)\n",
      " datetime.datetime(2011, 3, 1, 0, 0) datetime.datetime(2011, 7, 1, 0, 0)\n",
      " datetime.datetime(2014, 2, 1, 0, 0) datetime.datetime(2011, 12, 1, 0, 0)\n",
      " datetime.datetime(2015, 10, 1, 0, 0) datetime.datetime(2014, 11, 1, 0, 0)\n",
      " datetime.datetime(2014, 3, 1, 0, 0) datetime.datetime(2011, 11, 1, 0, 0)\n",
      " datetime.datetime(2013, 5, 1, 0, 0) datetime.datetime(2013, 7, 1, 0, 0)\n",
      " datetime.datetime(2013, 11, 1, 0, 0) datetime.datetime(2011, 1, 1, 0, 0)\n",
      " datetime.datetime(2011, 5, 1, 0, 0) datetime.datetime(2012, 2, 1, 0, 0)\n",
      " datetime.datetime(2012, 11, 1, 0, 0) datetime.datetime(2012, 6, 1, 0, 0)\n",
      " datetime.datetime(2013, 8, 1, 0, 0) datetime.datetime(2005, 3, 1, 0, 0)\n",
      " datetime.datetime(2013, 3, 1, 0, 0) datetime.datetime(2012, 10, 1, 0, 0)\n",
      " datetime.datetime(2011, 2, 1, 0, 0) datetime.datetime(2010, 2, 1, 0, 0)\n",
      " datetime.datetime(2013, 1, 1, 0, 0) datetime.datetime(2011, 6, 1, 0, 0)\n",
      " datetime.datetime(2015, 9, 1, 0, 0) datetime.datetime(2012, 4, 1, 0, 0)\n",
      " datetime.datetime(2012, 8, 1, 0, 0) datetime.datetime(2011, 4, 1, 0, 0)\n",
      " datetime.datetime(2011, 10, 1, 0, 0) datetime.datetime(2015, 11, 1, 0, 0)\n",
      " datetime.datetime(2012, 12, 1, 0, 0) datetime.datetime(2011, 9, 1, 0, 0)\n",
      " datetime.datetime(2010, 8, 1, 0, 0) datetime.datetime(2011, 8, 1, 0, 0)\n",
      " datetime.datetime(2009, 6, 1, 0, 0) datetime.datetime(2008, 3, 1, 0, 0)\n",
      " datetime.datetime(2010, 10, 1, 0, 0)]\n",
      "******************** Designation ********************\n",
      "['senior quality engineer' 'assistant manager' 'systems engineer'\n",
      " 'senior software engineer' 'get' 'system engineer'\n",
      " 'java software engineer' 'mechanical engineer' 'electrical engineer'\n",
      " 'project engineer' 'senior php developer' 'senior systems engineer'\n",
      " 'quality assurance engineer' 'qa analyst' 'network engineer'\n",
      " 'product development engineer' 'associate software developer'\n",
      " 'data entry operator' 'software engineer' 'developer'\n",
      " 'electrical project engineer' 'programmer analyst' 'systems analyst'\n",
      " 'ase' 'telecommunication engineer' 'application developer'\n",
      " 'ios developer' 'executive assistant' 'online marketing manager'\n",
      " 'documentation specialist' 'associate software engineer'\n",
      " 'management trainee' 'site manager' 'software developer' '.net developer'\n",
      " 'production engineer' 'jr. software engineer'\n",
      " 'trainee software developer' 'ui developer' 'assistant system engineer'\n",
      " 'android developer' 'customer service' 'test engineer' 'java developer'\n",
      " 'engineer' 'recruitment coordinator' 'technical support engineer'\n",
      " 'data analyst' 'assistant software engineer' 'faculty'\n",
      " 'entry level management trainee' 'customer service representative'\n",
      " 'software test engineer' 'firmware engineer' 'php developer'\n",
      " 'research associate' 'research analyst' 'quality engineer' 'programmer'\n",
      " 'technical support executive' 'business analyst' 'web developer'\n",
      " 'application engineer' 'project coordinator' 'engineer trainee'\n",
      " 'sap consultant' 'quality analyst' 'marketing coordinator'\n",
      " 'system administrator' 'senior engineer' 'business development managerde'\n",
      " 'network administrator' 'technical support specialist'\n",
      " 'business development executive' 'junior software engineer'\n",
      " 'asp.net developer' 'graduate engineer trainee' 'field engineer'\n",
      " 'assistant professor' 'trainee software engineer'\n",
      " 'senior software developer' 'quality assurance automation engineer'\n",
      " 'design engineer' 'telecom engineer' 'quality control engineer'\n",
      " 'hardware engineer' 'hr recruiter' 'sales associate' 'junior engineer'\n",
      " 'associate engineer' 'maintenance engineer' 'sales engineer'\n",
      " 'human resources associate' 'mobile application developer'\n",
      " 'electronic field service engineer' 'process associate'\n",
      " 'field service engineer' 'it support specialist'\n",
      " 'software development engineer' 'business process analyst'\n",
      " 'operation engineer' 'electrical designer' 'marketing assistant'\n",
      " 'sales executive' 'admin assistant' 'senior java developer'\n",
      " 'account executive' 'oracle dba' 'rf engineer'\n",
      " 'embedded software engineer' 'programmer analyst trainee'\n",
      " 'technical engineer' 'operations executive' 'trainee engineer'\n",
      " 'recruiter' 'lecturer' '.net web developer' 'marketing executive'\n",
      " 'operations assistant' 'associate manager' 'electrical design engineer'\n",
      " 'systems administrator' 'client services associate' 'it analyst'\n",
      " 'senior developer' 'cad designer' 'business technology analyst'\n",
      " 'asst. manager' 'service engineer' 'executive recruiter'\n",
      " 'planning engineer' 'associate technical operations' 'web designer'\n",
      " 'software architect' 'software quality assurance tester' 'seo trainee'\n",
      " 'process engineer' 'software quality assurance analyst' 'designer'\n",
      " 'business systems consultant' 'business development manager'\n",
      " 'junior research fellow' 'technical recruiter' 'operations analyst'\n",
      " 'quality assurance test engineer' 'linux systems administrator'\n",
      " 'software trainee' 'entry level sales and marketing'\n",
      " 'electrical field engineer' 'windows systems administrator'\n",
      " 'junior software developer' 'python developer'\n",
      " 'web application developer' 'assistant systems engineer'\n",
      " 'javascript developer' 'operation executive' 'performance engineer'\n",
      " 'technical writer' 'operations engineer and jetty handling'\n",
      " 'lead engineer' 'portfolio analyst' 'associate system engineer'\n",
      " 'mechanical design engineer' 'product engineer'\n",
      " 'network security engineer' 'operations manager' 'technical lead'\n",
      " 'operations' 'quality assurance tester' 'automation engineer'\n",
      " 'data scientist' 'quality associate' 'manual tester' 'sr. engineer'\n",
      " 'embedded engineer' 'service and sales engineer'\n",
      " 'telecom support engineer' 'engineer- customer support' 'cloud engineer'\n",
      " 'branch manager' 'business analyst consultant' 'technology lead'\n",
      " 'software trainee engineer' 'dcs engineer' 'junior manager' 'ux designer'\n",
      " 'clerical' 'hr generalist' 'database administrator'\n",
      " 'senior design engineer' 'seo' 'assistant engineer' 'marketing analyst'\n",
      " 'it executive' 'salesforce developer' 'software tester' 'sql dba'\n",
      " 'junior engineer product support' 'manager' 'senior business analyst'\n",
      " 'c# developer' 'implementation engineer' 'executive hr'\n",
      " 'executive engineer' 'sharepoint developer' 'system analyst'\n",
      " 'sales management trainee' 'senior project engineer' 'it recruiter'\n",
      " 'software engineer analyst' 'desktop support technician'\n",
      " 'continuous improvement engineer' 'process advisor' 'etl developer'\n",
      " 'sales and service engineer' 'project manager' 'training specialist'\n",
      " 'product manager' 'staffing recruiter' 'assistant programmer'\n",
      " 'quality controller' 'mis executive' 'game developer'\n",
      " 'digital marketing specialist' 'principal software engineer'\n",
      " 'software devloper' 'senior mechanical engineer'\n",
      " 'technical operations analyst' 'service coordinator' 'testing engineer'\n",
      " 'technical assistant' 'sap abap consultant' 'seo engineer'\n",
      " 'project assistant' 'talent acquisition specialist'\n",
      " 'sales account manager' 'software engineer trainee'\n",
      " 'customer service manager' 'help desk analyst' 'general manager'\n",
      " 'engineering manager' 'senior network engineer'\n",
      " 'field based employee relations manager' 'phone banking officer'\n",
      " 'support engineer' 'associate test engineer' 'technology analyst'\n",
      " 'network support engineer' 'it business analyst' 'junior system analyst'\n",
      " 'senior .net developer' 'secretary' 'research engineer'\n",
      " 'quality assurance auditor' 'process executive'\n",
      " 'lecturer & electrical maintenance' 'office coordinator' 'hr manager'\n",
      " 'html developer' 'sales support' 'front end web developer'\n",
      " 'administrative support' 'territory sales manager'\n",
      " 'project administrator' 'environmental engineer' 'web designer and seo'\n",
      " 'information security analyst' 'field business development associate'\n",
      " 'operational executive' 'administrative coordinator'\n",
      " 'senior risk consultant' 'desktop support engineer' 'cad drafter'\n",
      " 'noc engineer' 'industrial engineer' 'it engineer'\n",
      " 'human resources intern' 'senior quality assurance engineer'\n",
      " 'clerical assistant' 'software enginner' 'quality assurance'\n",
      " 'delivery software engineer' 'graphic designer'\n",
      " 'sales development manager' 'visiting faculty'\n",
      " 'business intelligence analyst' 'team lead'\n",
      " 'operational excellence manager' 'sales & service engineer' 'web intern'\n",
      " 'full stack developer' 'database developer' 'sr. database engineer'\n",
      " 'graduate apprentice trainee' 'software engineer associate'\n",
      " 'technical analyst' 'executive engg' 'it technician'\n",
      " 'business system analyst' 'process control engineer'\n",
      " 'technical consultant' 'business office manager'\n",
      " 'quality control inspector' 'product design engineer'\n",
      " 'manufacturing engineer' 'seo executive' 'sap analyst'\n",
      " 'software engineere' 'financial service consultant' 'co faculty'\n",
      " 'software analyst' 'desktop support analyst' 'graduate engineer'\n",
      " 'engineering technician' 'it assistant' 'marketing manager'\n",
      " 'human resource assistant' 'hr assistant' 'product developer'\n",
      " 'customer support engineer' 'quality control inspection technician'\n",
      " 'gis/cad engineer' 'senior web developer' 'sql developer'\n",
      " 'research staff member' 'sap abap associate consultant' 'associate qa'\n",
      " 'corporate recruiter' 'project management officer'\n",
      " 'business systems analyst' 'software programmer' 'help desk technician'\n",
      " 'sales manager' 'catalog associate' 'assistant store manager'\n",
      " 'software engg' 'it developer' 'apprentice' 'business consultant'\n",
      " 'controls engineer' 'ruby on rails developer' 'risk consultant'\n",
      " 'account manager' 'professor' 'assistant administrator' 'civil engineer'\n",
      " 'educator' 'service manager' 'teradata dba'\n",
      " 'full-time loss prevention associate' 'junior recruiter'\n",
      " 'associate developer' 'assistant electrical engineer' 'shift engineer'\n",
      " 'dotnet developer' 'rf/dt engineer' 'human resources analyst'\n",
      " 'software test engineerte' 'junior .net developer' 'java trainee'\n",
      " 'maintenance supervisor' 'r&d engineer' 'front end developer'\n",
      " 'engineer-hws' 'operations engineer' 'senior research fellow'\n",
      " 'web designer and joomla administrator' 'enterprise solutions developer'\n",
      " 'information technology specialist' 'site engineer'\n",
      " 'graduate trainee engineer' 'quality assurance analyst' 'cnc programmer'\n",
      " 'financial analyst' 'system engineer trainee' 'sap mm consultant'\n",
      " 'assistant system engineer trainee' 'qa trainee' 'teradata developer'\n",
      " 'hr executive' 'senior programmer' 'software test engineer (etl)'\n",
      " 'associate software engg' 'supply chain analyst' 'sales trainer'\n",
      " 'software executive' 'team leader' 'assistant system engineer - trainee'\n",
      " 'seo analyst' 'risk investigator' 'executive administrative assistant'\n",
      " 'program manager' 'r & d' 'sap functional consultant'\n",
      " 'website developer/tester' 'software designer' 'sales coordinator'\n",
      " 'qa engineer' 'aircraft technician' 'customer care executive'\n",
      " 'senior test engineer' 'program analyst trainee'\n",
      " 'electrical controls engineer' 'trainee decision scientist' 'editor'\n",
      " 'bss engineer' 'dba' 'software eng' 'computer faculty'\n",
      " 'recruitment associate' 'logistics executive' 'quality consultant'\n",
      " 'senior sales executive' 'db2 dba' 'test technician'\n",
      " 'it operations associate' 'software engineering associate'\n",
      " 'research scientist' 'jr. software developer']\n",
      "******************** JobCity ********************\n",
      "['Bangalore' 'Indore' 'Chennai' 'Gurgaon' 'Manesar' 'Hyderabad' 'Banglore'\n",
      " 'Noida' 'Kolkata' 'Pune' -1 'mohali' 'Jhansi' 'Delhi' 'Hyderabad '\n",
      " 'Bangalore ' 'noida' 'delhi' 'Bhubaneswar' 'Navi Mumbai' 'Mumbai'\n",
      " 'New Delhi' 'Mangalore' 'Rewari' 'Gaziabaad' 'Bhiwadi' 'Mysore' 'Rajkot'\n",
      " 'Greater Noida' 'Jaipur' 'noida ' 'HYDERABAD' 'mysore' 'THANE'\n",
      " 'Maharajganj' 'Thiruvananthapuram' 'Punchkula' 'Bhubaneshwar' 'Pune '\n",
      " 'coimbatore' 'Dhanbad' 'Lucknow' 'Trivandrum' 'kolkata' 'mumbai'\n",
      " 'Gandhi Nagar' 'Una' 'Daman and Diu' 'chennai' 'GURGOAN' 'vsakhapttnam'\n",
      " 'pune' 'Nagpur' 'Bhagalpur' 'new delhi - jaisalmer' 'Coimbatore'\n",
      " 'Ahmedabad' 'Kochi/Cochin' 'Bankura' 'Bengaluru' 'Mysore ' 'Kanpur '\n",
      " 'jaipur' 'Gurgaon ' 'bangalore' 'CHENNAI' 'Vijayawada' 'Kochi' 'Beawar'\n",
      " 'Alwar' 'NOIDA' 'Greater noida' 'Siliguri ' 'raipur' 'gurgaon' 'Bhopal'\n",
      " 'Faridabad' 'Jodhpur' 'udaipur' 'Muzaffarpur' 'Kolkata`' 'Bulandshahar'\n",
      " 'Haridwar' 'Raigarh' 'Visakhapatnam' 'Jabalpur' 'hyderabad' 'Unnao'\n",
      " 'KOLKATA' 'Thane' 'Aurangabad' 'Belgaum' 'gurgoan' 'Dehradun' 'Rudrapur'\n",
      " 'Jamshedpur' 'vizag' 'Nouda' 'Dharamshala' 'Banagalore' 'Hissar' 'Ranchi'\n",
      " 'BANGALORE' 'Madurai' 'Gurga' 'Chandigarh' 'Australia' ' Chennai'\n",
      " 'CHEYYAR' 'Mumbai ' 'sonepat' 'Ghaziabad' 'Pantnagar' 'Siliguri'\n",
      " 'mumbai ' 'Jagdalpur' 'Chennai ' 'angul' 'Baroda' ' ariyalur' 'Jowai'\n",
      " 'Kochi/Cochin, Chennai and Coimbatore' 'bhubaneswar' 'Neemrana' 'VIZAG'\n",
      " 'Tirupathi' 'Lucknow ' 'Ahmedabad ' 'Bhubneshwar' 'Noida ' 'pune '\n",
      " 'Calicut' 'Gandhinagar' 'LUCKNOW' 'Dubai' 'bengaluru' 'MUMBAI'\n",
      " 'Ahmednagar' 'Nashik' 'New delhi' 'Bellary' 'Ludhiana' 'New Delhi '\n",
      " 'Muzaffarnagar' 'BHOPAL' 'Gurgoan' 'Gagret' 'Indirapuram, Ghaziabad'\n",
      " 'Gwalior' 'new delhi' 'TRIVANDRUM' 'Chennai & Mumbai' 'Rajasthan'\n",
      " 'Sonipat' 'Bareli' 'Kanpur' 'Hospete' 'Miryalaguda' ' mumbai' 'Dharuhera'\n",
      " 'lucknow' 'meerut' 'dehradun' 'Ganjam' 'Hubli' 'bangalore ' 'NAVI MUMBAI'\n",
      " 'ncr' 'Agra' 'Trichy' 'kudankulam ,tarapur' 'Ongole' 'Sambalpur'\n",
      " 'Pondicherry' 'Bundi' 'SADULPUR,RAJGARH,DISTT-CHURU,RAJASTHAN' 'AM'\n",
      " 'Bikaner' 'Vadodara' 'BAngalore' 'india' 'Asansol' 'Tirunelvelli'\n",
      " 'Ernakulam' 'DELHI' 'Bilaspur' 'Chandrapur' 'Nanded' 'Dharmapuri'\n",
      " 'Vandavasi' 'Rohtak' 'trivandrum' 'Nagpur ' 'Udaipur' 'Patna' 'banglore'\n",
      " 'indore' 'Salem' 'Nasikcity' 'Gandhinagar ' 'Technopark, Trivandrum'\n",
      " 'Bharuch' 'Tornagallu' 'Raipur' 'Kolkata ' 'Jaspur' 'Burdwan'\n",
      " 'Bhubaneswar ' 'Shimla' 'ahmedabad' 'Gajiabaad' 'Jammu' 'Shahdol'\n",
      " 'Muvattupuzha' 'Al Jubail,Saudi Arabia' 'Kalmar, Sweden' 'Secunderabad'\n",
      " 'A-64,sec-64,noida' 'Ratnagiri' 'Jhajjar' 'Gulbarga'\n",
      " 'hyderabad(bhadurpally)' 'Nalagarh' 'Chandigarh ' 'Jaipur '\n",
      " 'Jeddah Saudi Arabia' ' Delhi' 'PATNA' 'SHAHDOL' 'Chennai, Bangalore'\n",
      " 'Bhopal ' 'Jamnagar' 'PUNE' 'Tirupati' 'Gonda' 'jamnagar' 'chennai '\n",
      " 'orissa' 'kharagpur' 'Trivandrum ' 'Navi Mumbai , Hyderabad' 'Joshimath'\n",
      " 'chandigarh' 'Bathinda' 'Johannesburg' 'kala amb ' 'Karnal' 'LONDON'\n",
      " 'Kota' 'Panchkula' 'Baddi HP' 'Nagari' 'Mettur, Tamil Nadu ' 'Durgapur'\n",
      " 'pondi' 'Surat' 'Kurnool' 'kolhapur' 'Madurai ' 'GREATER NOIDA' 'Bhilai'\n",
      " ' Pune' 'hderabad' 'KOTA' 'thane' 'Vizag' 'Bahadurgarh'\n",
      " 'Rayagada, Odisha' 'kakinada' 'GURGAON' 'Varanasi' 'punr' 'Nellore'\n",
      " 'patna' 'Meerut' 'hyderabad ' 'Sahibabad' 'Howrah' 'BHUBANESWAR'\n",
      " 'Trichur' 'Ambala' 'Khopoli' 'keral' 'Roorkee' 'Greater NOIDA'\n",
      " 'Navi mumbai' 'ghaziabad' 'Allahabad' 'Delhi/NCR' 'Panchkula ' 'Ranchi '\n",
      " 'Jalandhar' 'manesar' 'vapi' 'PILANI' 'muzzafarpur' 'RAS AL KHAIMAH'\n",
      " 'bihar' 'singaruli' 'KANPUR' 'Banglore ' 'pondy' 'Mohali' 'Phagwara'\n",
      " ' Mumbai' ' bangalore' 'GURAGAON' 'Baripada' 'MEERUT' 'Yamuna Nagar'\n",
      " 'shahibabad' 'sampla' 'Guwahati' 'Rourkela' 'Banaglore' 'Vellore' 'Dausa'\n",
      " 'latur (Maharashtra )' 'NEW DELHI' 'kanpur' 'Mainpuri' 'karnal' 'Dammam'\n",
      " 'Haldia' 'sambalpur' 'RAE BARELI' 'ranchi' 'jAipur' 'BANGLORE' 'Patiala'\n",
      " 'Gorakhpur' 'new dehli' 'BANGALORE ' 'Ambala City' 'Karad' 'Rajpura'\n",
      " 'Pilani' 'haryana' 'Asifabadbanglore']\n",
      "******************** Gender ********************\n",
      "['f' 'm']\n",
      "******************** DOB ********************\n",
      "['1990-02-19T00:00:00.000000000' '1989-10-04T00:00:00.000000000'\n",
      " '1992-08-03T00:00:00.000000000' ... '1986-02-28T00:00:00.000000000'\n",
      " '1990-06-22T00:00:00.000000000' '1987-04-15T00:00:00.000000000']\n",
      "******************** 10percentage ********************\n",
      "[84.3  85.4  85.   85.6  78.   89.92 86.08 92.   90.   77.   88.6  81.\n",
      " 83.6  60.8  81.2  69.54 85.8  65.   79.   91.2  75.67 92.5  70.   88.\n",
      " 86.8  90.88 76.8  84.   64.   77.2  87.   73.   71.   91.5  52.33 66.6\n",
      " 75.   91.4  59.   84.5  95.8  69.6  86.6  81.92 66.5  80.   85.2  89.25\n",
      " 58.4  90.8  89.88 63.3  72.   83.   85.3  60.66 89.37 84.4  89.   86.\n",
      " 70.6  93.44 76.   86.4  84.83 72.3  69.   73.33 86.16 56.   79.25 88.66\n",
      " 80.8  81.16 83.5  55.6  84.6  62.   68.4  51.   79.6  63.4  86.53 76.18\n",
      " 91.43 76.17 82.4  58.   90.04 60.4  74.23 59.8  82.3  84.2  60.   82.8\n",
      " 82.6  74.   89.8  88.67 64.66 77.8  89.5  64.56 91.12 73.08 78.33 81.33\n",
      " 89.7  87.4  92.66 76.87 91.3  77.9  76.2  77.78 65.6  65.8  67.75 91.6\n",
      " 78.66 78.4  61.   90.4  58.6  82.2  82.   90.1  86.17 83.89 76.7  88.2\n",
      " 80.6  91.   74.4  79.28 84.96 92.8  79.4  66.8  79.8  65.3  94.6  83.33\n",
      " 80.83 67.23 86.2  55.   86.62 69.13 89.12 87.5  66.4  80.33 75.2  50.6\n",
      " 81.1  60.14 78.83 75.8  77.66 64.48 67.   75.6  85.28 71.5  93.6  93.33\n",
      " 78.8  82.16 77.65 56.5  79.83 57.   89.42 72.8  86.3  77.5  71.2  80.2\n",
      " 73.6  68.   74.7  69.2  65.33 96.48 82.5  91.8  93.4  68.5  73.4  72.2\n",
      " 71.8  66.33 71.67 70.2  90.27 67.67 53.4  76.16 65.71 79.5  87.2  80.4\n",
      " 88.4  90.6  89.2  81.6  86.5  77.16 72.33 79.89 75.4  72.83 88.33 78.88\n",
      " 95.2  89.33 75.3  69.8  52.   58.2  90.5  70.83 62.13 74.5  63.   73.37\n",
      " 83.4  92.6  78.6  76.4  86.88 66.   70.67 65.1  68.14 92.2  93.5  82.83\n",
      " 81.66 90.15 44.16 94.4  64.4  85.17 70.1  88.25 94.8  77.4  66.66 81.03\n",
      " 44.   45.6  87.8  72.6  79.86 84.67 48.   53.3  71.66 68.8  78.15 83.43\n",
      " 86.9  84.8  75.06 86.66 70.9  81.12 67.5  78.2  71.06 71.28 62.1  90.56\n",
      " 87.6  71.3  88.8  86.09 67.72 76.6  68.6  63.43 70.4  67.6  73.8  55.5\n",
      " 74.67 92.16 83.66 62.86 49.   87.11 77.53 88.5  61.9  79.2  83.8  79.33\n",
      " 67.3  83.2  72.5  77.67 94.2  59.33 87.63 89.76 84.14 88.17 59.6  64.3\n",
      " 75.04 82.9  73.5  73.67 77.7  87.69 83.16 71.32 61.6  61.8  85.06 91.71\n",
      " 75.46 74.8  67.4  90.3  86.15 64.7  69.7  82.33 58.83 75.36 76.5  66.67\n",
      " 67.2  80.88 88.88 71.4  65.2  96.   61.2  81.4  68.66 65.56 86.7  63.2\n",
      " 62.2  68.2  77.85 83.3  56.78 83.04 71.1  76.53 74.83 59.3  73.2  86.33\n",
      " 64.83 72.1  61.1  86.83 70.8  94.   80.3  64.6  84.1  84.93 92.83 89.6\n",
      " 80.5  83.82 77.57 51.2  66.46 82.67 61.4  69.4  90.24 75.75 90.83 89.1\n",
      " 87.33 83.1  88.34 91.67 87.3  48.8  75.38 55.52 71.05 77.63 92.47 93.\n",
      " 68.33 79.16 85.33 80.42 78.25 95.52 87.86 89.4  94.7  97.12 93.94 59.57\n",
      " 80.53 81.9  63.6  66.16 62.5  69.5  80.93 82.7  79.29 81.5  62.34 83.68\n",
      " 70.66 60.1  77.38 68.83 94.43 85.53 88.09 74.2  85.73 72.4  67.7  79.78\n",
      " 81.3  79.37 85.5  87.83 70.33 80.64 58.7  60.2  77.81 85.67 89.9  79.75\n",
      " 75.73 87.68 60.5  81.38 75.52 48.5  88.3  82.1  85.18 81.8  90.46 70.5\n",
      " 79.52 89.29 61.75 78.67 71.6  80.13 81.67 95.   81.14 72.16 87.04 88.64\n",
      " 82.56 90.01 63.66 65.17 91.84 92.1  43.   65.23 92.48 82.88 73.07 58.56\n",
      " 85.83 67.34 85.75 80.7  79.23 70.26 52.7  75.86 90.16 90.2  78.5  58.9\n",
      " 80.32 67.16 73.06 92.93 85.76 87.52 88.36 81.73 60.7  87.7  79.85 68.9\n",
      " 73.83 64.8  77.84 74.14 64.28 92.4  73.94 63.33 70.06 88.7  89.3  83.83\n",
      " 91.33 80.07 72.17 63.5  69.17 67.42 84.16 76.64 78.13 61.69 81.7  82.46\n",
      " 64.57 78.1  66.3  59.71 80.67 77.88 88.53 93.38 52.93 78.17 72.36 84.75\n",
      " 86.67 77.6  74.3  62.4  65.16 59.2  69.85 79.68 65.4  94.72 71.86 81.25\n",
      " 87.62 54.   85.92 74.33 82.28 75.1  69.73 92.12 70.3  76.33 80.1  76.67\n",
      " 77.83 57.67 83.14 50.   91.21 81.83 78.16 80.14 93.3  61.63 73.73 80.46\n",
      " 76.48 82.25 56.16 57.88 87.07 67.1  87.73 77.12 64.53 86.46 82.62 53.06\n",
      " 74.62 76.66 45.33 69.69 53.   75.33 74.28 74.6  74.88 74.53 46.24 80.15\n",
      " 86.13 85.72 51.36 78.53 53.8  86.1  84.43 76.36 77.86 88.83 88.18 79.14\n",
      " 54.5  84.33 78.3  77.44 87.31 58.16 61.3  77.33 75.12 72.12 65.26 83.56\n",
      " 50.5  82.27 67.36 87.16 75.83 78.44 91.9  68.3  92.64 58.17 83.46 88.04\n",
      " 70.58 71.17 84.13 64.62 66.15 67.8  57.78 56.2  61.5  94.1  74.16 78.93\n",
      " 70.56 85.16 82.26 71.13 65.66 71.71 86.37 88.57 59.05 79.66 89.39 95.54\n",
      " 55.3  70.14 87.23 85.38 86.92 95.04 95.6  60.83 71.33 94.16 78.57 80.16\n",
      " 70.25 82.13 88.76 51.6  70.76 57.5  68.67 74.18 68.25 71.04 64.43 82.24\n",
      " 90.06 67.12 75.85 87.81 76.93 65.5  92.3  50.66 61.83 63.16 64.2  53.6\n",
      " 83.69 80.04 78.86 70.61 62.8  67.06 65.85 94.24 63.8  75.77 94.5  71.83\n",
      " 91.1  91.52 90.08 93.16 86.34 88.1  97.   62.93 76.96 85.46 78.08 66.7\n",
      " 95.86 92.09 81.46 81.86 61.73 77.22 46.8  79.3  72.75 93.8  93.67 75.16\n",
      " 72.45 85.62 86.85 93.28 58.33 64.33 75.62 54.8  58.5  91.68 69.3  62.6\n",
      " 65.41 91.62 88.16 92.32 69.83 83.67 69.92 52.5  56.4  54.6  78.61 69.53\n",
      " 75.71 71.84 70.16 69.66 95.4  84.62 91.53 85.66 61.57 80.63 69.33 62.3\n",
      " 87.87 70.75 87.58 58.8  62.88 73.66 97.76 88.44 54.83 67.25 90.76 82.75\n",
      " 75.66 91.04 90.58 91.86 73.1  73.3  69.1  51.83 62.26 65.67 68.65 51.42\n",
      " 78.28 80.58 55.33 91.17 74.9  93.43 90.81 89.89 62.67 90.26 62.15 70.08\n",
      " 87.88 72.67 93.2  60.46 71.07 46.   54.4  86.12 72.15 71.85 49.9  83.75\n",
      " 71.73 90.33 86.14 66.2  88.75 67.33 57.14 67.76 82.66 77.92 79.38 67.17\n",
      " 89.17 79.67 96.8  71.37 82.87 89.44 71.76 57.7  89.23 79.06 83.25 61.86\n",
      " 89.56 82.14 70.27 59.7  93.07 79.9  64.5  66.85 69.16 52.09 78.72]\n",
      "******************** 10board ********************\n",
      "['board ofsecondary education,ap' 'cbse' 'state board' 'mp board bhopal'\n",
      " 'icse' 'karnataka secondary school of examination' 'up'\n",
      " 'karnataka state education examination board' 'ssc'\n",
      " 'kerala state technical education' 0 'bseb'\n",
      " 'state board of secondary education, andhra pradesh' 'matriculation'\n",
      " 'gujarat state board' 'karnataka state board' 'wbbse'\n",
      " 'maharashtra state board' 'icse board' 'up board'\n",
      " 'board of secondary education(bse) orissa'\n",
      " 'little jacky matric higher secondary school' 'uttar pradesh board'\n",
      " 'bsc,orissa' 'mp board' 'upboard' 'matriculation board' 'j & k bord'\n",
      " 'rbse' 'central board of secondary education' 'pseb' 'jkbose'\n",
      " 'haryana board of school education,(hbse)' 'metric' 'ms board' 'kseeb'\n",
      " 'stateboard' 'maticulation' 'karnataka secondory education board'\n",
      " 'mumbai board' 'sslc' 'kseb' 'board secondary  education' 'matric board'\n",
      " 'board of secondary education' 'west bengal board of secondary education'\n",
      " 'jharkhand secondary examination board,ranchi' 'u p board' 'bseb,patna'\n",
      " 'hsc' 'bse' 'sss pune' 'karnataka education board (keeb)' 'kerala'\n",
      " 'state board of secondary education( ssc)' 'gsheb' 'up(allahabad)'\n",
      " 'nagpur' 'don bosco maatriculation school'\n",
      " 'karnataka state secondary education board' 'maharashtra'\n",
      " 'karnataka secondary education board'\n",
      " 'himachal pradesh board of school education'\n",
      " 'certificate of middle years program of ib'\n",
      " 'karnataka board of secondary education'\n",
      " 'board of secondary education rajasthan' 'uttarakhand board' 'ua'\n",
      " 'board of secendary education orissa'\n",
      " 'karantaka secondary education and examination borad' 'hbsc'\n",
      " 'kseeb(karnataka secondary education examination board)'\n",
      " 'cbse[gulf zone]' 'hbse' 'state(karnataka board)'\n",
      " 'jharkhand accademic council'\n",
      " 'jharkhand secondary examination board (ranchi)'\n",
      " 'karnataka secondary education examination board' 'delhi board'\n",
      " 'mirza ahmed ali baig' 'jseb' 'bse, odisha' 'bihar board'\n",
      " 'maharashtra state(latur board)' 'rajasthan board' 'mpboard' 'upbhsie'\n",
      " 'secondary board of rajasthan' 'tamilnadu matriculation board'\n",
      " 'jharkhand secondary board'\n",
      " 'board of secondary education,andhara pradesh' 'up baord' 'state'\n",
      " 'board of intermediate education'\n",
      " 'state board of secondary education,andhra pradesh'\n",
      " 'up board , allahabad' 'stjosephs girls higher sec school,dindigul'\n",
      " 'maharashtra board' 'education board of kerala' 'board of ssc'\n",
      " 'maharashtra state board pune' 'board of school education harayana'\n",
      " 'secondary school cerfificate' 'maharashtra sate board' 'ksseb'\n",
      " 'bihar examination board, patna' 'latur'\n",
      " 'board of secondary education, rajasthan' 'state borad hp' 'cluny'\n",
      " 'bsepatna' 'up borad' 'ssc board of andrapradesh' 'matric' 'bse,orissa'\n",
      " 'ssc-andhra pradesh' 'mp' 'karnataka education board' 'mhsbse'\n",
      " 'karnataka sslc board bangalore' 'karnataka' 'u p'\n",
      " 'secondary school of education' 'state board of karnataka'\n",
      " 'karnataka secondary board' 'andhra pradesh board ssc'\n",
      " 'stjoseph of cluny matrhrsecschool,neyveli,cuddalore district'\n",
      " 'hse,orissa' 'national public school' 'nagpur board'\n",
      " 'jharkhand academic council' 'bsemp'\n",
      " 'board of secondary education, andhra pradesh'\n",
      " 'board of secondary education orissa'\n",
      " 'board of secondary education,rajasthan(rbse)'\n",
      " 'board of secondary education,ap'\n",
      " 'board of secondary education,andhra pradesh'\n",
      " 'jawahar navodaya vidyalaya' 'aisse'\n",
      " 'karnataka board of higher education' 'bihar' 'kerala state board'\n",
      " 'cicse' 'tn state board' 'kolhapur divisional board, maharashtra'\n",
      " 'bharathi matriculation school' 'uttaranchal state board' 'wbbsce'\n",
      " 'mp state board' 'seba(assam)' 'anglo indian' 'gseb' 'uttar pradesh'\n",
      " 'ghseb' 'board of school education uttarakhand' 'msbshse,pune'\n",
      " 'tamilnadu state board' 'kerala university'\n",
      " 'uttaranchal shiksha avam pariksha parishad'\n",
      " 'bse(board of secondary education)' 'bright way college, (up board)'\n",
      " 'school secondary education, andhra pradesh'\n",
      " 'secondary state certificate'\n",
      " 'maharashtra state board of secondary and higher secondary education,pune'\n",
      " 'andhra pradesh state board' 'stmary higher secondary' 'cgbse'\n",
      " 'secondary school certificate' 'rajasthan board ajmer' 'mpbse'\n",
      " 'pune board' 'cbse ' 'board of secondary education,orissa'\n",
      " 'maharashtra state board,pune' 'up bord'\n",
      " 'kiran english medium high school' 'state board (jac, ranchi)'\n",
      " 'gujarat board' 'state board ' 'sarada high scchool'\n",
      " 'kalaimagal matriculation higher secondary school' 'karnataka board'\n",
      " 'maharastra board' 'sslc board' 'ssc maharashtra board'\n",
      " 'tamil nadu state' 'uttrakhand board'\n",
      " 'bihar secondary education board,patna'\n",
      " 'haryana board of school education'\n",
      " 'sri kannika parameswari highier secondary school, udumalpet'\n",
      " 'ksseb(karnataka state board)' 'nashik board'\n",
      " 'jharkhand secondary education board' 'himachal pradesh board'\n",
      " 'maharashtra satate board'\n",
      " 'maharashtra state board mumbai divisional board'\n",
      " 'dav public school,hehal' 'state board of secondary education, ap'\n",
      " 'rajasthan board of secondary education' 'hsce'\n",
      " 'karnataka secondary education' 'board of secondary education,odisha'\n",
      " 'maharashtra nasik board'\n",
      " 'west bengal board of secondary examination (wbbse)'\n",
      " 'holy cross matriculation hr sec school' 'cbsc' 'apssc' 'bseb patna'\n",
      " 'kolhapur' 'bseb, patna' 'up board allahabad' 'biharboard'\n",
      " 'nagpur board,nagpur' 'pune' 'gyan bharati school' 'rbse,ajmer'\n",
      " 'board of secondaray education' 'secondary school education' 'state bord'\n",
      " 'jbse,jharkhand' 'hse' 'madhya pradesh board'\n",
      " 'bihar school examination board'\n",
      " 'west bengal board of secondary eucation' 'state boardmp board '\n",
      " 'icse board , new delhi' 'board of secondary education (bse) orissa'\n",
      " 'maharashtra state board for ssc' 'board of secondary school education'\n",
      " 'latur board' \"stmary's convent inter college\" 'nagpur divisional board'\n",
      " 'ap state board' 'cgbse raipur' 'uttranchal board' 'ksbe'\n",
      " 'central board of secondary education, new delhi'\n",
      " 'bihar school examination board patna' 'cbse board' 'sslc,karnataka'\n",
      " 'mp-bse' 'up bourd' 'dav public school sec 14'\n",
      " 'board of school education haryana'\n",
      " 'council for indian school certificate examination' 'aurangabad board'\n",
      " 'j&k state board of school education'\n",
      " 'maharashtra state board of secondary and higher secondary education'\n",
      " 'maharashtra state boar of secondary and higher secondary education'\n",
      " 'ssc regular' 'karnataka state examination board' 'nasik'\n",
      " 'west bengal  board of secondary education' 'up board,allahabad'\n",
      " 'bseb ,patna'\n",
      " 'state board - west bengal board of secondary education : wbbse'\n",
      " 'maharashtra state board of secondary & higher secondary education'\n",
      " 'delhi public school' 'karnataka secondary eduction'\n",
      " 'secondary education board of rajasthan' 'maharashtra board, pune'\n",
      " 'rbse (state board)' 'apsche' 'board of  secondary education'\n",
      " 'board of high school and intermediate education uttarpradesh' 'kea'\n",
      " 'board of secondary education - andhra pradesh'\n",
      " 'ap state board for secondary education' 'seba'\n",
      " 'punjab school education board, mohali' 'jharkhand acedemic council'\n",
      " 'hse,board' 'board of ssc education andhra pradesh' 'up-board'\n",
      " 'bse,odisha']\n",
      "******************** 12graduation ********************\n",
      "[2007 2010 2008 2009 2006 2011 2005 1995 2004 2012 2003 2002 2001 1998\n",
      " 2013 1999]\n",
      "******************** 12percentage ********************\n",
      "[95.8  85.   68.2  83.6  76.8  87.   67.5  91.   91.2  72.2  83.7  86.\n",
      " 69.83 62.4  79.9  64.43 74.8  66.66 64.8  62.2  84.63 74.4  95.2  43.42\n",
      " 90.   82.8  82.5  83.   68.   74.   92.   86.1  84.4  68.4  61.   93.8\n",
      " 85.4  67.   89.66 68.6  60.   73.   87.7  87.16 82.   71.4  75.   61.46\n",
      " 49.5  72.5  81.5  78.   90.1  70.1  95.4  61.1  49.   79.   88.3  77.8\n",
      " 94.4  86.67 73.2  64.   77.   78.67 72.   78.2  95.   82.4  60.2  62.6\n",
      " 70.   71.33 70.08 56.   80.   84.33 87.9  65.   68.5  94.2  66.   88.\n",
      " 76.6  50.8  66.5  76.4  65.8  48.   63.   71.55 86.33 71.3  57.6  83.4\n",
      " 75.16 77.77 60.25 89.6  86.4  80.4  59.   73.6  63.6  66.6  86.8  79.6\n",
      " 87.58 81.4  89.   62.   47.   77.2  71.2  54.   67.6  91.9  63.1  69.\n",
      " 68.46 85.2  78.4  82.2  95.6  81.33 88.9  82.75 72.6  66.67 70.2  61.5\n",
      " 70.6  79.4  61.8  95.5  80.7  60.4  77.14 75.2  81.2  80.8  88.88 83.9\n",
      " 65.2  83.1  80.6  70.16 90.91 84.7  68.55 59.16 78.83 59.9  75.6  87.8\n",
      " 79.2  80.3  82.1  65.5  84.3  64.4  91.6  95.3  69.8  86.9  73.4  56.9\n",
      " 86.7  64.7  80.5  61.6  90.7  81.   57.   92.6  78.6  71.   71.5  70.4\n",
      " 89.5  76.66 80.1  54.4  80.9  84.8  69.45 93.4  56.8  91.5  90.67 64.5\n",
      " 96.1  62.8  94.1  89.7  76.   73.8  78.3  96.6  60.17 75.4  72.4  52.\n",
      " 77.4  69.6  56.2  78.43 82.7  74.45 76.2  68.8  78.8  50.   67.4  95.41\n",
      " 84.   71.08 94.5  67.75 87.1  81.8  80.2  83.58 62.83 69.4  86.5  67.67\n",
      " 74.2  66.4  55.   61.2  64.6  43.12 61.57 84.5  83.8  89.1  74.6  81.1\n",
      " 80.83 67.8  76.5  87.83 69.9  88.4  58.55 83.33 82.6  69.2  63.2  88.7\n",
      " 62.66 61.7  96.7  62.5  79.57 93.   78.16 74.92 94.16 51.4  97.1  94.9\n",
      " 87.4  63.4  87.66 65.4  68.67 58.   68.66 67.7  91.3  79.8  81.6  67.25\n",
      " 55.2  65.6  64.3  51.63 93.7  69.04 50.2  96.5  77.7  90.2  72.67 73.83\n",
      " 71.9  82.83 82.08 77.38 71.8  66.8  71.25 53.   76.62 72.77 79.83 77.3\n",
      " 81.17 81.12 62.16 67.68 57.8  85.3  83.67 75.69 75.9  55.02 77.5  88.83\n",
      " 75.5  92.3  67.2  62.3  72.48 59.2  72.8  60.13 94.3  89.8  81.3  82.02\n",
      " 76.89 60.16 77.6  69.33 87.5  74.5  46.   74.88 68.33 84.67 87.2  66.3\n",
      " 58.6  85.36 68.7  55.54 68.89 82.3  58.2  48.34 54.2  92.7  71.01 53.8\n",
      " 56.6  66.77 71.6  90.6  82.66 89.08 93.6  72.3  69.7  84.17 92.1  90.4\n",
      " 92.67 64.33 62.81 67.17 95.1  68.83 97.8  88.1  48.8  60.05 69.07 89.3\n",
      " 86.3  94.6  86.25 79.23 97.   84.75 89.2  77.54 60.8  84.6  86.2  65.16\n",
      " 94.33 74.67 94.7  92.2  90.33 73.61 53.6  58.4  78.86 76.44 78.66 97.5\n",
      " 62.26 69.84 78.13 60.83 51.3  57.67 67.9  56.3  88.6  52.5  76.33 94.\n",
      " 64.88 80.75 71.66 50.3  76.67 67.57 64.45 69.5  72.15 59.77 61.4  72.1\n",
      " 90.25 97.4  89.4  57.5  70.8  56.4  96.2  88.77 96.   83.2  69.17 80.33\n",
      " 79.04 59.8  81.66 72.46 92.5  50.5  96.8  93.5  65.33 92.4  72.66 87.33\n",
      " 94.8  60.3  90.3  61.17 82.25 88.5  75.11 70.33 85.8  88.8  45.6  58.33\n",
      " 76.24 45.   68.3  89.75 69.67 88.2  65.56 74.12 86.54 57.11 65.66 85.67\n",
      " 96.3  72.31 70.3  77.86 94.75 69.32 84.9  60.1  86.6  70.15 66.62 79.16\n",
      " 76.7  65.25 93.3  68.15 80.25 76.77 65.9  91.25 54.14 55.55 95.65 75.91\n",
      " 66.2  70.66 59.4  58.92 51.   63.7  85.5  70.83 81.7  63.8  75.25 43.\n",
      " 61.16 56.12 60.66 69.58 70.04 79.67 49.67 76.3  75.67 61.3  82.33 88.33\n",
      " 88.45 96.75 84.25 78.5  77.85 82.46 74.3  73.67 60.01 91.33 69.16 91.7\n",
      " 65.83 74.83 58.5  72.17 87.6  75.85 79.87 85.9  85.6  85.7  73.11 88.66\n",
      " 82.56 78.34 89.33 66.15 87.25 69.53 53.17 79.19 77.16 54.08 52.2  83.5\n",
      " 85.57 60.33 67.23 47.6  73.25 69.88 84.53 89.9  79.3  93.1  92.25 91.58\n",
      " 75.14 73.3  77.1  79.5  59.6  50.4  74.89 63.33 77.23 83.43 83.3  95.7\n",
      " 90.8  75.75 47.2  86.31 85.17 63.83 64.57 73.69 66.86 81.75 55.6  62.12\n",
      " 80.58 74.96 70.14 69.54 61.83 72.33 74.33 89.04 71.67 60.36 90.66 60.5\n",
      " 70.26 57.2  87.69 85.56 64.2  45.5  70.5  93.9  57.58 85.1  64.1  79.1\n",
      " 91.83 88.93 46.33 94.17 95.9  81.9  76.12 84.28 55.4  58.04 91.8  74.7\n",
      " 83.25 91.4  54.66 82.9  66.46 71.52 56.17 59.66 62.7  78.25 61.92 68.16\n",
      " 53.83 47.83 92.75 63.44 87.05 92.08 68.69 55.33 89.67 63.77 74.53 60.6\n",
      " 77.83 56.04 70.67 65.1  87.3  56.22 96.4  83.62 74.44 97.9  57.33 71.17\n",
      " 95.08 84.2  97.6  57.83 93.41 79.33 64.83 75.66 75.8  62.33 92.9  92.8\n",
      " 70.92 81.42 90.9  52.7  82.03 73.63 75.1  87.17 73.33 62.23 61.33 52.9\n",
      " 83.88 83.75 83.83 67.74 59.38 68.04 77.81 89.26 74.71 53.2  53.85 65.54\n",
      " 51.6  68.77 86.29 88.75 49.6  77.33 58.8  71.85 66.17 53.44 66.83 93.2\n",
      " 85.33 72.9  57.1  98.7  88.16 54.33 85.42 90.5  74.16 98.2  82.71 90.03\n",
      " 85.23 63.16 96.33 84.09 74.05 81.16 40.   60.06 89.16 69.89 61.23 79.82\n",
      " 65.72 55.8  76.85 69.3  90.17 53.16 61.85 89.58 83.23 67.3  93.33 52.8\n",
      " 73.17 52.34 63.5  77.11 62.11 97.2  78.88 65.12 55.44 53.55 80.22 62.9\n",
      " 55.66 94.91 76.83 64.08 83.34 85.88 63.3  53.4  54.8  54.5  74.25 79.75\n",
      " 60.44 85.66 55.5  51.23 90.83 67.1  83.16 79.7  56.1  68.17 82.53 87.14\n",
      " 63.9  74.14 89.91 77.06 60.42 75.33 96.25 69.12 77.56 86.46 81.26 64.31\n",
      " 71.83 86.91 81.25 54.83 59.11 91.1  81.67 53.33 82.55]\n",
      "******************** 12board ********************\n",
      "['board of intermediate education,ap' 'cbse' 'state board' 'mp board'\n",
      " 'isc' 'icse' 'karnataka pre university board' 'up' 'p u board, karnataka'\n",
      " 'dept of pre-university education' 'bie' 'kerala state hse board'\n",
      " 'up board' 0 'bseb' 'chse' 'puc' ' upboard'\n",
      " 'state  board of intermediate education, andhra pradesh'\n",
      " 'karnataka state board'\n",
      " 'west bengal state council of technical education' 'wbchse'\n",
      " 'maharashtra state board' 'ssc' 'isc board'\n",
      " 'sda matric higher secondary school' 'uttar pradesh board' 'ibe' 'chsc'\n",
      " 'board of intermediate' 'isce' 'upboard' 'sbtet'\n",
      " 'hisher seconadry examination(state board)' 'pre university'\n",
      " 'borad of intermediate' 'j & k board'\n",
      " 'intermediate board of andhra pardesh' 'rbse'\n",
      " 'central board of secondary education' 'jkbose' 'hbse'\n",
      " 'board of intermediate education' 'state' 'ms board' 'pue'\n",
      " 'intermediate state board' 'stateboard' 'hsc'\n",
      " 'electonincs and communication(dote)' 'karnataka pu board'\n",
      " 'government polytechnic mumbai , mumbai board' 'pu board'\n",
      " 'baord of intermediate education' 'apbie' 'andhra board'\n",
      " 'tamilnadu stateboard'\n",
      " 'west bengal council of higher secondary education' 'cbse,new delhi'\n",
      " 'u p board' 'intermediate' 'biec,patna'\n",
      " 'diploma in engg (e &tc) tilak maharashtra vidayapeeth' 'hsc pune'\n",
      " 'pu board karnataka' 'kerala' 'gsheb' 'up(allahabad)' 'nagpur'\n",
      " 'st joseph hr sec school' 'pre university board' 'ipe' 'maharashtra'\n",
      " 'kea' 'apsb' 'himachal pradesh board of school education' 'staae board'\n",
      " 'international baccalaureate (ib) diploma' 'nios'\n",
      " 'karnataka board of university' 'board of secondary education rajasthan'\n",
      " 'uttarakhand board' 'ua' 'scte vt orissa' 'matriculation'\n",
      " 'department of pre-university education' 'wbscte'\n",
      " 'preuniversity board(karnataka)' 'jharkhand accademic council' 'bieap'\n",
      " 'msbte (diploma in computer technology)'\n",
      " 'jharkhand acamedic council (ranchi)'\n",
      " 'department of pre-university eduction' 'biec' 'all india board' 'sjrcw'\n",
      " ' board of intermediate' 'msbte' 'sri sankara vidyalaya' 'chse, odisha'\n",
      " 'bihar board' 'maharashtra state(latur board)' 'rajasthan board'\n",
      " 'mpboard' 'state board of technical eduction panchkula' 'upbhsie' 'apbsc'\n",
      " 'state board of technical education and training'\n",
      " 'secondary board of rajasthan'\n",
      " 'tamilnadu higher secondary education board' 'jharkhand academic council'\n",
      " 'board of intermediate education,hyderabad' 'up baord' 'pu' 'dte'\n",
      " 'board of secondary education' 'pre-university'\n",
      " 'board of intermediate education,andhra pradesh' 'up board , allahabad'\n",
      " 'srv girls higher sec school,rasipuram'\n",
      " 'intermediate board of education,andhra pradesh'\n",
      " 'intermediate board examination'\n",
      " 'department of pre-university education, bangalore'\n",
      " 'stmiras college for girls' 'mbose'\n",
      " 'department of pre-university education(government of karnataka)' 'dpue'\n",
      " 'msbte pune' 'board of school education harayana' 'sbte, jharkhand'\n",
      " 'bihar intermediate education council, patna' 'higher secondary'\n",
      " 's j polytechnic' 'latur' 'board of secondary education, rajasthan'\n",
      " 'jyoti nivas' 'pseb' 'biec-patna'\n",
      " 'board of intermediate education,andra pradesh' 'chse,orissa'\n",
      " 'pre-university board' 'mp' 'intermediate board'\n",
      " 'govt of karnataka department of pre-university education'\n",
      " 'karnataka education board' 'board of secondary school of education'\n",
      " 'pu board ,karnataka' 'karnataka secondary education board'\n",
      " 'karnataka sslc' 'board of intermediate ap' 'u p'\n",
      " 'state board of karnataka' 'directorate of technical education,banglore'\n",
      " 'matric board' 'andhpradesh board of intermediate education'\n",
      " 'stjoseph of cluny matrhrsecschool,neyveli,cuddalore district' 'bte up'\n",
      " 'scte and vt ,orissa' 'hbsc' 'jawahar higher secondary school'\n",
      " 'nagpur board' 'bsemp' 'board of intermediate education, andhra pradesh'\n",
      " 'board of higher secondary orissa'\n",
      " 'board of secondary education,rajasthan(rbse)'\n",
      " 'board of intermediate education:ap,hyderabad' 'science college'\n",
      " 'karnatak pu board' 'aissce' 'pre university board of karnataka' 'bihar'\n",
      " 'kerala state board' 'uo board' 'cicse' 'karnataka board'\n",
      " 'tn state board' 'kolhapur divisional board, maharashtra'\n",
      " 'jaycee matriculation school'\n",
      " 'board of higher secondary examination, kerala' 'uttaranchal state board'\n",
      " 'intermidiate' 'bciec,patna' 'bice' 'karnataka state' 'state broad'\n",
      " 'wbbhse' 'gseb' 'uttar pradesh' 'ghseb'\n",
      " 'board of school education uttarakhand' 'gseb/technical education board'\n",
      " 'msbshse,pune' 'tamilnadu state board' 'board of technical education'\n",
      " 'kerala university' 'uttaranchal shiksha avam pariksha parishad'\n",
      " 'chse(concil of higher secondary education)'\n",
      " 'bright way college, (up board)' 'board of intermidiate'\n",
      " 'higher secondary state certificate' 'karanataka secondary board'\n",
      " 'maharashtra board' 'andhra pradesh state board' 'cgbse'\n",
      " 'diploma in computers' 'bte,delhi' 'rajasthan board ajmer' 'mpbse'\n",
      " 'pune board' 'state board of technical education' 'gshseb'\n",
      " 'amravati divisional board' 'dote (diploma - computer engg)' 'up bord'\n",
      " 'karnataka pre-university board' 'jharkhand board'\n",
      " 'punjab state board of technical education & industrial training'\n",
      " 'department of technical education' 'sri chaitanya junior kalasala'\n",
      " 'state board (jac, ranchi)' 'gujarat board' 'aligarh muslim university'\n",
      " 'tamil nadu state board' 'hse' 'karnataka secondary education'\n",
      " 'state board ' 'karnataka pre unversity board'\n",
      " 'ks rangasamy institute of technology'\n",
      " 'karnataka board secondary education' 'narayana junior college' 'bteup'\n",
      " 'board of intermediate(bie)' 'hsc maharashtra board' 'tamil nadu state'\n",
      " 'uttrakhand board' 'psbte' 'stateboard/tamil nadu'\n",
      " 'intermediate council patna' 'technical board, punchkula'\n",
      " 'board of intermidiate examination'\n",
      " 'sri kannika parameswari highier secondary school, udumalpet' 'ap board'\n",
      " 'nashik board' 'himachal pradesh board' 'maharashtra satate board'\n",
      " 'andhra pradesh board of secondary education' 'tamil nadu polytechnic'\n",
      " 'maharashtra state board mumbai divisional board'\n",
      " 'department of pre university education' 'dav public school,hehal'\n",
      " 'board of intermediate education, ap'\n",
      " 'rajasthan board of secondary education'\n",
      " 'department of technical education, bangalore' 'chse,odisha'\n",
      " 'maharashtra nasik board'\n",
      " 'west bengal council of higher secondary examination (wbchse)'\n",
      " 'holy cross matriculation hr sec school' 'cbsc' 'pu  board karnataka'\n",
      " 'biec patna' 'kolhapur' 'bseb, patna' 'up board allahabad' 'intermideate'\n",
      " 'nagpur board,nagpur' 'diploma(msbte)' 'dav public school'\n",
      " 'pre university board, karnataka' 'ssm srsecschool' 'state bord'\n",
      " 'jstb,jharkhand' 'intermediate board of education' 'mp board bhopal'\n",
      " 'pub' 'madhya pradesh board' 'bihar intermediate education council'\n",
      " 'west bengal council of higher secondary eucation'\n",
      " 'isc board , new delhi' 'mpc'\n",
      " 'certificate for higher secondary education (chse)orissa'\n",
      " 'maharashtra state board for hsc' 'board of intermeadiate education'\n",
      " 'latur board' 'andhra pradesh' 'karnataka pre-university'\n",
      " 'lucknow public college' 'nagpur divisional board'\n",
      " 'ap intermediate board' 'cgbse raipur' 'uttranchal board' 'jiec'\n",
      " 'central board of secondary education, new delhi'\n",
      " 'bihar school examination board patna'\n",
      " 'state board of technical education harayana' 'mp-bse' 'up bourd'\n",
      " 'dav public school sec 14'\n",
      " 'haryana state board of technical education chandigarh'\n",
      " 'council for indian school certificate examination'\n",
      " 'jaswant modern school' 'madhya pradesh open school' 'aurangabad board'\n",
      " 'j&k state board of school education'\n",
      " 'diploma ( maharashtra state board of technical education)'\n",
      " 'board of technicaleducation ,delhi'\n",
      " 'maharashtra state boar of secondary and higher secondary education'\n",
      " 'hslc (tamil nadu state board)' 'karnataka state examination board'\n",
      " 'puboard' 'nasik' 'west bengal board of higher secondary education'\n",
      " 'up board,allahabad' 'board of intrmediate education,ap' 'cbese'\n",
      " 'karnataka state pre- university board'\n",
      " 'state board - west bengal council of higher secondary education : wbchse'\n",
      " 'maharashtra state board of secondary & higher secondary education'\n",
      " 'biec, patna' 'state syllabus' 'cbse board' 'scte&vt'\n",
      " 'board of intermediate,ap'\n",
      " 'secnior secondary education board of rajasthan'\n",
      " 'maharashtra board, pune' 'rbse (state board)'\n",
      " 'board of intermidiate education,ap'\n",
      " 'board of high school and intermediate education uttarpradesh'\n",
      " 'higher secondary education' 'board fo intermediate education, ap'\n",
      " 'intermedite' 'ap board for intermediate education' 'ahsec'\n",
      " 'punjab state board of technical education & industrial training, chandigarh'\n",
      " 'state board - tamilnadu' 'jharkhand acedemic council'\n",
      " 'scte & vt (diploma)' 'karnataka pu' 'board of intmediate education ap'\n",
      " 'up-board' 'boardofintermediate']\n",
      "******************** CollegeID ********************\n",
      "[1141 5807   64 ... 3572 6327 4883]\n",
      "******************** CollegeTier ********************\n",
      "[2 1]\n",
      "******************** Degree ********************\n",
      "['B.Tech/B.E.' 'MCA' 'M.Tech./M.E.' 'M.Sc. (Tech.)']\n",
      "******************** Specialization ********************\n",
      "['computer engineering' 'electronics and communication engineering'\n",
      " 'information technology' 'computer science & engineering'\n",
      " 'mechanical engineering' 'electronics and electrical engineering'\n",
      " 'electronics & telecommunications'\n",
      " 'instrumentation and control engineering' 'computer application'\n",
      " 'electronics and computer engineering' 'electrical engineering'\n",
      " 'applied electronics and instrumentation'\n",
      " 'electronics & instrumentation eng' 'information science engineering'\n",
      " 'civil engineering' 'mechanical and automation'\n",
      " 'industrial & production engineering'\n",
      " 'control and instrumentation engineering' 'metallurgical engineering'\n",
      " 'electronics and instrumentation engineering' 'electronics engineering'\n",
      " 'ceramic engineering' 'chemical engineering' 'aeronautical engineering'\n",
      " 'other' 'biotechnology' 'embedded systems technology'\n",
      " 'electrical and power engineering' 'computer science and technology'\n",
      " 'mechatronics' 'automobile/automotive engineering' 'polymer technology'\n",
      " 'mechanical & production engineering' 'power systems and automation'\n",
      " 'instrumentation engineering' 'telecommunication engineering'\n",
      " 'industrial & management engineering' 'industrial engineering'\n",
      " 'computer and communication engineering'\n",
      " 'information & communication technology' 'information science'\n",
      " 'internal combustion engine' 'computer networking'\n",
      " 'biomedical engineering' 'electronics' 'computer science']\n",
      "******************** collegeGPA ********************\n",
      "[78.   70.06 70.   ... 65.05 74.73 70.42]\n",
      "******************** CollegeCityID ********************\n",
      "[1141 5807   64 ... 3572 6327 4883]\n",
      "******************** CollegeCityTier ********************\n",
      "[0 1]\n",
      "******************** CollegeState ********************\n",
      "['Andhra Pradesh' 'Madhya Pradesh' 'Uttar Pradesh' 'Delhi' 'Karnataka'\n",
      " 'Tamil Nadu' 'West Bengal' 'Maharashtra' 'Haryana' 'Telangana' 'Orissa'\n",
      " 'Punjab' 'Kerala' 'Gujarat' 'Rajasthan' 'Chhattisgarh' 'Uttarakhand'\n",
      " 'Jammu and Kashmir' 'Jharkhand' 'Himachal Pradesh' 'Bihar' 'Assam' 'Goa'\n",
      " 'Sikkim' 'Union Territory' 'Meghalaya']\n",
      "******************** GraduationYear ********************\n",
      "[2011 2012 2014 2016 2013 2010 2015 2009 2017    0 2007]\n",
      "******************** English ********************\n",
      "[515 695 615 635 545 560 590 605 565 495 380 395 485 685 465 455 385 370\n",
      " 625 575 415 535 580 475 570 430 450 510 425 555 300 505 440 525 420 640\n",
      " 444 630 665 675 325 405 375 315 710 345 250 350 275 360 265 595 585 520\n",
      " 500 735 765 335 490 660 355 530 365 655 730 445 720 645 650 875 534 454\n",
      " 544 295 285 435 464 705 554 745 280 825 290 715 310 215 700 870 305 524\n",
      " 755 790 800 205 725 780 404 770 805 180 830 795 255 324 775 394 240 225\n",
      " 850 684 334]\n",
      "******************** Logical ********************\n",
      "[585 610 545 625 555 435 670 565 455 605 580 425 520 530 495 445 535 360\n",
      " 335 510 570 375 405 485 475 525 640 595 560 340 395 415 465 505 385 460\n",
      " 410 500 645 480 355 450 440 470 255 305 590 630 365 350 325 400 205 655\n",
      " 295 345 390 665 515 540 680 245 620 420 575 635 554 315 615 215 370 300\n",
      " 274 685 324 675 650 464 684 275 334 544 454 534 404 795 285 715 700 674\n",
      " 690 695 394 270 705 310 490 330 280 735 380 290 265 240 195 235 660]\n",
      "******************** Quant ********************\n",
      "[525 780 370 625 465 620 380 590 530 545 565 715 470 645 355 515 435 445\n",
      " 485 270 630 575 405 605 385 695 450 295 430 415 635 475 460 825 500 455\n",
      " 554 595 495 665 250 310 325 390 510 535 340 440 705 534 400 395 570 750\n",
      " 330 320 454 365 615 505 425 235 210 585 810 555 735 560 524 690 870 765\n",
      " 675 520 655 305 725 840 650 375 720 265 280 464 404 800 680 260 674 760\n",
      " 345 335 165 685 544 215 180 795 200 860 334 285 514 195 494 214 275 315\n",
      " 324 175 684 225 740 805 444 410 135 255 220 755 855 145 245 885 120 900\n",
      " 794 775 745 504 820 150 710 190 185 155 580 394]\n",
      "******************** Domain ********************\n",
      "[ 0.63597876  0.96060325  0.45087658  0.97439611  0.12450207 -1.\n",
      "  0.35653649  0.8295846   0.69447933  0.49359639  0.76567358  0.9682375\n",
      "  0.22948175  0.53838689  0.30840058  0.91139528  0.56326782  0.86468541\n",
      "  0.64938971  0.74475835  0.88412251  0.88162007  0.20739217  0.48674701\n",
      "  0.67074315  0.62264292  0.41383826  0.52592258  0.73579571  0.13044174\n",
      "  0.23780284  0.11213944  0.37755142  0.06696071  0.08005528  0.92564577\n",
      "  0.84312373  0.91686996  0.78330354  0.60005718  0.79293628  0.79358061\n",
      "  0.16563309  0.75537512  0.99990456  0.33878635  0.91077016  0.98205712\n",
      "  0.84224832  0.01854094  0.05316031  0.94211655  0.12301673  0.48834798\n",
      "  0.37605959  0.0587928   0.10487136  0.60064396  0.70409041  0.14478989\n",
      "  0.81941653  0.65576694  0.02106623  0.44461772  0.83762073  0.72598415\n",
      "  0.95389978  0.04099931  0.02196911  0.3423149   0.53586282  0.90148957\n",
      "  0.96177212  0.67964464  0.93839914  0.19015341  0.99546472  0.99000876\n",
      "  0.97879929  0.41433743  0.8246664   0.49063696  0.96600692  0.43696265\n",
      "  0.99225919  0.97629256  0.98546139  0.90915194  0.86372418  0.07454627\n",
      "  0.66183448  0.93037061  0.95224557  0.96090309  0.97706647  0.55738951\n",
      "  0.7908818   0.99966434  0.8799152   0.85882669  0.97166349  0.19376844\n",
      "  0.24545566  0.98374997  0.98720709  0.97952174  0.86873659  0.45901584\n",
      "  0.02231329  0.94513486  0.27604723  0.53678267  0.4239514   0.29876913\n",
      "  0.20671062  0.12569018  0.16363093  0.99138693  0.94327216  0.60703404\n",
      "  0.99139758  0.25577819  0.96221701  0.99123063  0.87550391  0.02331217\n",
      "  0.44714789  0.14325654  0.84084097  0.33618507  0.30451091  0.27925851\n",
      "  0.84980271  0.03293702  0.65410747  0.28677781  0.21678549  0.95868202\n",
      "  0.32874638  0.98466189  0.99674449  0.99434211  0.70082616  0.99887611\n",
      "  0.86262547  0.60553355  0.68456507  0.71452936  0.44619825  0.92514031\n",
      "  0.99526571  0.59828069  0.98652502  0.11166096  0.11655256  0.8957765\n",
      "  0.1559085   0.99764277  0.88790332  0.88570369  0.99405087  0.02781507\n",
      "  0.90394078  0.93174969  0.09575376  0.1925871   0.99868025  0.03114969\n",
      "  0.61061199  0.75837988  0.63958738  0.27350033  0.0109953   0.21325143\n",
      "  0.99925029  0.06844575  0.04222313  0.77657832  0.75618011  0.99808656\n",
      "  0.99982917  0.01656464  0.00815478  0.89984384  0.92879365  0.99769826\n",
      "  0.9956138   0.9788553   0.03056599  0.04219243  0.18477158  0.92460994\n",
      "  0.81062051  0.99742783  0.66033499  0.99615597  0.99859145  0.00275015\n",
      "  0.51986392  0.99729897  0.20273159  0.38009183  0.52173598  0.0139623\n",
      "  0.24249992  0.29429542  0.4099522   0.80558321  0.24320866  0.96532716\n",
      "  0.4845907   0.97524659  0.1798739   0.37113867  0.86613982  0.11502273\n",
      "  0.99991041  0.99179243  0.22105882  0.0417332   0.06222129  0.83968608\n",
      "  0.41552456  0.25302837  0.99657055  0.97289871  0.99896694  0.99391731\n",
      "  0.52911566  0.55321638  0.01770484  0.91541843  0.2995973   0.66732645\n",
      "  0.27845741  0.00853725  0.99858824  0.28278814  0.08874741  0.79984821\n",
      "  0.99653553  0.90474069  0.93858826]\n",
      "******************** ComputerProgramming ********************\n",
      "[445  -1 395 615 645 405 735 385 485 605 495 355 515 545 425 525 455 475\n",
      " 565 535 335 345 465 415 435 155 375 555 305 315 804 285 575 505 195 225\n",
      " 595 275 334 365 685 655 625 585 665 325 235 255 205 494 695 635 215 464\n",
      " 295 394 245 715 265 135 105 524 165 175 125 675 454 745 185 214 145 544\n",
      " 725 840 404 755 705 115 554]\n",
      "******************** ElectronicsAndSemicon ********************\n",
      "[ -1 466 233 366 324 266 333 356 420 260 228 388 300 292 433 196 200 164\n",
      " 400 484 500 452 516 166 533 566 612 133 548]\n",
      "******************** ComputerScience ********************\n",
      "[ -1 407 346 376 500 438 315 253 469 192 530 284 223 561 684 592 623 653\n",
      " 130 715]\n",
      "******************** MechanicalEngg ********************\n",
      "[ -1 469 313 286 253 366 446 206 438 332 393 383 260 561 553 376 526 284\n",
      " 409 473 340 223 420 538 346 435 512 407 580 280 358 500 315 254 616 564\n",
      " 233 306 461 180 606 623]\n",
      "******************** ElectricalEngg ********************\n",
      "[ -1 484 606 393 500 553 580 446 420 324 388 356 313 633 516 366 612 452\n",
      " 526 548 228 433 473 676 292 660 411 286 340 260 206]\n",
      "******************** TelecomEngg ********************\n",
      "[ -1 206 313 420 260 393 366 446 324 340 286 473 484 452 233 292 526 153\n",
      " 516 356 548 228 196 164 388 500]\n",
      "******************** CivilEngg ********************\n",
      "[ -1 320 400 388 260 440 356 292 500 200 300 452 322 340 166 277 516 380\n",
      " 433 280 420 460 480]\n",
      "******************** conscientiousness ********************\n",
      "[ 0.9737 -0.7335  0.2718  0.0464 -0.881  -0.3027  1.7081 -0.0154 -0.159\n",
      " -1.308  -2.272   0.1282  0.3555  0.7027  1.7465  1.1336  0.8463  0.8192\n",
      " -0.1082 -1.0355 -0.4463  0.4155  0.99   -3.1994 -0.4173  1.5644 -0.4854\n",
      " -1.0208  0.3941 -0.8772  0.51   -0.5899 -2.5039  1.2828  0.335  -0.3014\n",
      "  1.8517 -1.1644 -2.2351  0.6646 -0.2628 -1.8825 -1.4517  0.5591  1.4208\n",
      " -0.7264 -0.5116 -1.7389  0.2009 -0.0696 -2.5811 -2.3134  1.2772 -2.8879\n",
      "  1.4374 -1.3447  0.1623  1.7156 -1.9629 -2.457   1.9953 -2.0262 -2.1175\n",
      " -2.7443 -1.4606  0.8578 -1.1901 -0.7651 -0.5719 -2.1698 -1.8083  1.592\n",
      " -0.9969 -1.3742 -1.4992 -1.5953 -3.6631  1.1283 -3.606   0.1788  0.2782\n",
      " -1.6538 -3.3539 -1.1128 -3.3188  0.4285  0.7419 -0.6491 -0.51   -0.5236\n",
      " -0.9653 -3.1752  0.7208  1.3215 -1.6924 -0.1855 -0.6749  0.2318  1.5533\n",
      "  1.0768  1.3686 -0.5332 -0.2632 -1.2287 -1.5765  1.9011  1.0896  0.215\n",
      " -3.4624  0.3836 -3.0448 -2.6007  1.2056 -1.295  -2.7357 -0.0415  1.6692\n",
      "  0.626  -2.4266 -2.1561 -2.8903 -4.1267  0.4034 -1.9243 -1.3025 -1.5964\n",
      "  1.7852  0.6696  0.5522  0.8479 -1.0135 -0.1982 -3.8933 -3.5085 -3.7496\n",
      " -4.0369 -1.977  -3.0315  1.2266 -0.4595  0.8986]\n",
      "******************** agreeableness ********************\n",
      "[ 0.8128  0.3789  1.7109  0.3448 -0.2793 -0.6201 -0.1054  1.2114  0.5454\n",
      "  1.1248  0.0328  0.7119  1.9048  1.0449  0.2668  0.9688 -0.5913 -2.1186\n",
      "  0.8027  1.2028  0.1888  1.3779 -1.8393  0.6568 -0.4536 -0.5213  0.2124\n",
      "  1.2808 -1.1196  0.2578 -2.4516  1.7488 -0.1206  0.0924 -0.0842 -0.4353\n",
      "  1.5444 -0.9531 -2.6847 -0.1232 -3.7836  1.4368  0.8784 -1.4526  0.0459\n",
      " -0.2871  1.0858  1.7878 -0.7866  0.8229 -1.6191 -1.2861  0.6178 -0.2012\n",
      "  0.5008 -0.9033  1.5538 -4.2831  0.8518  0.1498 -1.9953 -1.3713 -2.9314\n",
      " -1.2153 -0.7473 -0.5523 -1.0593  0.4934 -1.7856 -1.9521 -5.6151  1.5928\n",
      " -0.6693 -1.8855 -2.4633 -2.6193  0.7348 -0.8865 -1.6833  1.3198 -5.1156\n",
      " -0.3183  0.3731 -1.2543 -0.7993 -2.1903  0.7816  0.6009  0.3002 -3.6171\n",
      " -2.6181 -1.5273 -2.7754  1.5081 -2.1513 -2.2851  1.6708 -0.7863 -2.3073\n",
      " -3.4506 -0.3684  0.7135 -0.6867 -3.0874 -5.7816  0.3838  0.3123  0.1125\n",
      " -1.4859 -0.0873 -3.1176  0.4488  0.8993 -3.1264 -3.0094 -2.0733 -3.9501\n",
      " -2.9511 -1.7223 -0.1374 -4.7826 -1.0905 -0.6504  0.0875 -3.8284 -1.4883\n",
      "  0.9117  1.5293  0.6211 -2.7846 -0.1334  0.4395 -1.0203  0.9028 -1.7056\n",
      " -3.2434  0.5121  0.8351  0.0762 -1.6313 -2.4243 -1.1373 -3.3994 -2.6583\n",
      " -0.9884  1.3476 -0.4778 -0.0651 -0.832 ]\n",
      "******************** extraversion ********************\n",
      "[ 0.5269  1.2396  0.1637 -0.344  -1.0697 -2.2954 -1.0379  0.01   -0.6048\n",
      " -0.9122  0.0914  0.8171 -0.7585 -0.598   0.672   0.7785 -1.0659  1.3933\n",
      " -0.2714 -1.3599 -1.9881  0.1357 -0.9245 -1.7954  0.0552 -0.0537  1.0859\n",
      "  0.3174  2.1129  0.4711  0.6248  0.2366 -0.5349 -0.4511 -0.6343 -0.7794\n",
      "  0.3817  1.8331 -2.2308 -0.6582 -0.2974 -2.6028 -2.4491 -1.2196  2.1617\n",
      " -0.1988 -0.4891  0.9322 -1.2148  1.7007  1.1437 -0.1437  1.8543  1.547\n",
      "  0.8809 -1.6807  0.7083  0.5994  1.1074 -1.5776  0.9623 -1.8344 -1.5051\n",
      " -0.1626  0.926  -3.2176 -1.3733  1.2525 -1.4688 -2.1418  1.688   1.1558\n",
      " -1.6502  0.4906  1.5428 -1.527   1.9782 -1.9405  0.2113 -2.3759  0.2075\n",
      " -2.0856 -0.3803  0.2729 -4.6009 -1.2511 -0.0319  2.3154 -3.525  -0.8157\n",
      " -0.6355  0.6984  1.3977 -3.0639  2.1234  2.008  -2.3396 -1.9042  1.1804\n",
      " -2.775   0.73    0.164  -0.824  -2.1219 -0.7068  1.4702  1.4267 -1.1422\n",
      " -1.6865 -0.2882 -2.6662  1.0348 -1.0334 -2.9565 -4.2935 -2.7565  0.065\n",
      " -0.1996 -3.537  -2.0131 -0.4226 -3.8636  1.5791 -0.1408 -1.9408 -0.7026\n",
      " -2.4485 -2.9102 -0.6339  1.6484 -3.3713  0.3034  1.3614  2.5354 -0.0933\n",
      "  1.9801  0.3292 -0.8703 -1.0116 -0.4899  0.1138 -1.7086  0.6388 -3.9861\n",
      " -2.521  -2.8113  0.9042  0.2477 -3.8324 -0.3149 -0.2516 -4.4472 -1.7083\n",
      " -1.2056]\n",
      "******************** nueroticism ********************\n",
      "[ 1.3549  -0.1076  -0.8682  -0.4078   0.09163 -0.7415  -2.0092   0.1459\n",
      "  0.9066   0.1798  -0.995   -0.2902  -0.6147  -1.6289  -0.2344   0.06223\n",
      "  0.7798  -0.4879   0.5323   1.8249  -0.3612   0.0623  -1.2303  -1.5021\n",
      "  1.1601  -1.8824  -0.735    0.2727  -2.1998  -1.2486  -1.1218   0.2973\n",
      "  1.7074   0.26793 -2.2879   1.0024   0.653   -0.4821  -0.6428  -0.349\n",
      "  1.5404   0.3995   0.6498   1.794    0.0192   1.0333   0.4148   0.8848\n",
      " -0.7603   0.88483 -0.5253   1.2869   1.4724  -0.8778  -0.1727   0.0035\n",
      " -1.1128   1.6672   0.64983  1.1199  -2.3895  -1.7556  -2.136    0.53233\n",
      " -0.0552  -0.26087  0.17983 -0.6134   0.219    0.5262   0.76733  0.00353\n",
      " -1.3753  -0.29027  1.0611  -0.7015   2.6475   0.7673   1.4136   0.29733\n",
      "  0.0917  -1.4653   0.7967   2.2949  -1.3478  -0.2609   1.5899  -0.05527\n",
      "  2.1774   1.4297  -0.3414  -0.78967 -1.1422   2.301   -0.9953   0.9169\n",
      " -0.52527 -0.87777 -2.643   -0.40777 -0.01    -0.4371   1.58993  2.4278\n",
      "  1.3255   2.9349   0.6204  -2.0529  -1.8179  -1.05407  2.0599   2.0475\n",
      " -1.3184   1.85433 -0.5644  -1.11277 -0.365   -1.4066   1.2374  -1.9033\n",
      "  1.9424  -2.5163   0.70853 -1.5828   1.67803  1.7662  -1.58287  2.53\n",
      " -0.70157  0.44423  0.4442   2.1743   1.9207   0.3561  -1.7004  -2.5047\n",
      "  1.1492   0.3756  -1.671    0.8457  -0.17277 -0.99527 -0.76027 -1.34787\n",
      " -1.23027  0.7086   1.5018  -1.3255   0.973   -2.1704   1.06113  2.1187\n",
      "  0.40413 -0.0846  -1.9354  -0.43717  1.41363  3.3525   0.4041   1.76613\n",
      "  1.14923 -2.2627  -0.64277 -1.46537  1.32553  0.1477  -0.7897  -0.61337\n",
      "  1.11983  3.235    0.2679   1.70743 -0.34897  2.4125   1.35483  0.62043\n",
      "  2.6814  -1.0541   1.8543  -1.1911   0.41483 -0.9659   3.0617   1.23733\n",
      " -0.7496   2.765    1.82493  2.7356  -1.49467  2.4712  -0.5382   2.29493\n",
      " -0.5958   2.47123 -1.5899  -0.08457 -1.7591   3.3152   0.35603  2.2068\n",
      " -1.3008  -0.96597 -0.8177   0.7493   1.678    1.00233  1.50173  0.97293\n",
      "  1.0747   1.5578   2.5546  -1.14217  0.6605   2.5593   0.9553   0.2759\n",
      "  2.0306 ]\n",
      "******************** openess_to_experience ********************\n",
      "[-0.4455  0.8637  0.6721 -0.9194 -0.1295 -0.8608 -1.0872  1.247  -0.2859\n",
      "  0.0973  0.0284 -1.2354  1.2528  1.4386  0.3444 -1.3539 -2.7769 -5.0763\n",
      " -0.6692 -0.2875  1.1343 -0.0943 -0.7615  0.2889 -0.4776  1.0554  1.8224\n",
      "  0.6603 -1.4356 -1.359  -3.1602  0.1864  0.5024 -1.244  -0.1543 -0.6035\n",
      " -5.477  -1.8189 -2.3937  0.3049  0.8183  0.4805  1.6302 -2.2021  1.2923\n",
      "  0.9763 -2.9731 -1.0524 -1.6273  1.6082 -5.2679 -0.169  -1.0774 -3.9605\n",
      " -0.0506 -0.5245 -1.8673 -0.8799 -0.9984  0.5419 -4.5015 -2.1833 -2.3415\n",
      "  0.1275 -0.643  -1.3934  1.4502 -6.9925 -1.7093 -0.8782 -3.4471 -2.0105\n",
      " -0.4137  0.4234 -1.5513 -1.1169 -1.425   0.8973  0.0916 -2.5853 -2.0253\n",
      "  0.0679  0.7788 -0.4139 -3.3518 -3.735  -2.3412 -2.9686  1.0031 -4.3099\n",
      " -0.0844  1.0158 -2.7595  1.3976 -0.406   1.4186 -0.4601 -1.0458 -5.8428\n",
      " -2.0648  0.167   0.7941  1.2121 -3.5434 -6.8009  0.1187  0.585  -3.9266\n",
      " -2.6572 -3.6051 -3.763  -5.686  -1.1291 -0.0167 -2.8152 -1.8278 -5.6512\n",
      "  0.7631 -5.4595  1.0395 -0.4392 -3.1311 -0.5081 -1.4724 -2.3017 -1.6662\n",
      " -1.9463  0.9404 -2.4202 -0.2511  0.7906 -1.9234 -6.6092 -7.3757 -0.1521\n",
      "  1.4003 -0.8045  0.376  -1.8386  0.7657  0.7104 -0.4229]\n"
     ]
    }
   ],
   "source": [
    "for i in df.columns:\n",
    "    print('*'*20,i,'*'*20)\n",
    "    print(df[i].unique())"
   ]
  },
  {
   "cell_type": "markdown",
   "id": "a828d8ff",
   "metadata": {},
   "source": [
    "Observations of the columns(regarding cleaning and missing values):\n",
    "\n",
    "\n",
    "    1. We can see the DOJ,DOL,DOB are given in timestamp format\n",
    "    2. Job city column contains -1 values which are NaN equivalents.\n",
    "    3. 10 board column contain 0 value which is missing value\n",
    "    4. 12 board column contain 0 value which is missing value\n",
    "    5. college state column contain 'union teritory' which is not a specific state\n",
    "    6. Graduation year column contain 0 which is a missing value\n",
    "    7. Domain column contain -1 which is a missing value"
   ]
  },
  {
   "cell_type": "code",
   "execution_count": 227,
   "id": "28c6836d",
   "metadata": {},
   "outputs": [
    {
     "data": {
      "text/html": [
       "<div>\n",
       "<style scoped>\n",
       "    .dataframe tbody tr th:only-of-type {\n",
       "        vertical-align: middle;\n",
       "    }\n",
       "\n",
       "    .dataframe tbody tr th {\n",
       "        vertical-align: top;\n",
       "    }\n",
       "\n",
       "    .dataframe thead th {\n",
       "        text-align: right;\n",
       "    }\n",
       "</style>\n",
       "<table border=\"1\" class=\"dataframe\">\n",
       "  <thead>\n",
       "    <tr style=\"text-align: right;\">\n",
       "      <th></th>\n",
       "      <th>Unnamed: 0</th>\n",
       "      <th>ID</th>\n",
       "      <th>Salary</th>\n",
       "      <th>DOJ</th>\n",
       "      <th>DOL</th>\n",
       "      <th>Designation</th>\n",
       "      <th>JobCity</th>\n",
       "      <th>Gender</th>\n",
       "      <th>DOB</th>\n",
       "      <th>10percentage</th>\n",
       "      <th>...</th>\n",
       "      <th>ComputerScience</th>\n",
       "      <th>MechanicalEngg</th>\n",
       "      <th>ElectricalEngg</th>\n",
       "      <th>TelecomEngg</th>\n",
       "      <th>CivilEngg</th>\n",
       "      <th>conscientiousness</th>\n",
       "      <th>agreeableness</th>\n",
       "      <th>extraversion</th>\n",
       "      <th>nueroticism</th>\n",
       "      <th>openess_to_experience</th>\n",
       "    </tr>\n",
       "  </thead>\n",
       "  <tbody>\n",
       "    <tr>\n",
       "      <th>0</th>\n",
       "      <td>train</td>\n",
       "      <td>203097</td>\n",
       "      <td>420000</td>\n",
       "      <td>2012-06-01</td>\n",
       "      <td>2024-10-03</td>\n",
       "      <td>senior quality engineer</td>\n",
       "      <td>Bangalore</td>\n",
       "      <td>f</td>\n",
       "      <td>1990</td>\n",
       "      <td>84.3</td>\n",
       "      <td>...</td>\n",
       "      <td>-1</td>\n",
       "      <td>-1</td>\n",
       "      <td>-1</td>\n",
       "      <td>-1</td>\n",
       "      <td>-1</td>\n",
       "      <td>0.9737</td>\n",
       "      <td>0.8128</td>\n",
       "      <td>0.5269</td>\n",
       "      <td>1.35490</td>\n",
       "      <td>-0.4455</td>\n",
       "    </tr>\n",
       "    <tr>\n",
       "      <th>1</th>\n",
       "      <td>train</td>\n",
       "      <td>579905</td>\n",
       "      <td>500000</td>\n",
       "      <td>2013-09-01</td>\n",
       "      <td>2024-10-03</td>\n",
       "      <td>assistant manager</td>\n",
       "      <td>Indore</td>\n",
       "      <td>m</td>\n",
       "      <td>1989</td>\n",
       "      <td>85.4</td>\n",
       "      <td>...</td>\n",
       "      <td>-1</td>\n",
       "      <td>-1</td>\n",
       "      <td>-1</td>\n",
       "      <td>-1</td>\n",
       "      <td>-1</td>\n",
       "      <td>-0.7335</td>\n",
       "      <td>0.3789</td>\n",
       "      <td>1.2396</td>\n",
       "      <td>-0.10760</td>\n",
       "      <td>0.8637</td>\n",
       "    </tr>\n",
       "    <tr>\n",
       "      <th>2</th>\n",
       "      <td>train</td>\n",
       "      <td>810601</td>\n",
       "      <td>325000</td>\n",
       "      <td>2014-06-01</td>\n",
       "      <td>2024-10-03</td>\n",
       "      <td>systems engineer</td>\n",
       "      <td>Chennai</td>\n",
       "      <td>f</td>\n",
       "      <td>1992</td>\n",
       "      <td>85.0</td>\n",
       "      <td>...</td>\n",
       "      <td>-1</td>\n",
       "      <td>-1</td>\n",
       "      <td>-1</td>\n",
       "      <td>-1</td>\n",
       "      <td>-1</td>\n",
       "      <td>0.2718</td>\n",
       "      <td>1.7109</td>\n",
       "      <td>0.1637</td>\n",
       "      <td>-0.86820</td>\n",
       "      <td>0.6721</td>\n",
       "    </tr>\n",
       "    <tr>\n",
       "      <th>3</th>\n",
       "      <td>train</td>\n",
       "      <td>267447</td>\n",
       "      <td>1100000</td>\n",
       "      <td>2011-07-01</td>\n",
       "      <td>2024-10-03</td>\n",
       "      <td>senior software engineer</td>\n",
       "      <td>Gurgaon</td>\n",
       "      <td>m</td>\n",
       "      <td>1989</td>\n",
       "      <td>85.6</td>\n",
       "      <td>...</td>\n",
       "      <td>-1</td>\n",
       "      <td>-1</td>\n",
       "      <td>-1</td>\n",
       "      <td>-1</td>\n",
       "      <td>-1</td>\n",
       "      <td>0.0464</td>\n",
       "      <td>0.3448</td>\n",
       "      <td>-0.3440</td>\n",
       "      <td>-0.40780</td>\n",
       "      <td>-0.9194</td>\n",
       "    </tr>\n",
       "    <tr>\n",
       "      <th>4</th>\n",
       "      <td>train</td>\n",
       "      <td>343523</td>\n",
       "      <td>200000</td>\n",
       "      <td>2014-03-01</td>\n",
       "      <td>2015-03-01</td>\n",
       "      <td>get</td>\n",
       "      <td>Manesar</td>\n",
       "      <td>m</td>\n",
       "      <td>1991</td>\n",
       "      <td>78.0</td>\n",
       "      <td>...</td>\n",
       "      <td>-1</td>\n",
       "      <td>-1</td>\n",
       "      <td>-1</td>\n",
       "      <td>-1</td>\n",
       "      <td>-1</td>\n",
       "      <td>-0.8810</td>\n",
       "      <td>-0.2793</td>\n",
       "      <td>-1.0697</td>\n",
       "      <td>0.09163</td>\n",
       "      <td>-0.1295</td>\n",
       "    </tr>\n",
       "  </tbody>\n",
       "</table>\n",
       "<p>5 rows × 39 columns</p>\n",
       "</div>"
      ],
      "text/plain": [
       "  Unnamed: 0      ID   Salary         DOJ         DOL  \\\n",
       "0      train  203097   420000  2012-06-01  2024-10-03   \n",
       "1      train  579905   500000  2013-09-01  2024-10-03   \n",
       "2      train  810601   325000  2014-06-01  2024-10-03   \n",
       "3      train  267447  1100000  2011-07-01  2024-10-03   \n",
       "4      train  343523   200000  2014-03-01  2015-03-01   \n",
       "\n",
       "                Designation    JobCity Gender   DOB  10percentage  ...  \\\n",
       "0   senior quality engineer  Bangalore      f  1990          84.3  ...   \n",
       "1         assistant manager     Indore      m  1989          85.4  ...   \n",
       "2          systems engineer    Chennai      f  1992          85.0  ...   \n",
       "3  senior software engineer    Gurgaon      m  1989          85.6  ...   \n",
       "4                       get    Manesar      m  1991          78.0  ...   \n",
       "\n",
       "  ComputerScience  MechanicalEngg  ElectricalEngg TelecomEngg  CivilEngg  \\\n",
       "0              -1              -1              -1          -1         -1   \n",
       "1              -1              -1              -1          -1         -1   \n",
       "2              -1              -1              -1          -1         -1   \n",
       "3              -1              -1              -1          -1         -1   \n",
       "4              -1              -1              -1          -1         -1   \n",
       "\n",
       "   conscientiousness agreeableness extraversion  nueroticism  \\\n",
       "0             0.9737        0.8128       0.5269      1.35490   \n",
       "1            -0.7335        0.3789       1.2396     -0.10760   \n",
       "2             0.2718        1.7109       0.1637     -0.86820   \n",
       "3             0.0464        0.3448      -0.3440     -0.40780   \n",
       "4            -0.8810       -0.2793      -1.0697      0.09163   \n",
       "\n",
       "   openess_to_experience  \n",
       "0                -0.4455  \n",
       "1                 0.8637  \n",
       "2                 0.6721  \n",
       "3                -0.9194  \n",
       "4                -0.1295  \n",
       "\n",
       "[5 rows x 39 columns]"
      ]
     },
     "execution_count": 227,
     "metadata": {},
     "output_type": "execute_result"
    }
   ],
   "source": [
    "import datetime as dt\n",
    "df[\"DOJ\"]=pd.to_datetime(df[\"DOJ\"]).dt.date\n",
    "df[\"DOL\"].replace(\"present\",dt.datetime.today(),inplace=True)\n",
    "df['DOL'] = pd.to_datetime(df['DOL']).dt.date\n",
    "\n",
    "#dataset['Period'] = pd.to_datetime(dataset[\"DOL\"]).dt.year - pd.to_datetime(dataset['DOJ']).dt.year\n",
    "\n",
    "df['DOB'] = pd.to_datetime(df['DOB']).dt.year\n",
    "df.head(5)"
   ]
  },
  {
   "cell_type": "code",
   "execution_count": 228,
   "id": "32f5b7cd",
   "metadata": {},
   "outputs": [
    {
     "data": {
      "text/plain": [
       "Unnamed: 0                  0\n",
       "ID                          0\n",
       "Salary                      0\n",
       "DOJ                         0\n",
       "DOL                         0\n",
       "Designation                 0\n",
       "JobCity                   461\n",
       "Gender                      0\n",
       "DOB                         0\n",
       "10percentage                0\n",
       "10board                     0\n",
       "12graduation                0\n",
       "12percentage                0\n",
       "12board                     0\n",
       "CollegeID                   0\n",
       "CollegeTier                 0\n",
       "Degree                      0\n",
       "Specialization              0\n",
       "collegeGPA                  0\n",
       "CollegeCityID               0\n",
       "CollegeCityTier             0\n",
       "CollegeState                0\n",
       "GraduationYear              0\n",
       "English                     0\n",
       "Logical                     0\n",
       "Quant                       0\n",
       "Domain                    246\n",
       "ComputerProgramming       868\n",
       "ElectronicsAndSemicon    2854\n",
       "ComputerScience          3096\n",
       "MechanicalEngg           3763\n",
       "ElectricalEngg           3837\n",
       "TelecomEngg              3624\n",
       "CivilEngg                3956\n",
       "conscientiousness           0\n",
       "agreeableness               0\n",
       "extraversion                0\n",
       "nueroticism                 0\n",
       "openess_to_experience       0\n",
       "dtype: int64"
      ]
     },
     "execution_count": 228,
     "metadata": {},
     "output_type": "execute_result"
    }
   ],
   "source": [
    "df.isin([-1, 'NaN']).sum()"
   ]
  },
  {
   "cell_type": "code",
   "execution_count": 229,
   "id": "c9b4471e",
   "metadata": {},
   "outputs": [
    {
     "data": {
      "text/html": [
       "<div>\n",
       "<style scoped>\n",
       "    .dataframe tbody tr th:only-of-type {\n",
       "        vertical-align: middle;\n",
       "    }\n",
       "\n",
       "    .dataframe tbody tr th {\n",
       "        vertical-align: top;\n",
       "    }\n",
       "\n",
       "    .dataframe thead th {\n",
       "        text-align: right;\n",
       "    }\n",
       "</style>\n",
       "<table border=\"1\" class=\"dataframe\">\n",
       "  <thead>\n",
       "    <tr style=\"text-align: right;\">\n",
       "      <th></th>\n",
       "      <th>Designation</th>\n",
       "      <th>JobCity</th>\n",
       "      <th>Salary</th>\n",
       "      <th>Specialization</th>\n",
       "    </tr>\n",
       "  </thead>\n",
       "  <tbody>\n",
       "    <tr>\n",
       "      <th>4</th>\n",
       "      <td>get</td>\n",
       "      <td>Manesar</td>\n",
       "      <td>200000</td>\n",
       "      <td>electronics and communication engineering</td>\n",
       "    </tr>\n",
       "    <tr>\n",
       "      <th>332</th>\n",
       "      <td>get</td>\n",
       "      <td>-1</td>\n",
       "      <td>180000</td>\n",
       "      <td>mechanical and automation</td>\n",
       "    </tr>\n",
       "    <tr>\n",
       "      <th>350</th>\n",
       "      <td>get</td>\n",
       "      <td>Faridabad</td>\n",
       "      <td>340000</td>\n",
       "      <td>electrical engineering</td>\n",
       "    </tr>\n",
       "    <tr>\n",
       "      <th>1717</th>\n",
       "      <td>get</td>\n",
       "      <td>Hyderabad</td>\n",
       "      <td>145000</td>\n",
       "      <td>mechanical engineering</td>\n",
       "    </tr>\n",
       "    <tr>\n",
       "      <th>1897</th>\n",
       "      <td>get</td>\n",
       "      <td>Hyderabad</td>\n",
       "      <td>175000</td>\n",
       "      <td>mechanical engineering</td>\n",
       "    </tr>\n",
       "    <tr>\n",
       "      <th>2140</th>\n",
       "      <td>get</td>\n",
       "      <td>Indore</td>\n",
       "      <td>600000</td>\n",
       "      <td>mechanical engineering</td>\n",
       "    </tr>\n",
       "    <tr>\n",
       "      <th>2318</th>\n",
       "      <td>get</td>\n",
       "      <td>Lucknow</td>\n",
       "      <td>220000</td>\n",
       "      <td>electronics and electrical engineering</td>\n",
       "    </tr>\n",
       "    <tr>\n",
       "      <th>2443</th>\n",
       "      <td>get</td>\n",
       "      <td>kharagpur</td>\n",
       "      <td>110000</td>\n",
       "      <td>mechanical engineering</td>\n",
       "    </tr>\n",
       "    <tr>\n",
       "      <th>2666</th>\n",
       "      <td>get</td>\n",
       "      <td>Hyderabad</td>\n",
       "      <td>200000</td>\n",
       "      <td>electronics and electrical engineering</td>\n",
       "    </tr>\n",
       "    <tr>\n",
       "      <th>2757</th>\n",
       "      <td>get</td>\n",
       "      <td>Nashik</td>\n",
       "      <td>350000</td>\n",
       "      <td>mechanical engineering</td>\n",
       "    </tr>\n",
       "    <tr>\n",
       "      <th>3045</th>\n",
       "      <td>get</td>\n",
       "      <td>Sahibabad</td>\n",
       "      <td>180000</td>\n",
       "      <td>electronics and electrical engineering</td>\n",
       "    </tr>\n",
       "    <tr>\n",
       "      <th>3126</th>\n",
       "      <td>get</td>\n",
       "      <td>Bhopal</td>\n",
       "      <td>1210000</td>\n",
       "      <td>mechanical engineering</td>\n",
       "    </tr>\n",
       "    <tr>\n",
       "      <th>3594</th>\n",
       "      <td>get</td>\n",
       "      <td>MEERUT</td>\n",
       "      <td>280000</td>\n",
       "      <td>mechanical engineering</td>\n",
       "    </tr>\n",
       "    <tr>\n",
       "      <th>3980</th>\n",
       "      <td>get</td>\n",
       "      <td>haryana</td>\n",
       "      <td>150000</td>\n",
       "      <td>mechanical engineering</td>\n",
       "    </tr>\n",
       "  </tbody>\n",
       "</table>\n",
       "</div>"
      ],
      "text/plain": [
       "     Designation    JobCity   Salary  \\\n",
       "4            get    Manesar   200000   \n",
       "332          get         -1   180000   \n",
       "350          get  Faridabad   340000   \n",
       "1717         get  Hyderabad   145000   \n",
       "1897         get  Hyderabad   175000   \n",
       "2140         get     Indore   600000   \n",
       "2318         get    Lucknow   220000   \n",
       "2443         get  kharagpur   110000   \n",
       "2666         get  Hyderabad   200000   \n",
       "2757         get     Nashik   350000   \n",
       "3045         get  Sahibabad   180000   \n",
       "3126         get     Bhopal  1210000   \n",
       "3594         get     MEERUT   280000   \n",
       "3980         get    haryana   150000   \n",
       "\n",
       "                                 Specialization  \n",
       "4     electronics and communication engineering  \n",
       "332                   mechanical and automation  \n",
       "350                      electrical engineering  \n",
       "1717                     mechanical engineering  \n",
       "1897                     mechanical engineering  \n",
       "2140                     mechanical engineering  \n",
       "2318     electronics and electrical engineering  \n",
       "2443                     mechanical engineering  \n",
       "2666     electronics and electrical engineering  \n",
       "2757                     mechanical engineering  \n",
       "3045     electronics and electrical engineering  \n",
       "3126                     mechanical engineering  \n",
       "3594                     mechanical engineering  \n",
       "3980                     mechanical engineering  "
      ]
     },
     "execution_count": 229,
     "metadata": {},
     "output_type": "execute_result"
    }
   ],
   "source": [
    "df[df[\"Designation\"]==\"get\"][['Designation','JobCity','Salary','Specialization']]"
   ]
  },
  {
   "cell_type": "markdown",
   "id": "8d53d376",
   "metadata": {},
   "source": [
    "We can see that most of the unkonwn designations are from ME i.e. Mechanical Engineering"
   ]
  },
  {
   "cell_type": "code",
   "execution_count": 230,
   "id": "090abba5",
   "metadata": {},
   "outputs": [
    {
     "name": "stdout",
     "output_type": "stream",
     "text": [
      "mode for mechanical:  production engineer\n",
      "mode for EEE:  system engineer\n"
     ]
    }
   ],
   "source": [
    "mech = df[df['Specialization'].isin(['mechanical engineering','mechanical and automation'])]['Designation'].mode()[0]\n",
    "eee = df[df['Specialization']==('electronics and electrical engineering')]['Designation'].mode()[0]\n",
    "print(f'mode for mechanical:  {mech}\\nmode for EEE:  {eee}')"
   ]
  },
  {
   "cell_type": "markdown",
   "id": "e30b5367",
   "metadata": {},
   "source": [
    "Replace the mode value of both departments"
   ]
  },
  {
   "cell_type": "code",
   "execution_count": 231,
   "id": "80ecbd9d",
   "metadata": {},
   "outputs": [],
   "source": [
    "df.loc[df['Specialization'].isin(['mechanical engineering','mechanical and automation']),'Designation'].replace('get',mech,inplace=True)\n",
    "\n",
    "df['Designation'].replace('get',eee,inplace=True)"
   ]
  },
  {
   "cell_type": "code",
   "execution_count": 232,
   "id": "cd4756ae",
   "metadata": {},
   "outputs": [],
   "source": [
    "df['JobCity'].replace(-1,'unknown',inplace=True)\n",
    "#df['JobCity'].apply(lambda x:x.title())"
   ]
  },
  {
   "cell_type": "code",
   "execution_count": 233,
   "id": "f74b51ad",
   "metadata": {},
   "outputs": [
    {
     "data": {
      "text/plain": [
       "array(['Bangalore', 'Indore', 'Chennai', 'Gurgaon', 'Manesar',\n",
       "       'Hyderabad', 'Banglore', 'Noida', 'Kolkata', 'Pune', 'unknown',\n",
       "       'mohali', 'Jhansi', 'Delhi', 'Hyderabad ', 'Bangalore ', 'noida',\n",
       "       'delhi', 'Bhubaneswar', 'Navi Mumbai', 'Mumbai', 'New Delhi',\n",
       "       'Mangalore', 'Rewari', 'Gaziabaad', 'Bhiwadi', 'Mysore', 'Rajkot',\n",
       "       'Greater Noida', 'Jaipur', 'noida ', 'HYDERABAD', 'mysore',\n",
       "       'THANE', 'Maharajganj', 'Thiruvananthapuram', 'Punchkula',\n",
       "       'Bhubaneshwar', 'Pune ', 'coimbatore', 'Dhanbad', 'Lucknow',\n",
       "       'Trivandrum', 'kolkata', 'mumbai', 'Gandhi Nagar', 'Una',\n",
       "       'Daman and Diu', 'chennai', 'GURGOAN', 'vsakhapttnam', 'pune',\n",
       "       'Nagpur', 'Bhagalpur', 'new delhi - jaisalmer', 'Coimbatore',\n",
       "       'Ahmedabad', 'Kochi/Cochin', 'Bankura', 'Bengaluru', 'Mysore ',\n",
       "       'Kanpur ', 'jaipur', 'Gurgaon ', 'bangalore', 'CHENNAI',\n",
       "       'Vijayawada', 'Kochi', 'Beawar', 'Alwar', 'NOIDA', 'Greater noida',\n",
       "       'Siliguri ', 'raipur', 'gurgaon', 'Bhopal', 'Faridabad', 'Jodhpur',\n",
       "       'udaipur', 'Muzaffarpur', 'Kolkata`', 'Bulandshahar', 'Haridwar',\n",
       "       'Raigarh', 'Visakhapatnam', 'Jabalpur', 'hyderabad', 'Unnao',\n",
       "       'KOLKATA', 'Thane', 'Aurangabad', 'Belgaum', 'gurgoan', 'Dehradun',\n",
       "       'Rudrapur', 'Jamshedpur', 'vizag', 'Nouda', 'Dharamshala',\n",
       "       'Banagalore', 'Hissar', 'Ranchi', 'BANGALORE', 'Madurai', 'Gurga',\n",
       "       'Chandigarh', 'Australia', ' Chennai', 'CHEYYAR', 'Mumbai ',\n",
       "       'sonepat', 'Ghaziabad', 'Pantnagar', 'Siliguri', 'mumbai ',\n",
       "       'Jagdalpur', 'Chennai ', 'angul', 'Baroda', ' ariyalur', 'Jowai',\n",
       "       'Kochi/Cochin, Chennai and Coimbatore', 'bhubaneswar', 'Neemrana',\n",
       "       'VIZAG', 'Tirupathi', 'Lucknow ', 'Ahmedabad ', 'Bhubneshwar',\n",
       "       'Noida ', 'pune ', 'Calicut', 'Gandhinagar', 'LUCKNOW', 'Dubai',\n",
       "       'bengaluru', 'MUMBAI', 'Ahmednagar', 'Nashik', 'New delhi',\n",
       "       'Bellary', 'Ludhiana', 'New Delhi ', 'Muzaffarnagar', 'BHOPAL',\n",
       "       'Gurgoan', 'Gagret', 'Indirapuram, Ghaziabad', 'Gwalior',\n",
       "       'new delhi', 'TRIVANDRUM', 'Chennai & Mumbai', 'Rajasthan',\n",
       "       'Sonipat', 'Bareli', 'Kanpur', 'Hospete', 'Miryalaguda', ' mumbai',\n",
       "       'Dharuhera', 'lucknow', 'meerut', 'dehradun', 'Ganjam', 'Hubli',\n",
       "       'bangalore ', 'NAVI MUMBAI', 'ncr', 'Agra', 'Trichy',\n",
       "       'kudankulam ,tarapur', 'Ongole', 'Sambalpur', 'Pondicherry',\n",
       "       'Bundi', 'SADULPUR,RAJGARH,DISTT-CHURU,RAJASTHAN', 'AM', 'Bikaner',\n",
       "       'Vadodara', 'BAngalore', 'india', 'Asansol', 'Tirunelvelli',\n",
       "       'Ernakulam', 'DELHI', 'Bilaspur', 'Chandrapur', 'Nanded',\n",
       "       'Dharmapuri', 'Vandavasi', 'Rohtak', 'trivandrum', 'Nagpur ',\n",
       "       'Udaipur', 'Patna', 'banglore', 'indore', 'Salem', 'Nasikcity',\n",
       "       'Gandhinagar ', 'Technopark, Trivandrum', 'Bharuch', 'Tornagallu',\n",
       "       'Raipur', 'Kolkata ', 'Jaspur', 'Burdwan', 'Bhubaneswar ',\n",
       "       'Shimla', 'ahmedabad', 'Gajiabaad', 'Jammu', 'Shahdol',\n",
       "       'Muvattupuzha', 'Al Jubail,Saudi Arabia', 'Kalmar, Sweden',\n",
       "       'Secunderabad', 'A-64,sec-64,noida', 'Ratnagiri', 'Jhajjar',\n",
       "       'Gulbarga', 'hyderabad(bhadurpally)', 'Nalagarh', 'Chandigarh ',\n",
       "       'Jaipur ', 'Jeddah Saudi Arabia', ' Delhi', 'PATNA', 'SHAHDOL',\n",
       "       'Chennai, Bangalore', 'Bhopal ', 'Jamnagar', 'PUNE', 'Tirupati',\n",
       "       'Gonda', 'jamnagar', 'chennai ', 'orissa', 'kharagpur',\n",
       "       'Trivandrum ', 'Navi Mumbai , Hyderabad', 'Joshimath',\n",
       "       'chandigarh', 'Bathinda', 'Johannesburg', 'kala amb ', 'Karnal',\n",
       "       'LONDON', 'Kota', 'Panchkula', 'Baddi HP', 'Nagari',\n",
       "       'Mettur, Tamil Nadu ', 'Durgapur', 'pondi', 'Surat', 'Kurnool',\n",
       "       'kolhapur', 'Madurai ', 'GREATER NOIDA', 'Bhilai', ' Pune',\n",
       "       'hderabad', 'KOTA', 'thane', 'Vizag', 'Bahadurgarh',\n",
       "       'Rayagada, Odisha', 'kakinada', 'GURGAON', 'Varanasi', 'punr',\n",
       "       'Nellore', 'patna', 'Meerut', 'hyderabad ', 'Sahibabad', 'Howrah',\n",
       "       'BHUBANESWAR', 'Trichur', 'Ambala', 'Khopoli', 'keral', 'Roorkee',\n",
       "       'Greater NOIDA', 'Navi mumbai', 'ghaziabad', 'Allahabad',\n",
       "       'Delhi/NCR', 'Panchkula ', 'Ranchi ', 'Jalandhar', 'manesar',\n",
       "       'vapi', 'PILANI', 'muzzafarpur', 'RAS AL KHAIMAH', 'bihar',\n",
       "       'singaruli', 'KANPUR', 'Banglore ', 'pondy', 'Mohali', 'Phagwara',\n",
       "       ' Mumbai', ' bangalore', 'GURAGAON', 'Baripada', 'MEERUT',\n",
       "       'Yamuna Nagar', 'shahibabad', 'sampla', 'Guwahati', 'Rourkela',\n",
       "       'Banaglore', 'Vellore', 'Dausa', 'latur (Maharashtra )',\n",
       "       'NEW DELHI', 'kanpur', 'Mainpuri', 'karnal', 'Dammam', 'Haldia',\n",
       "       'sambalpur', 'RAE BARELI', 'ranchi', 'jAipur', 'BANGLORE',\n",
       "       'Patiala', 'Gorakhpur', 'new dehli', 'BANGALORE ', 'Ambala City',\n",
       "       'Karad', 'Rajpura', 'Pilani', 'haryana', 'Asifabadbanglore'],\n",
       "      dtype=object)"
      ]
     },
     "execution_count": 233,
     "metadata": {},
     "output_type": "execute_result"
    }
   ],
   "source": [
    "df['JobCity'].unique()"
   ]
  },
  {
   "cell_type": "code",
   "execution_count": 234,
   "id": "f49014e4",
   "metadata": {},
   "outputs": [
    {
     "data": {
      "text/html": [
       "<div>\n",
       "<style scoped>\n",
       "    .dataframe tbody tr th:only-of-type {\n",
       "        vertical-align: middle;\n",
       "    }\n",
       "\n",
       "    .dataframe tbody tr th {\n",
       "        vertical-align: top;\n",
       "    }\n",
       "\n",
       "    .dataframe thead th {\n",
       "        text-align: right;\n",
       "    }\n",
       "</style>\n",
       "<table border=\"1\" class=\"dataframe\">\n",
       "  <thead>\n",
       "    <tr style=\"text-align: right;\">\n",
       "      <th></th>\n",
       "      <th>Unnamed: 0</th>\n",
       "      <th>ID</th>\n",
       "      <th>Salary</th>\n",
       "      <th>DOJ</th>\n",
       "      <th>DOL</th>\n",
       "      <th>Designation</th>\n",
       "      <th>JobCity</th>\n",
       "      <th>Gender</th>\n",
       "      <th>DOB</th>\n",
       "      <th>10percentage</th>\n",
       "      <th>...</th>\n",
       "      <th>ComputerScience</th>\n",
       "      <th>MechanicalEngg</th>\n",
       "      <th>ElectricalEngg</th>\n",
       "      <th>TelecomEngg</th>\n",
       "      <th>CivilEngg</th>\n",
       "      <th>conscientiousness</th>\n",
       "      <th>agreeableness</th>\n",
       "      <th>extraversion</th>\n",
       "      <th>nueroticism</th>\n",
       "      <th>openess_to_experience</th>\n",
       "    </tr>\n",
       "  </thead>\n",
       "  <tbody>\n",
       "    <tr>\n",
       "      <th>15</th>\n",
       "      <td>train</td>\n",
       "      <td>536517</td>\n",
       "      <td>350000</td>\n",
       "      <td>2013-08-01</td>\n",
       "      <td>2024-10-03</td>\n",
       "      <td>network engineer</td>\n",
       "      <td>unknown</td>\n",
       "      <td>f</td>\n",
       "      <td>1990</td>\n",
       "      <td>69.54</td>\n",
       "      <td>...</td>\n",
       "      <td>-1</td>\n",
       "      <td>-1</td>\n",
       "      <td>-1</td>\n",
       "      <td>-1</td>\n",
       "      <td>-1</td>\n",
       "      <td>1.7465</td>\n",
       "      <td>1.9048</td>\n",
       "      <td>0.6720</td>\n",
       "      <td>-0.29020</td>\n",
       "      <td>1.2528</td>\n",
       "    </tr>\n",
       "    <tr>\n",
       "      <th>21</th>\n",
       "      <td>train</td>\n",
       "      <td>339689</td>\n",
       "      <td>200000</td>\n",
       "      <td>2012-08-01</td>\n",
       "      <td>2013-12-01</td>\n",
       "      <td>software engineer</td>\n",
       "      <td>unknown</td>\n",
       "      <td>f</td>\n",
       "      <td>1991</td>\n",
       "      <td>75.67</td>\n",
       "      <td>...</td>\n",
       "      <td>-1</td>\n",
       "      <td>-1</td>\n",
       "      <td>-1</td>\n",
       "      <td>-1</td>\n",
       "      <td>-1</td>\n",
       "      <td>-1.0355</td>\n",
       "      <td>-0.5913</td>\n",
       "      <td>-1.3599</td>\n",
       "      <td>0.06223</td>\n",
       "      <td>-1.3539</td>\n",
       "    </tr>\n",
       "    <tr>\n",
       "      <th>39</th>\n",
       "      <td>train</td>\n",
       "      <td>533417</td>\n",
       "      <td>200000</td>\n",
       "      <td>2013-01-01</td>\n",
       "      <td>2013-06-01</td>\n",
       "      <td>management trainee</td>\n",
       "      <td>unknown</td>\n",
       "      <td>m</td>\n",
       "      <td>1991</td>\n",
       "      <td>88.00</td>\n",
       "      <td>...</td>\n",
       "      <td>-1</td>\n",
       "      <td>-1</td>\n",
       "      <td>-1</td>\n",
       "      <td>-1</td>\n",
       "      <td>-1</td>\n",
       "      <td>0.3941</td>\n",
       "      <td>1.2808</td>\n",
       "      <td>0.2366</td>\n",
       "      <td>-2.19980</td>\n",
       "      <td>-0.4455</td>\n",
       "    </tr>\n",
       "    <tr>\n",
       "      <th>77</th>\n",
       "      <td>train</td>\n",
       "      <td>754392</td>\n",
       "      <td>120000</td>\n",
       "      <td>2014-07-01</td>\n",
       "      <td>2024-10-03</td>\n",
       "      <td>test engineer</td>\n",
       "      <td>unknown</td>\n",
       "      <td>m</td>\n",
       "      <td>1992</td>\n",
       "      <td>76.00</td>\n",
       "      <td>...</td>\n",
       "      <td>-1</td>\n",
       "      <td>-1</td>\n",
       "      <td>-1</td>\n",
       "      <td>-1</td>\n",
       "      <td>-1</td>\n",
       "      <td>-0.1590</td>\n",
       "      <td>-0.2871</td>\n",
       "      <td>0.4711</td>\n",
       "      <td>0.27270</td>\n",
       "      <td>-0.4776</td>\n",
       "    </tr>\n",
       "    <tr>\n",
       "      <th>79</th>\n",
       "      <td>train</td>\n",
       "      <td>1089852</td>\n",
       "      <td>100000</td>\n",
       "      <td>2013-08-01</td>\n",
       "      <td>2014-05-01</td>\n",
       "      <td>software developer</td>\n",
       "      <td>unknown</td>\n",
       "      <td>f</td>\n",
       "      <td>1992</td>\n",
       "      <td>86.00</td>\n",
       "      <td>...</td>\n",
       "      <td>-1</td>\n",
       "      <td>-1</td>\n",
       "      <td>-1</td>\n",
       "      <td>-1</td>\n",
       "      <td>-1</td>\n",
       "      <td>0.5591</td>\n",
       "      <td>-0.4536</td>\n",
       "      <td>0.0100</td>\n",
       "      <td>-0.48790</td>\n",
       "      <td>0.6721</td>\n",
       "    </tr>\n",
       "    <tr>\n",
       "      <th>...</th>\n",
       "      <td>...</td>\n",
       "      <td>...</td>\n",
       "      <td>...</td>\n",
       "      <td>...</td>\n",
       "      <td>...</td>\n",
       "      <td>...</td>\n",
       "      <td>...</td>\n",
       "      <td>...</td>\n",
       "      <td>...</td>\n",
       "      <td>...</td>\n",
       "      <td>...</td>\n",
       "      <td>...</td>\n",
       "      <td>...</td>\n",
       "      <td>...</td>\n",
       "      <td>...</td>\n",
       "      <td>...</td>\n",
       "      <td>...</td>\n",
       "      <td>...</td>\n",
       "      <td>...</td>\n",
       "      <td>...</td>\n",
       "      <td>...</td>\n",
       "    </tr>\n",
       "    <tr>\n",
       "      <th>3937</th>\n",
       "      <td>train</td>\n",
       "      <td>385546</td>\n",
       "      <td>205000</td>\n",
       "      <td>2012-10-01</td>\n",
       "      <td>2014-02-01</td>\n",
       "      <td>production engineer</td>\n",
       "      <td>unknown</td>\n",
       "      <td>m</td>\n",
       "      <td>1991</td>\n",
       "      <td>84.80</td>\n",
       "      <td>...</td>\n",
       "      <td>-1</td>\n",
       "      <td>-1</td>\n",
       "      <td>-1</td>\n",
       "      <td>233</td>\n",
       "      <td>-1</td>\n",
       "      <td>0.1623</td>\n",
       "      <td>0.0328</td>\n",
       "      <td>-0.3440</td>\n",
       "      <td>-1.05410</td>\n",
       "      <td>0.5024</td>\n",
       "    </tr>\n",
       "    <tr>\n",
       "      <th>3942</th>\n",
       "      <td>train</td>\n",
       "      <td>1067015</td>\n",
       "      <td>280000</td>\n",
       "      <td>2013-07-01</td>\n",
       "      <td>2024-10-03</td>\n",
       "      <td>software engineer</td>\n",
       "      <td>unknown</td>\n",
       "      <td>m</td>\n",
       "      <td>1990</td>\n",
       "      <td>78.00</td>\n",
       "      <td>...</td>\n",
       "      <td>346</td>\n",
       "      <td>-1</td>\n",
       "      <td>-1</td>\n",
       "      <td>-1</td>\n",
       "      <td>-1</td>\n",
       "      <td>1.7081</td>\n",
       "      <td>-0.9531</td>\n",
       "      <td>0.1637</td>\n",
       "      <td>-1.62890</td>\n",
       "      <td>-0.8608</td>\n",
       "    </tr>\n",
       "    <tr>\n",
       "      <th>3954</th>\n",
       "      <td>train</td>\n",
       "      <td>531726</td>\n",
       "      <td>310000</td>\n",
       "      <td>2014-04-01</td>\n",
       "      <td>2015-04-01</td>\n",
       "      <td>business intelligence analyst</td>\n",
       "      <td>unknown</td>\n",
       "      <td>f</td>\n",
       "      <td>1992</td>\n",
       "      <td>88.40</td>\n",
       "      <td>...</td>\n",
       "      <td>-1</td>\n",
       "      <td>-1</td>\n",
       "      <td>-1</td>\n",
       "      <td>393</td>\n",
       "      <td>-1</td>\n",
       "      <td>0.8192</td>\n",
       "      <td>0.6568</td>\n",
       "      <td>0.9623</td>\n",
       "      <td>-0.29020</td>\n",
       "      <td>0.0679</td>\n",
       "    </tr>\n",
       "    <tr>\n",
       "      <th>3973</th>\n",
       "      <td>train</td>\n",
       "      <td>755067</td>\n",
       "      <td>335000</td>\n",
       "      <td>2013-08-01</td>\n",
       "      <td>2024-10-03</td>\n",
       "      <td>programmer analyst</td>\n",
       "      <td>unknown</td>\n",
       "      <td>m</td>\n",
       "      <td>1990</td>\n",
       "      <td>66.85</td>\n",
       "      <td>...</td>\n",
       "      <td>-1</td>\n",
       "      <td>-1</td>\n",
       "      <td>-1</td>\n",
       "      <td>-1</td>\n",
       "      <td>-1</td>\n",
       "      <td>0.2718</td>\n",
       "      <td>-0.1206</td>\n",
       "      <td>-1.2196</td>\n",
       "      <td>-0.36120</td>\n",
       "      <td>-0.6692</td>\n",
       "    </tr>\n",
       "    <tr>\n",
       "      <th>3974</th>\n",
       "      <td>train</td>\n",
       "      <td>641821</td>\n",
       "      <td>180000</td>\n",
       "      <td>2013-06-01</td>\n",
       "      <td>2014-07-01</td>\n",
       "      <td>quality engineer</td>\n",
       "      <td>unknown</td>\n",
       "      <td>m</td>\n",
       "      <td>1991</td>\n",
       "      <td>70.80</td>\n",
       "      <td>...</td>\n",
       "      <td>-1</td>\n",
       "      <td>-1</td>\n",
       "      <td>-1</td>\n",
       "      <td>-1</td>\n",
       "      <td>-1</td>\n",
       "      <td>-0.0154</td>\n",
       "      <td>-1.1196</td>\n",
       "      <td>0.6248</td>\n",
       "      <td>-0.48790</td>\n",
       "      <td>-1.4356</td>\n",
       "    </tr>\n",
       "  </tbody>\n",
       "</table>\n",
       "<p>461 rows × 39 columns</p>\n",
       "</div>"
      ],
      "text/plain": [
       "     Unnamed: 0       ID  Salary         DOJ         DOL  \\\n",
       "15        train   536517  350000  2013-08-01  2024-10-03   \n",
       "21        train   339689  200000  2012-08-01  2013-12-01   \n",
       "39        train   533417  200000  2013-01-01  2013-06-01   \n",
       "77        train   754392  120000  2014-07-01  2024-10-03   \n",
       "79        train  1089852  100000  2013-08-01  2014-05-01   \n",
       "...         ...      ...     ...         ...         ...   \n",
       "3937      train   385546  205000  2012-10-01  2014-02-01   \n",
       "3942      train  1067015  280000  2013-07-01  2024-10-03   \n",
       "3954      train   531726  310000  2014-04-01  2015-04-01   \n",
       "3973      train   755067  335000  2013-08-01  2024-10-03   \n",
       "3974      train   641821  180000  2013-06-01  2014-07-01   \n",
       "\n",
       "                        Designation  JobCity Gender   DOB  10percentage  ...  \\\n",
       "15                 network engineer  unknown      f  1990         69.54  ...   \n",
       "21                software engineer  unknown      f  1991         75.67  ...   \n",
       "39               management trainee  unknown      m  1991         88.00  ...   \n",
       "77                    test engineer  unknown      m  1992         76.00  ...   \n",
       "79               software developer  unknown      f  1992         86.00  ...   \n",
       "...                             ...      ...    ...   ...           ...  ...   \n",
       "3937            production engineer  unknown      m  1991         84.80  ...   \n",
       "3942              software engineer  unknown      m  1990         78.00  ...   \n",
       "3954  business intelligence analyst  unknown      f  1992         88.40  ...   \n",
       "3973             programmer analyst  unknown      m  1990         66.85  ...   \n",
       "3974               quality engineer  unknown      m  1991         70.80  ...   \n",
       "\n",
       "     ComputerScience  MechanicalEngg  ElectricalEngg TelecomEngg  CivilEngg  \\\n",
       "15                -1              -1              -1          -1         -1   \n",
       "21                -1              -1              -1          -1         -1   \n",
       "39                -1              -1              -1          -1         -1   \n",
       "77                -1              -1              -1          -1         -1   \n",
       "79                -1              -1              -1          -1         -1   \n",
       "...              ...             ...             ...         ...        ...   \n",
       "3937              -1              -1              -1         233         -1   \n",
       "3942             346              -1              -1          -1         -1   \n",
       "3954              -1              -1              -1         393         -1   \n",
       "3973              -1              -1              -1          -1         -1   \n",
       "3974              -1              -1              -1          -1         -1   \n",
       "\n",
       "      conscientiousness agreeableness extraversion  nueroticism  \\\n",
       "15               1.7465        1.9048       0.6720     -0.29020   \n",
       "21              -1.0355       -0.5913      -1.3599      0.06223   \n",
       "39               0.3941        1.2808       0.2366     -2.19980   \n",
       "77              -0.1590       -0.2871       0.4711      0.27270   \n",
       "79               0.5591       -0.4536       0.0100     -0.48790   \n",
       "...                 ...           ...          ...          ...   \n",
       "3937             0.1623        0.0328      -0.3440     -1.05410   \n",
       "3942             1.7081       -0.9531       0.1637     -1.62890   \n",
       "3954             0.8192        0.6568       0.9623     -0.29020   \n",
       "3973             0.2718       -0.1206      -1.2196     -0.36120   \n",
       "3974            -0.0154       -1.1196       0.6248     -0.48790   \n",
       "\n",
       "      openess_to_experience  \n",
       "15                   1.2528  \n",
       "21                  -1.3539  \n",
       "39                  -0.4455  \n",
       "77                  -0.4776  \n",
       "79                   0.6721  \n",
       "...                     ...  \n",
       "3937                 0.5024  \n",
       "3942                -0.8608  \n",
       "3954                 0.0679  \n",
       "3973                -0.6692  \n",
       "3974                -1.4356  \n",
       "\n",
       "[461 rows x 39 columns]"
      ]
     },
     "execution_count": 234,
     "metadata": {},
     "output_type": "execute_result"
    }
   ],
   "source": [
    "df[df[\"JobCity\"]=='unknown']"
   ]
  },
  {
   "cell_type": "code",
   "execution_count": 235,
   "id": "3e6e9f0f",
   "metadata": {},
   "outputs": [
    {
     "data": {
      "text/html": [
       "<div>\n",
       "<style scoped>\n",
       "    .dataframe tbody tr th:only-of-type {\n",
       "        vertical-align: middle;\n",
       "    }\n",
       "\n",
       "    .dataframe tbody tr th {\n",
       "        vertical-align: top;\n",
       "    }\n",
       "\n",
       "    .dataframe thead th {\n",
       "        text-align: right;\n",
       "    }\n",
       "</style>\n",
       "<table border=\"1\" class=\"dataframe\">\n",
       "  <thead>\n",
       "    <tr style=\"text-align: right;\">\n",
       "      <th></th>\n",
       "      <th>Designation</th>\n",
       "      <th>JobCity</th>\n",
       "      <th>Gender</th>\n",
       "      <th>10percentage</th>\n",
       "      <th>10board</th>\n",
       "      <th>12percentage</th>\n",
       "      <th>12board</th>\n",
       "      <th>Degree</th>\n",
       "      <th>Specialization</th>\n",
       "      <th>CollegeState</th>\n",
       "      <th>Specialization</th>\n",
       "    </tr>\n",
       "  </thead>\n",
       "  <tbody>\n",
       "    <tr>\n",
       "      <th>0</th>\n",
       "      <td>software engineer</td>\n",
       "      <td>unknown</td>\n",
       "      <td>m</td>\n",
       "      <td>76.0</td>\n",
       "      <td>cbse</td>\n",
       "      <td>64.0</td>\n",
       "      <td>cbse</td>\n",
       "      <td>B.Tech/B.E.</td>\n",
       "      <td>electronics and communication engineering</td>\n",
       "      <td>Uttar Pradesh</td>\n",
       "      <td>electronics and communication engineering</td>\n",
       "    </tr>\n",
       "    <tr>\n",
       "      <th>1</th>\n",
       "      <td>NaN</td>\n",
       "      <td>NaN</td>\n",
       "      <td>NaN</td>\n",
       "      <td>78.0</td>\n",
       "      <td>NaN</td>\n",
       "      <td>66.0</td>\n",
       "      <td>NaN</td>\n",
       "      <td>NaN</td>\n",
       "      <td>NaN</td>\n",
       "      <td>NaN</td>\n",
       "      <td>NaN</td>\n",
       "    </tr>\n",
       "    <tr>\n",
       "      <th>2</th>\n",
       "      <td>NaN</td>\n",
       "      <td>NaN</td>\n",
       "      <td>NaN</td>\n",
       "      <td>82.0</td>\n",
       "      <td>NaN</td>\n",
       "      <td>NaN</td>\n",
       "      <td>NaN</td>\n",
       "      <td>NaN</td>\n",
       "      <td>NaN</td>\n",
       "      <td>NaN</td>\n",
       "      <td>NaN</td>\n",
       "    </tr>\n",
       "  </tbody>\n",
       "</table>\n",
       "</div>"
      ],
      "text/plain": [
       "         Designation  JobCity Gender  10percentage 10board  12percentage  \\\n",
       "0  software engineer  unknown      m          76.0    cbse          64.0   \n",
       "1                NaN      NaN    NaN          78.0     NaN          66.0   \n",
       "2                NaN      NaN    NaN          82.0     NaN           NaN   \n",
       "\n",
       "  12board       Degree                             Specialization  \\\n",
       "0    cbse  B.Tech/B.E.  electronics and communication engineering   \n",
       "1     NaN          NaN                                        NaN   \n",
       "2     NaN          NaN                                        NaN   \n",
       "\n",
       "    CollegeState                             Specialization  \n",
       "0  Uttar Pradesh  electronics and communication engineering  \n",
       "1            NaN                                        NaN  \n",
       "2            NaN                                        NaN  "
      ]
     },
     "execution_count": 235,
     "metadata": {},
     "output_type": "execute_result"
    }
   ],
   "source": [
    "df[df[\"JobCity\"]==\"unknown\"][[\"Designation\",\"JobCity\",\"Gender\",\"10percentage\",\"10board\",\"12percentage\",\"12board\",\"Degree\",\"Specialization\",\"CollegeState\",\"Specialization\"]].mode()"
   ]
  },
  {
   "cell_type": "code",
   "execution_count": 236,
   "id": "d3a2445d",
   "metadata": {},
   "outputs": [],
   "source": [
    "df[\"JobCity\"].replace(\"Bangalore\",\"Bengaluru\",inplace=True)\n",
    "df[\"JobCity\"].replace(\"Banaglore\",\"Bengaluru\",inplace=True)\n",
    "df[\"JobCity\"].replace(\"Chennai, Bangalore\",\"Bengaluru\",inplace=True)\n",
    "df[\"JobCity\"].replace(\" Bangalore\",\"Bengaluru\",inplace=True)\n",
    "df[\"JobCity\"].replace(\"Bangalore \",\"Bengaluru\",inplace=True)\n",
    "df[\"JobCity\"].replace(\"Banglore\",\"Bengaluru\",inplace=True)\n",
    "df[\"JobCity\"].replace(\"Jaipur \",\"Jaipur\",inplace=True)\n",
    "df[\"JobCity\"].replace(\"Gandhinagar\",\"Gandhi Nagar\",inplace=True)\n",
    "df[\"JobCity\"].replace(\"Bangalore \",\"Bengaluru\",inplace=True)\n",
    "df[\"JobCity\"].replace(\"Jaipur \",\"Jaipur\",inplace=True)\n",
    "df[\"JobCity\"].replace(\"Gandhinagar\",\"Gandhi Nagar\",inplace=True)\n",
    "df[\"JobCity\"].replace(\"Hyderabad \",\"Hyderabad\",inplace=True)\n",
    "df[\"JobCity\"].replace(\"Hyderabad(Bhadurpally)\",\"Hyderabad\",inplace=True)\n",
    "df[\"JobCity\"].replace(\"Bhubaneswar \",\"Bhubaneswar\",inplace=True)\n",
    "df[\"JobCity\"].replace(\"Delhi/Ncr\",\"Delhi\",inplace=True)\n",
    "df[\"JobCity\"].replace(\"Nagpur \",\"Nagpur\",inplace=True)\n",
    "df[\"JobCity\"].replace(\"Pune \",\"Pune\",inplace=True)\n",
    "df[\"JobCity\"].replace(\"Trivandrum \",\"Trivandrum\",inplace=True)\n",
    "df[\"JobCity\"].replace(\"Thiruvananthapuram\",\"Trivandrum\",inplace=True)"
   ]
  },
  {
   "cell_type": "code",
   "execution_count": 237,
   "id": "e26a0698",
   "metadata": {},
   "outputs": [
    {
     "data": {
      "text/plain": [
       "['Bengaluru',\n",
       " 'Bengaluru',\n",
       " 'unknown',\n",
       " 'Noida',\n",
       " 'unknown',\n",
       " 'Noida',\n",
       " 'Bengaluru',\n",
       " 'unknown',\n",
       " 'Bengaluru',\n",
       " 'Bengaluru',\n",
       " 'Noida']"
      ]
     },
     "execution_count": 237,
     "metadata": {},
     "output_type": "execute_result"
    }
   ],
   "source": [
    "best_mode = []\n",
    "best_mode.append(df[df[\"Designation\"]==\"software engineer\"][\"JobCity\"].mode().to_list()[0])\n",
    "best_mode.append(df[df[\"Gender\"]==\"m\"][\"JobCity\"].mode().to_list()[0])\n",
    "best_mode.append(df[df[\"10percentage\"]==76][\"JobCity\"].mode().to_list()[0])\n",
    "best_mode.append(df[df[\"10board\"]==\"cbse\"][\"JobCity\"].mode().to_list()[0])\n",
    "best_mode.append(df[df[\"12percentage\"]==64][\"JobCity\"].mode().to_list()[0])\n",
    "best_mode.append(df[df[\"12board\"]==\"cbse\"][\"JobCity\"].mode().to_list()[0])\n",
    "best_mode.append(df[df[\"collegeGPA\"]==70][\"JobCity\"].mode().to_list()[0])\n",
    "best_mode.append(df[df[\"Salary\"]==200000][\"JobCity\"].mode().to_list()[0])\n",
    "best_mode.append(df[df[\"Degree\"].str.startswith(\"B.Tech/\")][\"JobCity\"].mode().to_list()[0])\n",
    "best_mode.append(df[df[\"Specialization\"].str.startswith(\"electronics and communication eng\")][\"JobCity\"].mode().to_list()[0])\n",
    "best_mode.append(df[df[\"CollegeState\"].str.startswith(\"Uttar Pradesh\")][\"JobCity\"].mode().to_list()[0])\n",
    "best_mode"
   ]
  },
  {
   "cell_type": "code",
   "execution_count": 238,
   "id": "c826d1d8",
   "metadata": {},
   "outputs": [],
   "source": [
    "df[\"JobCity\"].replace(\"unknown\",'Bengaluru',inplace=True)"
   ]
  },
  {
   "cell_type": "code",
   "execution_count": 239,
   "id": "6c197a2f",
   "metadata": {},
   "outputs": [
    {
     "data": {
      "text/plain": [
       "electronics and communication engineering      880\n",
       "computer science & engineering                 744\n",
       "information technology                         660\n",
       "computer engineering                           600\n",
       "computer application                           244\n",
       "mechanical engineering                         201\n",
       "electronics and electrical engineering         196\n",
       "electronics & telecommunications               121\n",
       "electrical engineering                          82\n",
       "electronics & instrumentation eng               32\n",
       "civil engineering                               29\n",
       "electronics and instrumentation engineering     27\n",
       "information science engineering                 27\n",
       "instrumentation and control engineering         20\n",
       "electronics engineering                         19\n",
       "biotechnology                                   15\n",
       "other                                           13\n",
       "industrial & production engineering             10\n",
       "applied electronics and instrumentation          9\n",
       "chemical engineering                             9\n",
       "computer science and technology                  6\n",
       "telecommunication engineering                    6\n",
       "mechanical and automation                        5\n",
       "automobile/automotive engineering                5\n",
       "instrumentation engineering                      4\n",
       "mechatronics                                     4\n",
       "aeronautical engineering                         3\n",
       "electronics and computer engineering             3\n",
       "electrical and power engineering                 2\n",
       "biomedical engineering                           2\n",
       "information & communication technology           2\n",
       "industrial engineering                           2\n",
       "computer science                                 2\n",
       "metallurgical engineering                        2\n",
       "power systems and automation                     1\n",
       "control and instrumentation engineering          1\n",
       "mechanical & production engineering              1\n",
       "embedded systems technology                      1\n",
       "polymer technology                               1\n",
       "computer and communication engineering           1\n",
       "information science                              1\n",
       "internal combustion engine                       1\n",
       "computer networking                              1\n",
       "ceramic engineering                              1\n",
       "electronics                                      1\n",
       "industrial & management engineering              1\n",
       "Name: Specialization, dtype: int64"
      ]
     },
     "execution_count": 239,
     "metadata": {},
     "output_type": "execute_result"
    }
   ],
   "source": [
    "df['Specialization'].value_counts()"
   ]
  },
  {
   "cell_type": "code",
   "execution_count": 240,
   "id": "00e471e7",
   "metadata": {},
   "outputs": [],
   "source": [
    "specialization_map = \\\n",
    "{'electronics and communication engineering' : 'EC',\n",
    " 'computer science & engineering' : 'CS',\n",
    " 'information technology' : 'CS' ,\n",
    " 'computer engineering' : 'CS',\n",
    " 'computer application' : 'CS',\n",
    " 'mechanical engineering' : 'ME',\n",
    " 'electronics and electrical engineering' : 'EC',\n",
    " 'electronics & telecommunications' : 'EC',\n",
    " 'electrical engineering' : 'EL',\n",
    " 'electronics & instrumentation eng' : 'EC',\n",
    " 'civil engineering' : 'CE',\n",
    " 'electronics and instrumentation engineering' : 'EC',\n",
    " 'information science engineering' : 'CS',\n",
    " 'instrumentation and control engineering' : 'EC',\n",
    " 'electronics engineering' : 'EC',\n",
    " 'biotechnology' : 'other',\n",
    " 'other' : 'other',\n",
    " 'industrial & production engineering' : 'other',\n",
    " 'chemical engineering' : 'other',\n",
    " 'applied electronics and instrumentation' : 'EC',\n",
    " 'computer science and technology' : 'CS',\n",
    " 'telecommunication engineering' : 'EC',\n",
    " 'mechanical and automation' : 'ME',\n",
    " 'automobile/automotive engineering' : 'ME',\n",
    " 'instrumentation engineering' : 'EC',\n",
    " 'mechatronics' : 'ME',\n",
    " 'electronics and computer engineering' : 'CS',\n",
    " 'aeronautical engineering' : 'ME',\n",
    " 'computer science' : 'CS',\n",
    " 'metallurgical engineering' : 'other',\n",
    " 'biomedical engineering' : 'other',\n",
    " 'industrial engineering' : 'other',\n",
    " 'information & communication technology' : 'EC',\n",
    " 'electrical and power engineering' : 'EL',\n",
    " 'industrial & management engineering' : 'other',\n",
    " 'computer networking' : 'CS',\n",
    " 'embedded systems technology' : 'EC',\n",
    " 'power systems and automation' : 'EL',\n",
    " 'computer and communication engineering' : 'CS',\n",
    " 'information science' : 'CS',\n",
    " 'internal combustion engine' : 'ME',\n",
    " 'ceramic engineering' : 'other',\n",
    " 'mechanical & production engineering' : 'ME',\n",
    " 'control and instrumentation engineering' : 'EC',\n",
    " 'polymer technology' : 'other',\n",
    " 'electronics' : 'EC'}"
   ]
  },
  {
   "cell_type": "code",
   "execution_count": 241,
   "id": "06e81237",
   "metadata": {},
   "outputs": [],
   "source": [
    "df['Specialization'] = df['Specialization'].map(specialization_map)"
   ]
  },
  {
   "cell_type": "code",
   "execution_count": 242,
   "id": "8da6f79a",
   "metadata": {},
   "outputs": [
    {
     "data": {
      "text/plain": [
       "array(['CS', 'EC', 'ME', 'EL', 'CE', 'other'], dtype=object)"
      ]
     },
     "execution_count": 242,
     "metadata": {},
     "output_type": "execute_result"
    }
   ],
   "source": [
    "df['Specialization'].unique()"
   ]
  },
  {
   "cell_type": "markdown",
   "id": "ca9462ce",
   "metadata": {},
   "source": [
    "### Univariate Analysis "
   ]
  },
  {
   "cell_type": "code",
   "execution_count": 243,
   "id": "172eab18",
   "metadata": {},
   "outputs": [],
   "source": [
    "numerical_df = df.select_dtypes(include=\"number\")"
   ]
  },
  {
   "cell_type": "code",
   "execution_count": 244,
   "id": "a93b3f86",
   "metadata": {},
   "outputs": [
    {
     "data": {
      "text/html": [
       "<div>\n",
       "<style scoped>\n",
       "    .dataframe tbody tr th:only-of-type {\n",
       "        vertical-align: middle;\n",
       "    }\n",
       "\n",
       "    .dataframe tbody tr th {\n",
       "        vertical-align: top;\n",
       "    }\n",
       "\n",
       "    .dataframe thead th {\n",
       "        text-align: right;\n",
       "    }\n",
       "</style>\n",
       "<table border=\"1\" class=\"dataframe\">\n",
       "  <thead>\n",
       "    <tr style=\"text-align: right;\">\n",
       "      <th></th>\n",
       "      <th>ID</th>\n",
       "      <th>Salary</th>\n",
       "      <th>DOB</th>\n",
       "      <th>10percentage</th>\n",
       "      <th>12graduation</th>\n",
       "      <th>12percentage</th>\n",
       "      <th>CollegeID</th>\n",
       "      <th>CollegeTier</th>\n",
       "      <th>collegeGPA</th>\n",
       "      <th>CollegeCityID</th>\n",
       "      <th>...</th>\n",
       "      <th>ComputerScience</th>\n",
       "      <th>MechanicalEngg</th>\n",
       "      <th>ElectricalEngg</th>\n",
       "      <th>TelecomEngg</th>\n",
       "      <th>CivilEngg</th>\n",
       "      <th>conscientiousness</th>\n",
       "      <th>agreeableness</th>\n",
       "      <th>extraversion</th>\n",
       "      <th>nueroticism</th>\n",
       "      <th>openess_to_experience</th>\n",
       "    </tr>\n",
       "  </thead>\n",
       "  <tbody>\n",
       "    <tr>\n",
       "      <th>0</th>\n",
       "      <td>203097</td>\n",
       "      <td>420000</td>\n",
       "      <td>1990</td>\n",
       "      <td>84.30</td>\n",
       "      <td>2007</td>\n",
       "      <td>95.80</td>\n",
       "      <td>1141</td>\n",
       "      <td>2</td>\n",
       "      <td>78.00</td>\n",
       "      <td>1141</td>\n",
       "      <td>...</td>\n",
       "      <td>-1</td>\n",
       "      <td>-1</td>\n",
       "      <td>-1</td>\n",
       "      <td>-1</td>\n",
       "      <td>-1</td>\n",
       "      <td>0.9737</td>\n",
       "      <td>0.8128</td>\n",
       "      <td>0.5269</td>\n",
       "      <td>1.35490</td>\n",
       "      <td>-0.4455</td>\n",
       "    </tr>\n",
       "    <tr>\n",
       "      <th>1</th>\n",
       "      <td>579905</td>\n",
       "      <td>500000</td>\n",
       "      <td>1989</td>\n",
       "      <td>85.40</td>\n",
       "      <td>2007</td>\n",
       "      <td>85.00</td>\n",
       "      <td>5807</td>\n",
       "      <td>2</td>\n",
       "      <td>70.06</td>\n",
       "      <td>5807</td>\n",
       "      <td>...</td>\n",
       "      <td>-1</td>\n",
       "      <td>-1</td>\n",
       "      <td>-1</td>\n",
       "      <td>-1</td>\n",
       "      <td>-1</td>\n",
       "      <td>-0.7335</td>\n",
       "      <td>0.3789</td>\n",
       "      <td>1.2396</td>\n",
       "      <td>-0.10760</td>\n",
       "      <td>0.8637</td>\n",
       "    </tr>\n",
       "    <tr>\n",
       "      <th>2</th>\n",
       "      <td>810601</td>\n",
       "      <td>325000</td>\n",
       "      <td>1992</td>\n",
       "      <td>85.00</td>\n",
       "      <td>2010</td>\n",
       "      <td>68.20</td>\n",
       "      <td>64</td>\n",
       "      <td>2</td>\n",
       "      <td>70.00</td>\n",
       "      <td>64</td>\n",
       "      <td>...</td>\n",
       "      <td>-1</td>\n",
       "      <td>-1</td>\n",
       "      <td>-1</td>\n",
       "      <td>-1</td>\n",
       "      <td>-1</td>\n",
       "      <td>0.2718</td>\n",
       "      <td>1.7109</td>\n",
       "      <td>0.1637</td>\n",
       "      <td>-0.86820</td>\n",
       "      <td>0.6721</td>\n",
       "    </tr>\n",
       "    <tr>\n",
       "      <th>3</th>\n",
       "      <td>267447</td>\n",
       "      <td>1100000</td>\n",
       "      <td>1989</td>\n",
       "      <td>85.60</td>\n",
       "      <td>2007</td>\n",
       "      <td>83.60</td>\n",
       "      <td>6920</td>\n",
       "      <td>1</td>\n",
       "      <td>74.64</td>\n",
       "      <td>6920</td>\n",
       "      <td>...</td>\n",
       "      <td>-1</td>\n",
       "      <td>-1</td>\n",
       "      <td>-1</td>\n",
       "      <td>-1</td>\n",
       "      <td>-1</td>\n",
       "      <td>0.0464</td>\n",
       "      <td>0.3448</td>\n",
       "      <td>-0.3440</td>\n",
       "      <td>-0.40780</td>\n",
       "      <td>-0.9194</td>\n",
       "    </tr>\n",
       "    <tr>\n",
       "      <th>4</th>\n",
       "      <td>343523</td>\n",
       "      <td>200000</td>\n",
       "      <td>1991</td>\n",
       "      <td>78.00</td>\n",
       "      <td>2008</td>\n",
       "      <td>76.80</td>\n",
       "      <td>11368</td>\n",
       "      <td>2</td>\n",
       "      <td>73.90</td>\n",
       "      <td>11368</td>\n",
       "      <td>...</td>\n",
       "      <td>-1</td>\n",
       "      <td>-1</td>\n",
       "      <td>-1</td>\n",
       "      <td>-1</td>\n",
       "      <td>-1</td>\n",
       "      <td>-0.8810</td>\n",
       "      <td>-0.2793</td>\n",
       "      <td>-1.0697</td>\n",
       "      <td>0.09163</td>\n",
       "      <td>-0.1295</td>\n",
       "    </tr>\n",
       "    <tr>\n",
       "      <th>...</th>\n",
       "      <td>...</td>\n",
       "      <td>...</td>\n",
       "      <td>...</td>\n",
       "      <td>...</td>\n",
       "      <td>...</td>\n",
       "      <td>...</td>\n",
       "      <td>...</td>\n",
       "      <td>...</td>\n",
       "      <td>...</td>\n",
       "      <td>...</td>\n",
       "      <td>...</td>\n",
       "      <td>...</td>\n",
       "      <td>...</td>\n",
       "      <td>...</td>\n",
       "      <td>...</td>\n",
       "      <td>...</td>\n",
       "      <td>...</td>\n",
       "      <td>...</td>\n",
       "      <td>...</td>\n",
       "      <td>...</td>\n",
       "      <td>...</td>\n",
       "    </tr>\n",
       "    <tr>\n",
       "      <th>3993</th>\n",
       "      <td>47916</td>\n",
       "      <td>280000</td>\n",
       "      <td>1987</td>\n",
       "      <td>52.09</td>\n",
       "      <td>2006</td>\n",
       "      <td>55.50</td>\n",
       "      <td>6268</td>\n",
       "      <td>2</td>\n",
       "      <td>61.50</td>\n",
       "      <td>6268</td>\n",
       "      <td>...</td>\n",
       "      <td>-1</td>\n",
       "      <td>-1</td>\n",
       "      <td>-1</td>\n",
       "      <td>-1</td>\n",
       "      <td>-1</td>\n",
       "      <td>-0.1082</td>\n",
       "      <td>0.3448</td>\n",
       "      <td>0.2366</td>\n",
       "      <td>0.64980</td>\n",
       "      <td>-0.9194</td>\n",
       "    </tr>\n",
       "    <tr>\n",
       "      <th>3994</th>\n",
       "      <td>752781</td>\n",
       "      <td>100000</td>\n",
       "      <td>1992</td>\n",
       "      <td>90.00</td>\n",
       "      <td>2009</td>\n",
       "      <td>93.00</td>\n",
       "      <td>4883</td>\n",
       "      <td>2</td>\n",
       "      <td>77.30</td>\n",
       "      <td>4883</td>\n",
       "      <td>...</td>\n",
       "      <td>-1</td>\n",
       "      <td>-1</td>\n",
       "      <td>-1</td>\n",
       "      <td>-1</td>\n",
       "      <td>-1</td>\n",
       "      <td>-0.3027</td>\n",
       "      <td>0.8784</td>\n",
       "      <td>0.9322</td>\n",
       "      <td>0.77980</td>\n",
       "      <td>-0.0943</td>\n",
       "    </tr>\n",
       "    <tr>\n",
       "      <th>3995</th>\n",
       "      <td>355888</td>\n",
       "      <td>320000</td>\n",
       "      <td>1991</td>\n",
       "      <td>81.86</td>\n",
       "      <td>2008</td>\n",
       "      <td>65.50</td>\n",
       "      <td>9786</td>\n",
       "      <td>2</td>\n",
       "      <td>70.00</td>\n",
       "      <td>9786</td>\n",
       "      <td>...</td>\n",
       "      <td>-1</td>\n",
       "      <td>-1</td>\n",
       "      <td>-1</td>\n",
       "      <td>-1</td>\n",
       "      <td>-1</td>\n",
       "      <td>-1.5765</td>\n",
       "      <td>-1.5273</td>\n",
       "      <td>-1.5051</td>\n",
       "      <td>-1.31840</td>\n",
       "      <td>-0.7615</td>\n",
       "    </tr>\n",
       "    <tr>\n",
       "      <th>3996</th>\n",
       "      <td>947111</td>\n",
       "      <td>200000</td>\n",
       "      <td>1992</td>\n",
       "      <td>78.72</td>\n",
       "      <td>2010</td>\n",
       "      <td>69.88</td>\n",
       "      <td>979</td>\n",
       "      <td>2</td>\n",
       "      <td>70.42</td>\n",
       "      <td>979</td>\n",
       "      <td>...</td>\n",
       "      <td>438</td>\n",
       "      <td>-1</td>\n",
       "      <td>-1</td>\n",
       "      <td>-1</td>\n",
       "      <td>-1</td>\n",
       "      <td>-0.1590</td>\n",
       "      <td>0.0459</td>\n",
       "      <td>-0.4511</td>\n",
       "      <td>-0.36120</td>\n",
       "      <td>-0.0943</td>\n",
       "    </tr>\n",
       "    <tr>\n",
       "      <th>3997</th>\n",
       "      <td>324966</td>\n",
       "      <td>400000</td>\n",
       "      <td>1991</td>\n",
       "      <td>70.60</td>\n",
       "      <td>2008</td>\n",
       "      <td>68.00</td>\n",
       "      <td>6609</td>\n",
       "      <td>2</td>\n",
       "      <td>68.00</td>\n",
       "      <td>6609</td>\n",
       "      <td>...</td>\n",
       "      <td>-1</td>\n",
       "      <td>-1</td>\n",
       "      <td>-1</td>\n",
       "      <td>-1</td>\n",
       "      <td>-1</td>\n",
       "      <td>-1.1128</td>\n",
       "      <td>-0.2793</td>\n",
       "      <td>-0.6343</td>\n",
       "      <td>1.32553</td>\n",
       "      <td>-0.6035</td>\n",
       "    </tr>\n",
       "  </tbody>\n",
       "</table>\n",
       "<p>3998 rows × 28 columns</p>\n",
       "</div>"
      ],
      "text/plain": [
       "          ID   Salary   DOB  10percentage  12graduation  12percentage  \\\n",
       "0     203097   420000  1990         84.30          2007         95.80   \n",
       "1     579905   500000  1989         85.40          2007         85.00   \n",
       "2     810601   325000  1992         85.00          2010         68.20   \n",
       "3     267447  1100000  1989         85.60          2007         83.60   \n",
       "4     343523   200000  1991         78.00          2008         76.80   \n",
       "...      ...      ...   ...           ...           ...           ...   \n",
       "3993   47916   280000  1987         52.09          2006         55.50   \n",
       "3994  752781   100000  1992         90.00          2009         93.00   \n",
       "3995  355888   320000  1991         81.86          2008         65.50   \n",
       "3996  947111   200000  1992         78.72          2010         69.88   \n",
       "3997  324966   400000  1991         70.60          2008         68.00   \n",
       "\n",
       "      CollegeID  CollegeTier  collegeGPA  CollegeCityID  ...  ComputerScience  \\\n",
       "0          1141            2       78.00           1141  ...               -1   \n",
       "1          5807            2       70.06           5807  ...               -1   \n",
       "2            64            2       70.00             64  ...               -1   \n",
       "3          6920            1       74.64           6920  ...               -1   \n",
       "4         11368            2       73.90          11368  ...               -1   \n",
       "...         ...          ...         ...            ...  ...              ...   \n",
       "3993       6268            2       61.50           6268  ...               -1   \n",
       "3994       4883            2       77.30           4883  ...               -1   \n",
       "3995       9786            2       70.00           9786  ...               -1   \n",
       "3996        979            2       70.42            979  ...              438   \n",
       "3997       6609            2       68.00           6609  ...               -1   \n",
       "\n",
       "      MechanicalEngg  ElectricalEngg  TelecomEngg  CivilEngg  \\\n",
       "0                 -1              -1           -1         -1   \n",
       "1                 -1              -1           -1         -1   \n",
       "2                 -1              -1           -1         -1   \n",
       "3                 -1              -1           -1         -1   \n",
       "4                 -1              -1           -1         -1   \n",
       "...              ...             ...          ...        ...   \n",
       "3993              -1              -1           -1         -1   \n",
       "3994              -1              -1           -1         -1   \n",
       "3995              -1              -1           -1         -1   \n",
       "3996              -1              -1           -1         -1   \n",
       "3997              -1              -1           -1         -1   \n",
       "\n",
       "      conscientiousness  agreeableness  extraversion  nueroticism  \\\n",
       "0                0.9737         0.8128        0.5269      1.35490   \n",
       "1               -0.7335         0.3789        1.2396     -0.10760   \n",
       "2                0.2718         1.7109        0.1637     -0.86820   \n",
       "3                0.0464         0.3448       -0.3440     -0.40780   \n",
       "4               -0.8810        -0.2793       -1.0697      0.09163   \n",
       "...                 ...            ...           ...          ...   \n",
       "3993            -0.1082         0.3448        0.2366      0.64980   \n",
       "3994            -0.3027         0.8784        0.9322      0.77980   \n",
       "3995            -1.5765        -1.5273       -1.5051     -1.31840   \n",
       "3996            -0.1590         0.0459       -0.4511     -0.36120   \n",
       "3997            -1.1128        -0.2793       -0.6343      1.32553   \n",
       "\n",
       "      openess_to_experience  \n",
       "0                   -0.4455  \n",
       "1                    0.8637  \n",
       "2                    0.6721  \n",
       "3                   -0.9194  \n",
       "4                   -0.1295  \n",
       "...                     ...  \n",
       "3993                -0.9194  \n",
       "3994                -0.0943  \n",
       "3995                -0.7615  \n",
       "3996                -0.0943  \n",
       "3997                -0.6035  \n",
       "\n",
       "[3998 rows x 28 columns]"
      ]
     },
     "execution_count": 244,
     "metadata": {},
     "output_type": "execute_result"
    }
   ],
   "source": [
    "numerical_df"
   ]
  },
  {
   "cell_type": "code",
   "execution_count": 245,
   "id": "00800a62",
   "metadata": {},
   "outputs": [
    {
     "data": {
      "text/plain": [
       "Index(['ID', 'Salary', 'DOB', '10percentage', '12graduation', '12percentage',\n",
       "       'CollegeID', 'CollegeTier', 'collegeGPA', 'CollegeCityID',\n",
       "       'CollegeCityTier', 'GraduationYear', 'English', 'Logical', 'Quant',\n",
       "       'Domain', 'ComputerProgramming', 'ElectronicsAndSemicon',\n",
       "       'ComputerScience', 'MechanicalEngg', 'ElectricalEngg', 'TelecomEngg',\n",
       "       'CivilEngg', 'conscientiousness', 'agreeableness', 'extraversion',\n",
       "       'nueroticism', 'openess_to_experience'],\n",
       "      dtype='object')"
      ]
     },
     "execution_count": 245,
     "metadata": {},
     "output_type": "execute_result"
    }
   ],
   "source": [
    "numerical_df.columns"
   ]
  },
  {
   "cell_type": "code",
   "execution_count": 246,
   "id": "e139338a",
   "metadata": {},
   "outputs": [],
   "source": [
    "def numerical_analysis(numerical_data):\n",
    "    for col_name in numerical_data:\n",
    "        print(\"*\"*10,col_name,\"*\"*10)\n",
    "        print(numerical_data[col_name].agg(['min','max','skew','mean','std','kurt','median']))\n",
    "        print()"
   ]
  },
  {
   "cell_type": "code",
   "execution_count": 247,
   "id": "f7930de2",
   "metadata": {},
   "outputs": [
    {
     "name": "stdout",
     "output_type": "stream",
     "text": [
      "********** Salary **********\n",
      "min       3.500000e+04\n",
      "max       4.000000e+06\n",
      "skew      6.451081e+00\n",
      "mean      3.076998e+05\n",
      "std       2.127375e+05\n",
      "kurt      8.093000e+01\n",
      "median    3.000000e+05\n",
      "Name: Salary, dtype: float64\n",
      "\n",
      "********** collegeGPA **********\n",
      "min        6.450000\n",
      "max       99.930000\n",
      "skew      -1.249209\n",
      "mean      71.486171\n",
      "std        8.167338\n",
      "kurt      10.234244\n",
      "median    71.720000\n",
      "Name: collegeGPA, dtype: float64\n",
      "\n"
     ]
    }
   ],
   "source": [
    "numerical_analysis(df[['Salary','collegeGPA']])"
   ]
  },
  {
   "cell_type": "code",
   "execution_count": 248,
   "id": "26591ff9",
   "metadata": {},
   "outputs": [
    {
     "data": {
      "text/plain": [
       "<AxesSubplot:>"
      ]
     },
     "execution_count": 248,
     "metadata": {},
     "output_type": "execute_result"
    },
    {
     "data": {
      "image/png": "[encoded data removed]",
      "text/plain": [
       "<Figure size 432x288 with 1 Axes>"
      ]
     },
     "metadata": {
      "needs_background": "light"
     },
     "output_type": "display_data"
    }
   ],
   "source": [
    "df['Salary'].plot(kind='box')"
   ]
  },
  {
   "cell_type": "code",
   "execution_count": 249,
   "id": "aa35b89d",
   "metadata": {},
   "outputs": [
    {
     "data": {
      "text/plain": [
       "(3998, 39)"
      ]
     },
     "execution_count": 249,
     "metadata": {},
     "output_type": "execute_result"
    }
   ],
   "source": [
    "df.shape"
   ]
  },
  {
   "cell_type": "code",
   "execution_count": 250,
   "id": "b57dfe74",
   "metadata": {},
   "outputs": [
    {
     "data": {
      "text/plain": [
       "(3962, 39)"
      ]
     },
     "execution_count": 250,
     "metadata": {},
     "output_type": "execute_result"
    },
    {
     "data": {
      "image/png": "[encoded data removed]",
      "text/plain": [
       "<Figure size 432x288 with 1 Axes>"
      ]
     },
     "metadata": {
      "needs_background": "light"
     },
     "output_type": "display_data"
    }
   ],
   "source": [
    "df=df[df['Salary']<=1000000]\n",
    "df['Salary'].plot(kind='box')\n",
    "df.shape"
   ]
  },
  {
   "cell_type": "code",
   "execution_count": 251,
   "id": "45e3251e",
   "metadata": {},
   "outputs": [
    {
     "data": {
      "text/plain": [
       "<AxesSubplot:ylabel='Frequency'>"
      ]
     },
     "execution_count": 251,
     "metadata": {},
     "output_type": "execute_result"
    },
    {
     "data": {
      "image/png": "[encoded data removed]",
      "text/plain": [
       "<Figure size 432x288 with 1 Axes>"
      ]
     },
     "metadata": {
      "needs_background": "light"
     },
     "output_type": "display_data"
    }
   ],
   "source": [
    "df['Salary'].plot(kind='hist',bins=5)"
   ]
  },
  {
   "cell_type": "code",
   "execution_count": 252,
   "id": "5382373d",
   "metadata": {},
   "outputs": [
    {
     "data": {
      "text/plain": [
       "<AxesSubplot:ylabel='Density'>"
      ]
     },
     "execution_count": 252,
     "metadata": {},
     "output_type": "execute_result"
    },
    {
     "data": {
      "image/png": "[encoded data removed]",
      "text/plain": [
       "<Figure size 432x288 with 1 Axes>"
      ]
     },
     "metadata": {
      "needs_background": "light"
     },
     "output_type": "display_data"
    }
   ],
   "source": [
    "df['Salary'].plot(kind='kde')"
   ]
  },
  {
   "cell_type": "code",
   "execution_count": 253,
   "id": "27c71b8f",
   "metadata": {},
   "outputs": [
    {
     "data": {
      "text/plain": [
       "<AxesSubplot:>"
      ]
     },
     "execution_count": 253,
     "metadata": {},
     "output_type": "execute_result"
    },
    {
     "data": {
      "image/png": "[encoded data removed]",
      "text/plain": [
       "<Figure size 432x288 with 1 Axes>"
      ]
     },
     "metadata": {
      "needs_background": "light"
     },
     "output_type": "display_data"
    }
   ],
   "source": [
    "df['10percentage'].plot(kind='box')"
   ]
  },
  {
   "cell_type": "code",
   "execution_count": 254,
   "id": "b244be75",
   "metadata": {},
   "outputs": [
    {
     "data": {
      "text/plain": [
       "(3942, 39)"
      ]
     },
     "execution_count": 254,
     "metadata": {},
     "output_type": "execute_result"
    },
    {
     "data": {
      "image/png": "[encoded data removed]",
      "text/plain": [
       "<Figure size 432x288 with 1 Axes>"
      ]
     },
     "metadata": {
      "needs_background": "light"
     },
     "output_type": "display_data"
    }
   ],
   "source": [
    "df=df[df['10percentage']>=50.00]\n",
    "df['10percentage'].plot(kind='box')\n",
    "df.shape"
   ]
  },
  {
   "cell_type": "code",
   "execution_count": 255,
   "id": "abb2980c",
   "metadata": {},
   "outputs": [
    {
     "data": {
      "text/plain": [
       "<AxesSubplot:>"
      ]
     },
     "execution_count": 255,
     "metadata": {},
     "output_type": "execute_result"
    },
    {
     "data": {
      "image/png": "[encoded data removed]",
      "text/plain": [
       "<Figure size 432x288 with 1 Axes>"
      ]
     },
     "metadata": {
      "needs_background": "light"
     },
     "output_type": "display_data"
    }
   ],
   "source": [
    "df['12graduation'].plot(kind='box')"
   ]
  },
  {
   "cell_type": "code",
   "execution_count": 256,
   "id": "b21dde29",
   "metadata": {},
   "outputs": [
    {
     "data": {
      "text/plain": [
       "<AxesSubplot:>"
      ]
     },
     "execution_count": 256,
     "metadata": {},
     "output_type": "execute_result"
    },
    {
     "data": {
      "image/png": "[encoded data removed]",
      "text/plain": [
       "<Figure size 432x288 with 1 Axes>"
      ]
     },
     "metadata": {
      "needs_background": "light"
     },
     "output_type": "display_data"
    }
   ],
   "source": [
    "df['12percentage'].plot(kind='box')"
   ]
  },
  {
   "cell_type": "code",
   "execution_count": 257,
   "id": "d51f8701",
   "metadata": {},
   "outputs": [
    {
     "data": {
      "text/plain": [
       "<AxesSubplot:>"
      ]
     },
     "execution_count": 257,
     "metadata": {},
     "output_type": "execute_result"
    },
    {
     "data": {
      "image/png": "[encoded data removed]",
      "text/plain": [
       "<Figure size 432x288 with 1 Axes>"
      ]
     },
     "metadata": {
      "needs_background": "light"
     },
     "output_type": "display_data"
    }
   ],
   "source": [
    "df['collegeGPA'].plot(kind='box')"
   ]
  },
  {
   "cell_type": "code",
   "execution_count": 258,
   "id": "054f67d3",
   "metadata": {},
   "outputs": [
    {
     "data": {
      "text/plain": [
       "(3930, 39)"
      ]
     },
     "execution_count": 258,
     "metadata": {},
     "output_type": "execute_result"
    },
    {
     "data": {
      "image/png": "[encoded data removed]",
      "text/plain": [
       "<Figure size 432x288 with 1 Axes>"
      ]
     },
     "metadata": {
      "needs_background": "light"
     },
     "output_type": "display_data"
    }
   ],
   "source": [
    "df=df[df['collegeGPA']>=20.00]\n",
    "df['collegeGPA'].plot(kind='box')\n",
    "df.shape"
   ]
  },
  {
   "cell_type": "code",
   "execution_count": 259,
   "id": "74b99887",
   "metadata": {},
   "outputs": [
    {
     "data": {
      "text/plain": [
       "<AxesSubplot:ylabel='Density'>"
      ]
     },
     "execution_count": 259,
     "metadata": {},
     "output_type": "execute_result"
    },
    {
     "data": {
      "image/png": "[encoded data removed]",
      "text/plain": [
       "<Figure size 432x288 with 1 Axes>"
      ]
     },
     "metadata": {
      "needs_background": "light"
     },
     "output_type": "display_data"
    }
   ],
   "source": [
    "df['collegeGPA'].plot(kind='kde')"
   ]
  },
  {
   "cell_type": "code",
   "execution_count": 260,
   "id": "38765589",
   "metadata": {},
   "outputs": [
    {
     "data": {
      "text/plain": [
       "array([ -1, 407, 346, 376, 500, 438, 315, 253, 469, 192, 530, 284, 223,\n",
       "       561, 684, 592, 623, 653, 130, 715], dtype=int64)"
      ]
     },
     "execution_count": 260,
     "metadata": {},
     "output_type": "execute_result"
    }
   ],
   "source": [
    "df['ComputerScience'].unique()"
   ]
  },
  {
   "cell_type": "code",
   "execution_count": 261,
   "id": "00a864d5",
   "metadata": {},
   "outputs": [],
   "source": [
    "categorical_df = df.select_dtypes(include='object')"
   ]
  },
  {
   "cell_type": "code",
   "execution_count": 262,
   "id": "7cef0043",
   "metadata": {},
   "outputs": [
    {
     "data": {
      "text/plain": [
       "Index(['Unnamed: 0', 'DOJ', 'DOL', 'Designation', 'JobCity', 'Gender',\n",
       "       '10board', '12board', 'Degree', 'Specialization', 'CollegeState'],\n",
       "      dtype='object')"
      ]
     },
     "execution_count": 262,
     "metadata": {},
     "output_type": "execute_result"
    }
   ],
   "source": [
    "categorical_df.columns"
   ]
  },
  {
   "cell_type": "code",
   "execution_count": 263,
   "id": "f8dee170",
   "metadata": {},
   "outputs": [],
   "source": [
    "def categorical_analysis(cat_data):\n",
    "    for col_name in cat_data:\n",
    "        print(\"*\"*10,col_name,\"*\"*10)\n",
    "        print(cat_data[col_name].agg(['count','nunique','unique']))\n",
    "        print(\"value counts: \\n\",cat_data[col_name].value_counts(normalize='True'))\n",
    "        print()"
   ]
  },
  {
   "cell_type": "code",
   "execution_count": 264,
   "id": "fb1507d7",
   "metadata": {},
   "outputs": [
    {
     "name": "stdout",
     "output_type": "stream",
     "text": [
      "********** Designation **********\n",
      "count                                                   3930\n",
      "nunique                                                  415\n",
      "unique     [senior quality engineer, assistant manager, s...\n",
      "Name: Designation, dtype: object\n",
      "value counts: \n",
      " software engineer                    0.136387\n",
      "software developer                   0.066412\n",
      "system engineer                      0.055216\n",
      "programmer analyst                   0.035369\n",
      "systems engineer                     0.029771\n",
      "                                       ...   \n",
      "cad drafter                          0.000254\n",
      "noc engineer                         0.000254\n",
      "human resources intern               0.000254\n",
      "senior quality assurance engineer    0.000254\n",
      "jr. software developer               0.000254\n",
      "Name: Designation, Length: 415, dtype: float64\n",
      "\n",
      "********** CollegeState **********\n",
      "count                                                   3930\n",
      "nunique                                                   26\n",
      "unique     [Andhra Pradesh, Madhya Pradesh, Uttar Pradesh...\n",
      "Name: CollegeState, dtype: object\n",
      "value counts: \n",
      " Uttar Pradesh        0.227481\n",
      "Karnataka            0.092366\n",
      "Tamil Nadu           0.091349\n",
      "Telangana            0.080407\n",
      "Maharashtra          0.065394\n",
      "Andhra Pradesh       0.056743\n",
      "West Bengal          0.049364\n",
      "Punjab               0.047837\n",
      "Madhya Pradesh       0.046819\n",
      "Haryana              0.045802\n",
      "Rajasthan            0.043511\n",
      "Orissa               0.043257\n",
      "Delhi                0.040204\n",
      "Uttarakhand          0.028753\n",
      "Kerala               0.008397\n",
      "Jharkhand            0.007125\n",
      "Chhattisgarh         0.006870\n",
      "Gujarat              0.005852\n",
      "Himachal Pradesh     0.004071\n",
      "Bihar                0.002545\n",
      "Jammu and Kashmir    0.001781\n",
      "Assam                0.001272\n",
      "Union Territory      0.001272\n",
      "Sikkim               0.000763\n",
      "Meghalaya            0.000509\n",
      "Goa                  0.000254\n",
      "Name: CollegeState, dtype: float64\n",
      "\n"
     ]
    }
   ],
   "source": [
    "categorical_analysis(df[['Designation','CollegeState']])"
   ]
  },
  {
   "cell_type": "markdown",
   "id": "648b8df7",
   "metadata": {},
   "source": [
    "From this we can conclude that the \"software Engineer\" is most famous and \"UttarPradesh\" has most students"
   ]
  },
  {
   "cell_type": "code",
   "execution_count": 265,
   "id": "3063b68c",
   "metadata": {},
   "outputs": [
    {
     "data": {
      "text/plain": [
       "Uttar Pradesh        894\n",
       "Karnataka            363\n",
       "Tamil Nadu           359\n",
       "Telangana            316\n",
       "Maharashtra          257\n",
       "Andhra Pradesh       223\n",
       "West Bengal          194\n",
       "Punjab               188\n",
       "Madhya Pradesh       184\n",
       "Haryana              180\n",
       "Rajasthan            171\n",
       "Orissa               170\n",
       "Delhi                158\n",
       "Uttarakhand          113\n",
       "Kerala                33\n",
       "Jharkhand             28\n",
       "Chhattisgarh          27\n",
       "Gujarat               23\n",
       "Himachal Pradesh      16\n",
       "Bihar                 10\n",
       "Jammu and Kashmir      7\n",
       "Assam                  5\n",
       "Union Territory        5\n",
       "Sikkim                 3\n",
       "Meghalaya              2\n",
       "Goa                    1\n",
       "Name: CollegeState, dtype: int64"
      ]
     },
     "execution_count": 265,
     "metadata": {},
     "output_type": "execute_result"
    }
   ],
   "source": [
    "df['CollegeState'].value_counts()"
   ]
  },
  {
   "cell_type": "code",
   "execution_count": 266,
   "id": "a601c0c0",
   "metadata": {},
   "outputs": [
    {
     "data": {
      "text/plain": [
       "<AxesSubplot:>"
      ]
     },
     "execution_count": 266,
     "metadata": {},
     "output_type": "execute_result"
    },
    {
     "data": {
      "image/png": "[encoded data removed]",
      "text/plain": [
       "<Figure size 432x288 with 1 Axes>"
      ]
     },
     "metadata": {
      "needs_background": "light"
     },
     "output_type": "display_data"
    }
   ],
   "source": [
    "df[\"CollegeState\"].value_counts().plot(kind='bar')"
   ]
  },
  {
   "cell_type": "markdown",
   "id": "589b9153",
   "metadata": {},
   "source": [
    "The outlier in this particular column is \"sikkim\",\"Meghalaya\",\"Goa\""
   ]
  },
  {
   "cell_type": "code",
   "execution_count": 267,
   "id": "c9e6455e",
   "metadata": {},
   "outputs": [
    {
     "data": {
      "text/plain": [
       "(3914, 39)"
      ]
     },
     "execution_count": 267,
     "metadata": {},
     "output_type": "execute_result"
    }
   ],
   "source": [
    "df=df[~df['CollegeState'].isin(['Sikkim','Meghalaya','Goa','Assam','Union Territory'])]\n",
    "df.shape"
   ]
  },
  {
   "cell_type": "code",
   "execution_count": 268,
   "id": "23e08fa9",
   "metadata": {},
   "outputs": [
    {
     "data": {
      "text/plain": [
       "<AxesSubplot:>"
      ]
     },
     "execution_count": 268,
     "metadata": {},
     "output_type": "execute_result"
    },
    {
     "data": {
      "image/png": "[encoded data removed]",
      "text/plain": [
       "<Figure size 432x288 with 1 Axes>"
      ]
     },
     "metadata": {
      "needs_background": "light"
     },
     "output_type": "display_data"
    }
   ],
   "source": [
    "df[\"CollegeState\"].value_counts().plot(kind='bar')"
   ]
  },
  {
   "cell_type": "code",
   "execution_count": 269,
   "id": "d7571a45",
   "metadata": {},
   "outputs": [
    {
     "data": {
      "text/plain": [
       "<AxesSubplot:>"
      ]
     },
     "execution_count": 269,
     "metadata": {},
     "output_type": "execute_result"
    },
    {
     "data": {
      "image/png": "[encoded data removed]",
      "text/plain": [
       "<Figure size 432x288 with 1 Axes>"
      ]
     },
     "metadata": {
      "needs_background": "light"
     },
     "output_type": "display_data"
    }
   ],
   "source": [
    "df['Specialization'].value_counts().plot(kind='bar')"
   ]
  },
  {
   "cell_type": "markdown",
   "id": "d736508f",
   "metadata": {},
   "source": [
    "Majority of the students enrolled in CS i.e Computer Science Engineering "
   ]
  },
  {
   "cell_type": "code",
   "execution_count": 270,
   "id": "dd35ba5f",
   "metadata": {},
   "outputs": [
    {
     "data": {
      "text/plain": [
       "software engineer           532\n",
       "software developer          261\n",
       "system engineer             217\n",
       "programmer analyst          139\n",
       "systems engineer            117\n",
       "                           ... \n",
       "desktop support engineer      1\n",
       "cad drafter                   1\n",
       "noc engineer                  1\n",
       "human resources intern        1\n",
       "jr. software developer        1\n",
       "Name: Designation, Length: 414, dtype: int64"
      ]
     },
     "execution_count": 270,
     "metadata": {},
     "output_type": "execute_result"
    }
   ],
   "source": [
    "df['Designation'].value_counts()"
   ]
  },
  {
   "cell_type": "code",
   "execution_count": 113,
   "id": "990e188a",
   "metadata": {},
   "outputs": [
    {
     "data": {
      "text/plain": [
       "Uttar Pradesh        894\n",
       "Karnataka            363\n",
       "Tamil Nadu           359\n",
       "Telangana            316\n",
       "Maharashtra          257\n",
       "Andhra Pradesh       223\n",
       "West Bengal          194\n",
       "Punjab               188\n",
       "Madhya Pradesh       184\n",
       "Haryana              180\n",
       "Rajasthan            171\n",
       "Orissa               170\n",
       "Delhi                158\n",
       "Uttarakhand          113\n",
       "Kerala                33\n",
       "Jharkhand             28\n",
       "Chhattisgarh          27\n",
       "Gujarat               23\n",
       "Himachal Pradesh      16\n",
       "Bihar                 10\n",
       "Jammu and Kashmir      7\n",
       "Name: CollegeState, dtype: int64"
      ]
     },
     "execution_count": 113,
     "metadata": {},
     "output_type": "execute_result"
    }
   ],
   "source": [
    "df['CollegeState'].value_counts()"
   ]
  },
  {
   "cell_type": "code",
   "execution_count": 272,
   "id": "e0f78987",
   "metadata": {},
   "outputs": [
    {
     "name": "stdout",
     "output_type": "stream",
     "text": [
      "m    2969\n",
      "f     945\n",
      "Name: Gender, dtype: int64\n"
     ]
    },
    {
     "name": "stderr",
     "output_type": "stream",
     "text": [
      "C:\\Users\\HP\\anaconda3\\lib\\site-packages\\seaborn\\_decorators.py:36: FutureWarning: Pass the following variable as a keyword arg: x. From version 0.12, the only valid positional argument will be `data`, and passing other arguments without an explicit keyword will result in an error or misinterpretation.\n",
      "  warnings.warn(\n"
     ]
    },
    {
     "data": {
      "image/png": "[encoded data removed]",
      "text/plain": [
       "<Figure size 432x288 with 1 Axes>"
      ]
     },
     "metadata": {
      "needs_background": "light"
     },
     "output_type": "display_data"
    }
   ],
   "source": [
    "sns.countplot(df['Gender'])\n",
    "print(df['Gender'].value_counts())"
   ]
  },
  {
   "cell_type": "code",
   "execution_count": null,
   "id": "3ee06500",
   "metadata": {},
   "outputs": [],
   "source": []
  },
  {
   "cell_type": "markdown",
   "id": "13a285ba",
   "metadata": {},
   "source": [
    "## Bivariate Analysis "
   ]
  },
  {
   "cell_type": "markdown",
   "id": "33ca5bc0",
   "metadata": {},
   "source": [
    "###  Numerical vs Numerical"
   ]
  },
  {
   "cell_type": "code",
   "execution_count": 273,
   "id": "bd35bf02",
   "metadata": {},
   "outputs": [
    {
     "data": {
      "text/plain": [
       "Index(['ID', 'Salary', 'DOB', '10percentage', '12graduation', '12percentage',\n",
       "       'CollegeID', 'CollegeTier', 'collegeGPA', 'CollegeCityID',\n",
       "       'CollegeCityTier', 'GraduationYear', 'English', 'Logical', 'Quant',\n",
       "       'Domain', 'ComputerProgramming', 'ElectronicsAndSemicon',\n",
       "       'ComputerScience', 'MechanicalEngg', 'ElectricalEngg', 'TelecomEngg',\n",
       "       'CivilEngg', 'conscientiousness', 'agreeableness', 'extraversion',\n",
       "       'nueroticism', 'openess_to_experience'],\n",
       "      dtype='object')"
      ]
     },
     "execution_count": 273,
     "metadata": {},
     "output_type": "execute_result"
    }
   ],
   "source": [
    "numerical_df.columns"
   ]
  },
  {
   "cell_type": "code",
   "execution_count": 274,
   "id": "234bab52",
   "metadata": {},
   "outputs": [
    {
     "data": {
      "text/plain": [
       "<AxesSubplot:xlabel='collegeGPA', ylabel='Salary'>"
      ]
     },
     "execution_count": 274,
     "metadata": {},
     "output_type": "execute_result"
    },
    {
     "data": {
      "image/png": "[encoded data removed]",
      "text/plain": [
       "<Figure size 432x288 with 1 Axes>"
      ]
     },
     "metadata": {
      "needs_background": "light"
     },
     "output_type": "display_data"
    }
   ],
   "source": [
    "df.plot(kind='scatter',x='collegeGPA',y='Salary')"
   ]
  },
  {
   "cell_type": "markdown",
   "id": "0a7d5ec2",
   "metadata": {},
   "source": [
    "We can say that most of the students having CGPA between 50 to 90 are having an average salary of 1,00,000."
   ]
  },
  {
   "cell_type": "code",
   "execution_count": 275,
   "id": "ce81f7fc",
   "metadata": {},
   "outputs": [
    {
     "data": {
      "text/plain": [
       "<AxesSubplot:xlabel='openess_to_experience', ylabel='Salary'>"
      ]
     },
     "execution_count": 275,
     "metadata": {},
     "output_type": "execute_result"
    },
    {
     "data": {
      "image/png": "[encoded data removed]",
      "text/plain": [
       "<Figure size 432x288 with 1 Axes>"
      ]
     },
     "metadata": {
      "needs_background": "light"
     },
     "output_type": "display_data"
    }
   ],
   "source": [
    "df.plot(kind='scatter',x='openess_to_experience',y='Salary')"
   ]
  },
  {
   "cell_type": "markdown",
   "id": "c6badae6",
   "metadata": {},
   "source": [
    "Those who are freshers and upto 2 years of experinece are having basic salaries from 10,000 to 1,00,000"
   ]
  },
  {
   "cell_type": "code",
   "execution_count": 276,
   "id": "1cd5a9b7",
   "metadata": {},
   "outputs": [
    {
     "data": {
      "text/plain": [
       "<AxesSubplot:xlabel='ComputerScience', ylabel='Salary'>"
      ]
     },
     "execution_count": 276,
     "metadata": {},
     "output_type": "execute_result"
    },
    {
     "data": {
      "image/png": "[encoded data removed]",
      "text/plain": [
       "<Figure size 432x288 with 1 Axes>"
      ]
     },
     "metadata": {
      "needs_background": "light"
     },
     "output_type": "display_data"
    }
   ],
   "source": [
    "df.plot(kind='scatter',x='ComputerScience',y='Salary')"
   ]
  },
  {
   "cell_type": "markdown",
   "id": "aa326898",
   "metadata": {},
   "source": [
    "## Numerical vs Categorical "
   ]
  },
  {
   "cell_type": "code",
   "execution_count": 277,
   "id": "b34dd626",
   "metadata": {},
   "outputs": [
    {
     "data": {
      "text/plain": [
       "<AxesSubplot:title={'center':'Salary'}, xlabel='CollegeState'>"
      ]
     },
     "execution_count": 277,
     "metadata": {},
     "output_type": "execute_result"
    },
    {
     "data": {
      "image/png": "[encoded data removed]",
      "text/plain": [
       "<Figure size 1080x360 with 1 Axes>"
      ]
     },
     "metadata": {
      "needs_background": "light"
     },
     "output_type": "display_data"
    }
   ],
   "source": [
    "df.boxplot(by='CollegeState',column='Salary',figsize=(15,5))"
   ]
  },
  {
   "cell_type": "code",
   "execution_count": 108,
   "id": "fda37534",
   "metadata": {},
   "outputs": [
    {
     "data": {
      "text/plain": [
       "<AxesSubplot:title={'center':'Salary'}, xlabel='Specialization'>"
      ]
     },
     "execution_count": 108,
     "metadata": {},
     "output_type": "execute_result"
    },
    {
     "data": {
      "image/png": "[encoded data removed]",
      "text/plain": [
       "<Figure size 432x288 with 1 Axes>"
      ]
     },
     "metadata": {
      "needs_background": "light"
     },
     "output_type": "display_data"
    }
   ],
   "source": [
    "df.boxplot(by='Specialization',column='Salary')"
   ]
  },
  {
   "cell_type": "code",
   "execution_count": 278,
   "id": "a22b6b48",
   "metadata": {},
   "outputs": [
    {
     "data": {
      "text/plain": [
       "<AxesSubplot:title={'center':'Salary'}, xlabel='Gender'>"
      ]
     },
     "execution_count": 278,
     "metadata": {},
     "output_type": "execute_result"
    },
    {
     "data": {
      "image/png": "[encoded data removed]",
      "text/plain": [
       "<Figure size 432x288 with 1 Axes>"
      ]
     },
     "metadata": {
      "needs_background": "light"
     },
     "output_type": "display_data"
    }
   ],
   "source": [
    "df.boxplot(by='Gender',column='Salary')"
   ]
  },
  {
   "cell_type": "markdown",
   "id": "3f86c059",
   "metadata": {},
   "source": [
    "It is noted that there are many outliers in the salary data\n",
    "\n",
    "\n",
    "We can also observe male have more outliers indicating they are more people getting higher pays in male than female category."
   ]
  },
  {
   "cell_type": "code",
   "execution_count": 280,
   "id": "bd43bf82",
   "metadata": {},
   "outputs": [
    {
     "name": "stdout",
     "output_type": "stream",
     "text": [
      "['software engineer', 'software developer', 'system engineer', 'programmer analyst', 'systems engineer', 'java software engineer', 'software test engineer', 'project engineer', 'technical support engineer', 'senior software engineer', 'java developer', 'test engineer', 'web developer', 'assistant manager', 'network engineer', 'application developer', 'business analyst', 'data analyst', 'android developer', 'associate software engineer']\n"
     ]
    }
   ],
   "source": [
    "popular_Designation = df['Designation'].value_counts()[:20].index.tolist()\n",
    "print(popular_Designation)"
   ]
  },
  {
   "cell_type": "code",
   "execution_count": 283,
   "id": "e8b9ec8e",
   "metadata": {},
   "outputs": [
    {
     "name": "stdout",
     "output_type": "stream",
     "text": [
      "Unique professions : 414\n"
     ]
    }
   ],
   "source": [
    "top_Designations = df[df['Designation'].isin(popular_Designation)]\n",
    "print(f\"Unique professions : {len(df['Designation'].unique())}\")"
   ]
  },
  {
   "cell_type": "code",
   "execution_count": 289,
   "id": "5001e8f3",
   "metadata": {},
   "outputs": [
    {
     "data": {
      "image/png": "[encoded data removed]",
      "text/plain": [
       "<Figure size 1440x720 with 1 Axes>"
      ]
     },
     "metadata": {
      "needs_background": "light"
     },
     "output_type": "display_data"
    }
   ],
   "source": [
    "plt.figure(figsize=(20,10))\n",
    "sns.countplot(x='Designation',hue='Gender',data=top_Designations)\n",
    "plt.xticks(fontsize=30,rotation=90)\n",
    "plt.yticks(fontsize=30)\n",
    "plt.show()"
   ]
  },
  {
   "cell_type": "code",
   "execution_count": 291,
   "id": "5e0802ae",
   "metadata": {},
   "outputs": [
    {
     "data": {
      "text/html": [
       "<div>\n",
       "<style scoped>\n",
       "    .dataframe tbody tr th:only-of-type {\n",
       "        vertical-align: middle;\n",
       "    }\n",
       "\n",
       "    .dataframe tbody tr th {\n",
       "        vertical-align: top;\n",
       "    }\n",
       "\n",
       "    .dataframe thead th {\n",
       "        text-align: right;\n",
       "    }\n",
       "</style>\n",
       "<table border=\"1\" class=\"dataframe\">\n",
       "  <thead>\n",
       "    <tr style=\"text-align: right;\">\n",
       "      <th></th>\n",
       "      <th>Unnamed: 0</th>\n",
       "      <th>ID</th>\n",
       "      <th>Salary</th>\n",
       "      <th>DOJ</th>\n",
       "      <th>DOL</th>\n",
       "      <th>Designation</th>\n",
       "      <th>JobCity</th>\n",
       "      <th>Gender</th>\n",
       "      <th>DOB</th>\n",
       "      <th>10percentage</th>\n",
       "      <th>...</th>\n",
       "      <th>ComputerScience</th>\n",
       "      <th>MechanicalEngg</th>\n",
       "      <th>ElectricalEngg</th>\n",
       "      <th>TelecomEngg</th>\n",
       "      <th>CivilEngg</th>\n",
       "      <th>conscientiousness</th>\n",
       "      <th>agreeableness</th>\n",
       "      <th>extraversion</th>\n",
       "      <th>nueroticism</th>\n",
       "      <th>openess_to_experience</th>\n",
       "    </tr>\n",
       "  </thead>\n",
       "  <tbody>\n",
       "    <tr>\n",
       "      <th>1</th>\n",
       "      <td>train</td>\n",
       "      <td>579905</td>\n",
       "      <td>500000</td>\n",
       "      <td>2013-09-01</td>\n",
       "      <td>2024-10-03</td>\n",
       "      <td>assistant manager</td>\n",
       "      <td>Indore</td>\n",
       "      <td>m</td>\n",
       "      <td>1989</td>\n",
       "      <td>85.4</td>\n",
       "      <td>...</td>\n",
       "      <td>-1</td>\n",
       "      <td>-1</td>\n",
       "      <td>-1</td>\n",
       "      <td>-1</td>\n",
       "      <td>-1</td>\n",
       "      <td>-0.7335</td>\n",
       "      <td>0.3789</td>\n",
       "      <td>1.2396</td>\n",
       "      <td>-0.1076</td>\n",
       "      <td>0.8637</td>\n",
       "    </tr>\n",
       "    <tr>\n",
       "      <th>8</th>\n",
       "      <td>train</td>\n",
       "      <td>552574</td>\n",
       "      <td>600000</td>\n",
       "      <td>2013-07-01</td>\n",
       "      <td>2024-10-03</td>\n",
       "      <td>electrical engineer</td>\n",
       "      <td>Noida</td>\n",
       "      <td>m</td>\n",
       "      <td>1991</td>\n",
       "      <td>90.0</td>\n",
       "      <td>...</td>\n",
       "      <td>-1</td>\n",
       "      <td>-1</td>\n",
       "      <td>-1</td>\n",
       "      <td>-1</td>\n",
       "      <td>-1</td>\n",
       "      <td>-0.1590</td>\n",
       "      <td>0.5454</td>\n",
       "      <td>-0.6048</td>\n",
       "      <td>-0.7415</td>\n",
       "      <td>-0.2859</td>\n",
       "    </tr>\n",
       "    <tr>\n",
       "      <th>13</th>\n",
       "      <td>train</td>\n",
       "      <td>431800</td>\n",
       "      <td>200000</td>\n",
       "      <td>2014-01-01</td>\n",
       "      <td>2024-10-03</td>\n",
       "      <td>qa analyst</td>\n",
       "      <td>Gurgaon</td>\n",
       "      <td>m</td>\n",
       "      <td>1990</td>\n",
       "      <td>60.8</td>\n",
       "      <td>...</td>\n",
       "      <td>-1</td>\n",
       "      <td>-1</td>\n",
       "      <td>-1</td>\n",
       "      <td>-1</td>\n",
       "      <td>-1</td>\n",
       "      <td>0.3555</td>\n",
       "      <td>0.0328</td>\n",
       "      <td>-0.5980</td>\n",
       "      <td>-0.2902</td>\n",
       "      <td>-1.2354</td>\n",
       "    </tr>\n",
       "    <tr>\n",
       "      <th>19</th>\n",
       "      <td>train</td>\n",
       "      <td>466888</td>\n",
       "      <td>325000</td>\n",
       "      <td>2014-09-01</td>\n",
       "      <td>2024-10-03</td>\n",
       "      <td>software engineer</td>\n",
       "      <td>Pune</td>\n",
       "      <td>f</td>\n",
       "      <td>1990</td>\n",
       "      <td>79.0</td>\n",
       "      <td>...</td>\n",
       "      <td>-1</td>\n",
       "      <td>-1</td>\n",
       "      <td>-1</td>\n",
       "      <td>-1</td>\n",
       "      <td>-1</td>\n",
       "      <td>0.8192</td>\n",
       "      <td>0.2668</td>\n",
       "      <td>-0.2714</td>\n",
       "      <td>-0.4078</td>\n",
       "      <td>-0.1295</td>\n",
       "    </tr>\n",
       "    <tr>\n",
       "      <th>20</th>\n",
       "      <td>train</td>\n",
       "      <td>140069</td>\n",
       "      <td>320000</td>\n",
       "      <td>2010-11-01</td>\n",
       "      <td>2012-09-01</td>\n",
       "      <td>software engineer</td>\n",
       "      <td>Bengaluru</td>\n",
       "      <td>f</td>\n",
       "      <td>1988</td>\n",
       "      <td>91.2</td>\n",
       "      <td>...</td>\n",
       "      <td>-1</td>\n",
       "      <td>-1</td>\n",
       "      <td>-1</td>\n",
       "      <td>-1</td>\n",
       "      <td>-1</td>\n",
       "      <td>-0.1082</td>\n",
       "      <td>0.9688</td>\n",
       "      <td>0.5269</td>\n",
       "      <td>-0.2902</td>\n",
       "      <td>0.3444</td>\n",
       "    </tr>\n",
       "  </tbody>\n",
       "</table>\n",
       "<p>5 rows × 39 columns</p>\n",
       "</div>"
      ],
      "text/plain": [
       "   Unnamed: 0      ID  Salary         DOJ         DOL          Designation  \\\n",
       "1       train  579905  500000  2013-09-01  2024-10-03    assistant manager   \n",
       "8       train  552574  600000  2013-07-01  2024-10-03  electrical engineer   \n",
       "13      train  431800  200000  2014-01-01  2024-10-03           qa analyst   \n",
       "19      train  466888  325000  2014-09-01  2024-10-03    software engineer   \n",
       "20      train  140069  320000  2010-11-01  2012-09-01    software engineer   \n",
       "\n",
       "      JobCity Gender   DOB  10percentage  ... ComputerScience  MechanicalEngg  \\\n",
       "1      Indore      m  1989          85.4  ...              -1              -1   \n",
       "8       Noida      m  1991          90.0  ...              -1              -1   \n",
       "13    Gurgaon      m  1990          60.8  ...              -1              -1   \n",
       "19       Pune      f  1990          79.0  ...              -1              -1   \n",
       "20  Bengaluru      f  1988          91.2  ...              -1              -1   \n",
       "\n",
       "    ElectricalEngg TelecomEngg  CivilEngg  conscientiousness agreeableness  \\\n",
       "1               -1          -1         -1            -0.7335        0.3789   \n",
       "8               -1          -1         -1            -0.1590        0.5454   \n",
       "13              -1          -1         -1             0.3555        0.0328   \n",
       "19              -1          -1         -1             0.8192        0.2668   \n",
       "20              -1          -1         -1            -0.1082        0.9688   \n",
       "\n",
       "   extraversion  nueroticism  openess_to_experience  \n",
       "1        1.2396      -0.1076                 0.8637  \n",
       "8       -0.6048      -0.7415                -0.2859  \n",
       "13      -0.5980      -0.2902                -1.2354  \n",
       "19      -0.2714      -0.4078                -0.1295  \n",
       "20       0.5269      -0.2902                 0.3444  \n",
       "\n",
       "[5 rows x 39 columns]"
      ]
     },
     "execution_count": 291,
     "metadata": {},
     "output_type": "execute_result"
    }
   ],
   "source": [
    "high = list(df.sort_values(\"Salary\",ascending=False)[\"Designation\"].unique())[:20]\n",
    "high_pay = df[df['Designation'].isin(high)]\n",
    "high_pay.head()"
   ]
  },
  {
   "cell_type": "code",
   "execution_count": 292,
   "id": "8b1729ba",
   "metadata": {},
   "outputs": [
    {
     "data": {
      "image/png": "[encoded data removed]",
      "text/plain": [
       "<Figure size 1440x720 with 1 Axes>"
      ]
     },
     "metadata": {
      "needs_background": "light"
     },
     "output_type": "display_data"
    }
   ],
   "source": [
    "plt.figure(figsize=(20,10))\n",
    "sns.barplot(x='Designation',y='Salary',hue='Gender',data=high_pay)\n",
    "plt.xticks(fontsize=30,rotation=90)\n",
    "plt.yticks(fontsize=30)\n",
    "plt.show()"
   ]
  },
  {
   "cell_type": "markdown",
   "id": "eeedbde7",
   "metadata": {},
   "source": [
    "1. Most of the high paying jobs are from IT domain.\n",
    "2. In 45% of top paying roles,men are generally paid higher compared to women.\n",
    "3. In 20% of top paying roles,women are paid higher than men\n",
    "4. In roles like junior manager,sales account manager,software engineer trainee there are no women working in these fields.\n",
    "5. Junior manager is highest paying for men and field engineer is the highest paying role for women."
   ]
  },
  {
   "cell_type": "code",
   "execution_count": 296,
   "id": "4b914fdf",
   "metadata": {},
   "outputs": [
    {
     "data": {
      "text/plain": [
       "<AxesSubplot:xlabel='Specialization', ylabel='Salary'>"
      ]
     },
     "execution_count": 296,
     "metadata": {},
     "output_type": "execute_result"
    },
    {
     "data": {
      "image/png": "[encoded data removed]",
      "text/plain": [
       "<Figure size 432x288 with 1 Axes>"
      ]
     },
     "metadata": {
      "needs_background": "light"
     },
     "output_type": "display_data"
    }
   ],
   "source": [
    "sns.barplot(data=df,x='Specialization',y='Salary')"
   ]
  },
  {
   "cell_type": "markdown",
   "id": "3567b480",
   "metadata": {},
   "source": [
    "1. Aspirants from CE Branch earns the highest average pay\n",
    "2. All the other branches earn nearly similar average pay"
   ]
  },
  {
   "cell_type": "code",
   "execution_count": 298,
   "id": "7db6bbd2",
   "metadata": {},
   "outputs": [
    {
     "data": {
      "text/plain": [
       "<AxesSubplot:xlabel='Specialization', ylabel='Salary'>"
      ]
     },
     "execution_count": 298,
     "metadata": {},
     "output_type": "execute_result"
    },
    {
     "data": {
      "image/png": "[encoded data removed]",
      "text/plain": [
       "<Figure size 1440x720 with 1 Axes>"
      ]
     },
     "metadata": {
      "needs_background": "light"
     },
     "output_type": "display_data"
    }
   ],
   "source": [
    "plt.figure(figsize=(20,10))\n",
    "sns.barplot(data=df,x='Specialization',y='Salary',hue='Gender')"
   ]
  },
  {
   "cell_type": "markdown",
   "id": "4f47f32f",
   "metadata": {},
   "source": [
    "1. Men from CS,EC,CE Earn slightly greater than women from this specialization.\n",
    "2. Women from the EL specialization Earns way more than men from same specialization."
   ]
  },
  {
   "cell_type": "markdown",
   "id": "bd26a4a0",
   "metadata": {},
   "source": [
    "#### Research Question"
   ]
  },
  {
   "cell_type": "code",
   "execution_count": 303,
   "id": "0b074499",
   "metadata": {},
   "outputs": [
    {
     "data": {
      "text/plain": [
       "<AxesSubplot:xlabel='Designation', ylabel='Salary'>"
      ]
     },
     "execution_count": 303,
     "metadata": {},
     "output_type": "execute_result"
    },
    {
     "data": {
      "image/png": "[encoded data removed]",
      "text/plain": [
       "<Figure size 1080x360 with 1 Axes>"
      ]
     },
     "metadata": {
      "needs_background": "light"
     },
     "output_type": "display_data"
    }
   ],
   "source": [
    "new=df[(df[\"Designation\"].isin([\"programmer analyst\",\"software engineer\",\"hardware engineer\",\"associate engineer\"]))]\n",
    "plt.figure(figsize=(15,5))\n",
    "sns.barplot(x=\"Designation\",y=\"Salary\",hue=\"Gender\",data=new)"
   ]
  },
  {
   "cell_type": "markdown",
   "id": "406c5c22",
   "metadata": {},
   "source": [
    "Times of India article dated Jan 18, 2019 states that “After doing your Computer Science Engineering if you take up jobs as a Programming Analyst, Software Engineer, Hardware Engineer and Associate Engineer you can earn up to 2.5-3 lakhs as a fresh graduate.”\n",
    "\n",
    "This shows that the Times of India Article is some what true, Because In \"Software engineer\" and \"Programmer Analyst\" the salary is more than 3LPA but in \"Hardware engineer\" and \"Associate engineer\" the salary is upto 3LPA"
   ]
  },
  {
   "cell_type": "code",
   "execution_count": 308,
   "id": "9306b361",
   "metadata": {},
   "outputs": [
    {
     "data": {
      "text/plain": [
       "<AxesSubplot:xlabel='Specialization'>"
      ]
     },
     "execution_count": 308,
     "metadata": {},
     "output_type": "execute_result"
    },
    {
     "data": {
      "image/png": "[encoded data removed]",
      "text/plain": [
       "<Figure size 720x432 with 1 Axes>"
      ]
     },
     "metadata": {
      "needs_background": "light"
     },
     "output_type": "display_data"
    }
   ],
   "source": [
    "crosstab_data = pd.crosstab(df['Specialization'], df['Gender'])\n",
    "\n",
    "crosstab_data.plot(kind='bar', stacked=True, figsize=(10, 6))\n"
   ]
  },
  {
   "cell_type": "markdown",
   "id": "9c73bc2e",
   "metadata": {},
   "source": [
    "Yes, Male students are more in every department\n",
    "\n",
    "1. In CS(Computer Science), more females are enrolled than other departments\n",
    "2. In ME department Males are more"
   ]
  },
  {
   "cell_type": "markdown",
   "id": "a81cfe57",
   "metadata": {},
   "source": [
    "#### Conclusion"
   ]
  },
  {
   "cell_type": "markdown",
   "id": "b7cfd128",
   "metadata": {},
   "source": [
    "1. Highpaying jobs taken up by amcat aspirants are mostly from 'IT' Domain.\n",
    "2. Software Engineer and Software Developer are the most aimed professions."
   ]
  },
  {
   "cell_type": "code",
   "execution_count": null,
   "id": "2776c136",
   "metadata": {},
   "outputs": [],
   "source": []
  }
 ],
 "metadata": {
  "kernelspec": {
   "display_name": "Python 3 (ipykernel)",
   "language": "python",
   "name": "python3"
  },
  "language_info": {
   "codemirror_mode": {
    "name": "ipython",
    "version": 3
   },
   "file_extension": ".py",
   "mimetype": "text/x-python",
   "name": "python",
   "nbconvert_exporter": "python",
   "pygments_lexer": "ipython3",
   "version": "3.9.12"
  }
 },
 "nbformat": 4,
 "nbformat_minor": 5
}
